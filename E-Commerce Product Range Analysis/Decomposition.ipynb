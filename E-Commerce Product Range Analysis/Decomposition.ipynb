{
 "cells": [
  {
   "cell_type": "markdown",
   "id": "026580ed",
   "metadata": {},
   "source": [
    "# E-Commerce Product Range Analysis\n",
    "### <font color=green>Task: Analyze the store's product range</font>\n",
    "### <font color=green>Part I-</font> Getting a general understanding of the data and Preprocessing\n",
    "- General look at the data (change data types)\n",
    "- Deal with missing, duplicated and abnormal data\n",
    "- General calculations to understand the data\n",
    "\n",
    "### <font color=green>Part II-</font> Carrying out exploratory data analysis\n",
    "- Check the quality and look at statistical information of the data\n",
    "- Categorize data (options: overall amount sold, product categories). \n",
    "- Look for relationships and patterns (options: seasonality, time of day of purchases, more products in a category --> more purchases from that category, study revenue for products and categories)\n",
    "\n",
    "### <font color=green>Part III-</font> Analyze the product range\n",
    "- Identify successful and unsuccessful products/categories in term of total sales\n",
    "- Study the cost of products\n",
    "- Identify seasonality of different products/categories\n",
    "\n",
    "### <font color=green>Part IV-</font> Formulate and test statistical hypotheses\n",
    "*Optional hypothesis to test:*\n",
    "- Different categories do better in different times of the year\n",
    "- More products in a category means more sales from that category\n",
    "- Do cheaper items generate more revenue?\n",
    "- Do pricier items generate more revenue?\n",
    "\n",
    "### <font color=green>Part V-</font> Conclusions and suggestions\n",
    "- Overall look at the findings we made\n",
    "- Suggestions derived from the analysis made"
   ]
  }
 ],
 "metadata": {
  "kernelspec": {
   "display_name": "Python 3",
   "language": "python",
   "name": "python3"
  },
  "language_info": {
   "codemirror_mode": {
    "name": "ipython",
    "version": 3
   },
   "file_extension": ".py",
   "mimetype": "text/x-python",
   "name": "python",
   "nbconvert_exporter": "python",
   "pygments_lexer": "ipython3",
   "version": "3.8.8"
  }
 },
 "nbformat": 4,
 "nbformat_minor": 5
}
