{
 "cells": [
  {
   "cell_type": "markdown",
   "metadata": {},
   "source": [
    "# Machine Learning-Analyzing Churn Rate"
   ]
  },
  {
   "cell_type": "markdown",
   "metadata": {},
   "source": [
    "In this project we will study the different aspects that effect the churn rate of customers in the gym chain \"Model Fitness\". We will learn to predict the probability of churn (for the upcoming month) for each customer, draw up typical user portraits: select the most outstanding groups and describe their main features and Draw basic conclusions and develop recommendations on how to improve customer service."
   ]
  },
  {
   "cell_type": "markdown",
   "metadata": {},
   "source": [
    "<a class=\"anchor\" id=\"toc\"></a>"
   ]
  },
  {
   "cell_type": "markdown",
   "metadata": {},
   "source": [
    "### Table of Contents\n",
    "\n",
    "#### 1. [Download the Data](#chapter1)\n",
    "\n",
    "#### 2. [Exploratory Data Analysis](#chapter2)\n",
    "* [Missing Values](#section1)\n",
    "* [Mean Values and Standard Deviation](#section2)\n",
    "* [Mean Feature Values](#section3)\n",
    "* [Histograms and Feature Distributions](#section4)\n",
    "\n",
    "#### 3. [ML Model to predict user churn](#chapter3)\n",
    "* [Logistic Regression](#section5)\n",
    "* [Random Forest](#section6)\n",
    "\n",
    "#### 4. [User clusters](#chapter4)\n",
    "\n",
    "#### 5. [Conclusions and Recommendations](#chapter5)"
   ]
  },
  {
   "cell_type": "code",
   "execution_count": 1,
   "metadata": {},
   "outputs": [],
   "source": [
    "# import libraries\n",
    "import pandas as pd\n",
    "import numpy as np\n",
    "from sklearn.model_selection import train_test_split\n",
    "from sklearn.metrics import accuracy_score, precision_score, recall_score\n",
    "from sklearn.model_selection import GridSearchCV\n",
    "from sklearn.tree import DecisionTreeClassifier\n",
    "from sklearn.ensemble import RandomForestClassifier\n",
    "from sklearn.linear_model import LogisticRegression\n",
    "import matplotlib.pyplot as plt \n",
    "import seaborn as sn\n",
    "from sklearn.preprocessing import StandardScaler\n",
    "from scipy.cluster.hierarchy import dendrogram, linkage\n",
    "from sklearn.cluster import KMeans"
   ]
  },
  {
   "cell_type": "code",
   "execution_count": 2,
   "metadata": {},
   "outputs": [],
   "source": [
    "# ignore warnings\n",
    "import sys\n",
    "import warnings\n",
    "if not sys.warnoptions:\n",
    "       warnings.simplefilter(\"ignore\")"
   ]
  },
  {
   "cell_type": "markdown",
   "metadata": {},
   "source": [
    "<a class=\"anchor\" id=\"chapter1\"></a>"
   ]
  },
  {
   "cell_type": "markdown",
   "metadata": {},
   "source": [
    "### Download the data"
   ]
  },
  {
   "cell_type": "code",
   "execution_count": 3,
   "metadata": {},
   "outputs": [],
   "source": [
    "# open the data file and read general information\n",
    "try:\n",
    "    data = pd.read_csv('gym_churn_us.csv')\n",
    "except:\n",
    "    data = pd.read_csv('/datasets/gym_churn_us.csv')"
   ]
  },
  {
   "cell_type": "markdown",
   "metadata": {},
   "source": [
    "Let's get a general idea about our data"
   ]
  },
  {
   "cell_type": "code",
   "execution_count": 4,
   "metadata": {},
   "outputs": [
    {
     "name": "stdout",
     "output_type": "stream",
     "text": [
      "<class 'pandas.core.frame.DataFrame'>\n",
      "RangeIndex: 4000 entries, 0 to 3999\n",
      "Data columns (total 14 columns):\n",
      "gender                               4000 non-null int64\n",
      "Near_Location                        4000 non-null int64\n",
      "Partner                              4000 non-null int64\n",
      "Promo_friends                        4000 non-null int64\n",
      "Phone                                4000 non-null int64\n",
      "Contract_period                      4000 non-null int64\n",
      "Group_visits                         4000 non-null int64\n",
      "Age                                  4000 non-null int64\n",
      "Avg_additional_charges_total         4000 non-null float64\n",
      "Month_to_end_contract                4000 non-null float64\n",
      "Lifetime                             4000 non-null int64\n",
      "Avg_class_frequency_total            4000 non-null float64\n",
      "Avg_class_frequency_current_month    4000 non-null float64\n",
      "Churn                                4000 non-null int64\n",
      "dtypes: float64(4), int64(10)\n",
      "memory usage: 437.6 KB\n"
     ]
    }
   ],
   "source": [
    "data.info()"
   ]
  },
  {
   "cell_type": "code",
   "execution_count": 5,
   "metadata": {},
   "outputs": [
    {
     "data": {
      "text/html": [
       "<div>\n",
       "<style scoped>\n",
       "    .dataframe tbody tr th:only-of-type {\n",
       "        vertical-align: middle;\n",
       "    }\n",
       "\n",
       "    .dataframe tbody tr th {\n",
       "        vertical-align: top;\n",
       "    }\n",
       "\n",
       "    .dataframe thead th {\n",
       "        text-align: right;\n",
       "    }\n",
       "</style>\n",
       "<table border=\"1\" class=\"dataframe\">\n",
       "  <thead>\n",
       "    <tr style=\"text-align: right;\">\n",
       "      <th></th>\n",
       "      <th>gender</th>\n",
       "      <th>Near_Location</th>\n",
       "      <th>Partner</th>\n",
       "      <th>Promo_friends</th>\n",
       "      <th>Phone</th>\n",
       "      <th>Contract_period</th>\n",
       "      <th>Group_visits</th>\n",
       "      <th>Age</th>\n",
       "      <th>Avg_additional_charges_total</th>\n",
       "      <th>Month_to_end_contract</th>\n",
       "      <th>Lifetime</th>\n",
       "      <th>Avg_class_frequency_total</th>\n",
       "      <th>Avg_class_frequency_current_month</th>\n",
       "      <th>Churn</th>\n",
       "    </tr>\n",
       "  </thead>\n",
       "  <tbody>\n",
       "    <tr>\n",
       "      <td>0</td>\n",
       "      <td>1</td>\n",
       "      <td>1</td>\n",
       "      <td>1</td>\n",
       "      <td>1</td>\n",
       "      <td>0</td>\n",
       "      <td>6</td>\n",
       "      <td>1</td>\n",
       "      <td>29</td>\n",
       "      <td>14.227470</td>\n",
       "      <td>5.0</td>\n",
       "      <td>3</td>\n",
       "      <td>0.020398</td>\n",
       "      <td>0.000000</td>\n",
       "      <td>0</td>\n",
       "    </tr>\n",
       "    <tr>\n",
       "      <td>1</td>\n",
       "      <td>0</td>\n",
       "      <td>1</td>\n",
       "      <td>0</td>\n",
       "      <td>0</td>\n",
       "      <td>1</td>\n",
       "      <td>12</td>\n",
       "      <td>1</td>\n",
       "      <td>31</td>\n",
       "      <td>113.202938</td>\n",
       "      <td>12.0</td>\n",
       "      <td>7</td>\n",
       "      <td>1.922936</td>\n",
       "      <td>1.910244</td>\n",
       "      <td>0</td>\n",
       "    </tr>\n",
       "    <tr>\n",
       "      <td>2</td>\n",
       "      <td>0</td>\n",
       "      <td>1</td>\n",
       "      <td>1</td>\n",
       "      <td>0</td>\n",
       "      <td>1</td>\n",
       "      <td>1</td>\n",
       "      <td>0</td>\n",
       "      <td>28</td>\n",
       "      <td>129.448479</td>\n",
       "      <td>1.0</td>\n",
       "      <td>2</td>\n",
       "      <td>1.859098</td>\n",
       "      <td>1.736502</td>\n",
       "      <td>0</td>\n",
       "    </tr>\n",
       "    <tr>\n",
       "      <td>3</td>\n",
       "      <td>0</td>\n",
       "      <td>1</td>\n",
       "      <td>1</td>\n",
       "      <td>1</td>\n",
       "      <td>1</td>\n",
       "      <td>12</td>\n",
       "      <td>1</td>\n",
       "      <td>33</td>\n",
       "      <td>62.669863</td>\n",
       "      <td>12.0</td>\n",
       "      <td>2</td>\n",
       "      <td>3.205633</td>\n",
       "      <td>3.357215</td>\n",
       "      <td>0</td>\n",
       "    </tr>\n",
       "    <tr>\n",
       "      <td>4</td>\n",
       "      <td>1</td>\n",
       "      <td>1</td>\n",
       "      <td>1</td>\n",
       "      <td>1</td>\n",
       "      <td>1</td>\n",
       "      <td>1</td>\n",
       "      <td>0</td>\n",
       "      <td>26</td>\n",
       "      <td>198.362265</td>\n",
       "      <td>1.0</td>\n",
       "      <td>3</td>\n",
       "      <td>1.113884</td>\n",
       "      <td>1.120078</td>\n",
       "      <td>0</td>\n",
       "    </tr>\n",
       "  </tbody>\n",
       "</table>\n",
       "</div>"
      ],
      "text/plain": [
       "   gender  Near_Location  Partner  Promo_friends  Phone  Contract_period  \\\n",
       "0       1              1        1              1      0                6   \n",
       "1       0              1        0              0      1               12   \n",
       "2       0              1        1              0      1                1   \n",
       "3       0              1        1              1      1               12   \n",
       "4       1              1        1              1      1                1   \n",
       "\n",
       "   Group_visits  Age  Avg_additional_charges_total  Month_to_end_contract  \\\n",
       "0             1   29                     14.227470                    5.0   \n",
       "1             1   31                    113.202938                   12.0   \n",
       "2             0   28                    129.448479                    1.0   \n",
       "3             1   33                     62.669863                   12.0   \n",
       "4             0   26                    198.362265                    1.0   \n",
       "\n",
       "   Lifetime  Avg_class_frequency_total  Avg_class_frequency_current_month  \\\n",
       "0         3                   0.020398                           0.000000   \n",
       "1         7                   1.922936                           1.910244   \n",
       "2         2                   1.859098                           1.736502   \n",
       "3         2                   3.205633                           3.357215   \n",
       "4         3                   1.113884                           1.120078   \n",
       "\n",
       "   Churn  \n",
       "0      0  \n",
       "1      0  \n",
       "2      0  \n",
       "3      0  \n",
       "4      0  "
      ]
     },
     "execution_count": 5,
     "metadata": {},
     "output_type": "execute_result"
    }
   ],
   "source": [
    "data.head()"
   ]
  },
  {
   "cell_type": "code",
   "execution_count": 6,
   "metadata": {},
   "outputs": [
    {
     "data": {
      "text/html": [
       "<div>\n",
       "<style scoped>\n",
       "    .dataframe tbody tr th:only-of-type {\n",
       "        vertical-align: middle;\n",
       "    }\n",
       "\n",
       "    .dataframe tbody tr th {\n",
       "        vertical-align: top;\n",
       "    }\n",
       "\n",
       "    .dataframe thead th {\n",
       "        text-align: right;\n",
       "    }\n",
       "</style>\n",
       "<table border=\"1\" class=\"dataframe\">\n",
       "  <thead>\n",
       "    <tr style=\"text-align: right;\">\n",
       "      <th></th>\n",
       "      <th>gender</th>\n",
       "      <th>Near_Location</th>\n",
       "      <th>Partner</th>\n",
       "      <th>Promo_friends</th>\n",
       "      <th>Phone</th>\n",
       "      <th>Contract_period</th>\n",
       "      <th>Group_visits</th>\n",
       "      <th>Age</th>\n",
       "      <th>Avg_additional_charges_total</th>\n",
       "      <th>Month_to_end_contract</th>\n",
       "      <th>Lifetime</th>\n",
       "      <th>Avg_class_frequency_total</th>\n",
       "      <th>Avg_class_frequency_current_month</th>\n",
       "      <th>Churn</th>\n",
       "    </tr>\n",
       "  </thead>\n",
       "  <tbody>\n",
       "    <tr>\n",
       "      <td>3995</td>\n",
       "      <td>1</td>\n",
       "      <td>1</td>\n",
       "      <td>1</td>\n",
       "      <td>0</td>\n",
       "      <td>1</td>\n",
       "      <td>12</td>\n",
       "      <td>0</td>\n",
       "      <td>33</td>\n",
       "      <td>2.406023</td>\n",
       "      <td>12.0</td>\n",
       "      <td>8</td>\n",
       "      <td>2.284497</td>\n",
       "      <td>2.349070</td>\n",
       "      <td>0</td>\n",
       "    </tr>\n",
       "    <tr>\n",
       "      <td>3996</td>\n",
       "      <td>0</td>\n",
       "      <td>1</td>\n",
       "      <td>0</td>\n",
       "      <td>0</td>\n",
       "      <td>1</td>\n",
       "      <td>1</td>\n",
       "      <td>1</td>\n",
       "      <td>29</td>\n",
       "      <td>68.883764</td>\n",
       "      <td>1.0</td>\n",
       "      <td>1</td>\n",
       "      <td>1.277168</td>\n",
       "      <td>0.292859</td>\n",
       "      <td>1</td>\n",
       "    </tr>\n",
       "    <tr>\n",
       "      <td>3997</td>\n",
       "      <td>1</td>\n",
       "      <td>1</td>\n",
       "      <td>1</td>\n",
       "      <td>1</td>\n",
       "      <td>1</td>\n",
       "      <td>12</td>\n",
       "      <td>0</td>\n",
       "      <td>28</td>\n",
       "      <td>78.250542</td>\n",
       "      <td>11.0</td>\n",
       "      <td>2</td>\n",
       "      <td>2.786146</td>\n",
       "      <td>2.831439</td>\n",
       "      <td>0</td>\n",
       "    </tr>\n",
       "    <tr>\n",
       "      <td>3998</td>\n",
       "      <td>0</td>\n",
       "      <td>1</td>\n",
       "      <td>1</td>\n",
       "      <td>1</td>\n",
       "      <td>1</td>\n",
       "      <td>6</td>\n",
       "      <td>0</td>\n",
       "      <td>32</td>\n",
       "      <td>61.912657</td>\n",
       "      <td>5.0</td>\n",
       "      <td>3</td>\n",
       "      <td>1.630108</td>\n",
       "      <td>1.596237</td>\n",
       "      <td>0</td>\n",
       "    </tr>\n",
       "    <tr>\n",
       "      <td>3999</td>\n",
       "      <td>1</td>\n",
       "      <td>0</td>\n",
       "      <td>1</td>\n",
       "      <td>0</td>\n",
       "      <td>0</td>\n",
       "      <td>12</td>\n",
       "      <td>1</td>\n",
       "      <td>30</td>\n",
       "      <td>178.861814</td>\n",
       "      <td>12.0</td>\n",
       "      <td>1</td>\n",
       "      <td>1.101832</td>\n",
       "      <td>1.035270</td>\n",
       "      <td>0</td>\n",
       "    </tr>\n",
       "  </tbody>\n",
       "</table>\n",
       "</div>"
      ],
      "text/plain": [
       "      gender  Near_Location  Partner  Promo_friends  Phone  Contract_period  \\\n",
       "3995       1              1        1              0      1               12   \n",
       "3996       0              1        0              0      1                1   \n",
       "3997       1              1        1              1      1               12   \n",
       "3998       0              1        1              1      1                6   \n",
       "3999       1              0        1              0      0               12   \n",
       "\n",
       "      Group_visits  Age  Avg_additional_charges_total  Month_to_end_contract  \\\n",
       "3995             0   33                      2.406023                   12.0   \n",
       "3996             1   29                     68.883764                    1.0   \n",
       "3997             0   28                     78.250542                   11.0   \n",
       "3998             0   32                     61.912657                    5.0   \n",
       "3999             1   30                    178.861814                   12.0   \n",
       "\n",
       "      Lifetime  Avg_class_frequency_total  Avg_class_frequency_current_month  \\\n",
       "3995         8                   2.284497                           2.349070   \n",
       "3996         1                   1.277168                           0.292859   \n",
       "3997         2                   2.786146                           2.831439   \n",
       "3998         3                   1.630108                           1.596237   \n",
       "3999         1                   1.101832                           1.035270   \n",
       "\n",
       "      Churn  \n",
       "3995      0  \n",
       "3996      1  \n",
       "3997      0  \n",
       "3998      0  \n",
       "3999      0  "
      ]
     },
     "execution_count": 6,
     "metadata": {},
     "output_type": "execute_result"
    }
   ],
   "source": [
    "data.tail()"
   ]
  },
  {
   "cell_type": "markdown",
   "metadata": {},
   "source": [
    "We can see we have 4000 customers in total in our dataset. We can also see that all of our data is numerical."
   ]
  },
  {
   "cell_type": "markdown",
   "metadata": {},
   "source": [
    "[Back to Table of Contents](#toc)"
   ]
  },
  {
   "cell_type": "markdown",
   "metadata": {},
   "source": [
    "<a class=\"anchor\" id=\"chapter2\"></a>"
   ]
  },
  {
   "cell_type": "markdown",
   "metadata": {},
   "source": [
    "### Exploratory Data Analysis"
   ]
  },
  {
   "cell_type": "markdown",
   "metadata": {},
   "source": [
    "<a class=\"anchor\" id=\"section1\"></a>"
   ]
  },
  {
   "cell_type": "markdown",
   "metadata": {},
   "source": [
    "#### Missing Values\n",
    "We can see from the info() function that our data doesn't have any missing values in any of the columns."
   ]
  },
  {
   "cell_type": "markdown",
   "metadata": {},
   "source": [
    "[Back to Table of Contents](#toc)"
   ]
  },
  {
   "cell_type": "markdown",
   "metadata": {},
   "source": [
    "<a class=\"anchor\" id=\"section2\"></a>"
   ]
  },
  {
   "cell_type": "markdown",
   "metadata": {},
   "source": [
    "#### Mean Values and Standard Deviation"
   ]
  },
  {
   "cell_type": "code",
   "execution_count": 7,
   "metadata": {},
   "outputs": [
    {
     "data": {
      "text/html": [
       "<div>\n",
       "<style scoped>\n",
       "    .dataframe tbody tr th:only-of-type {\n",
       "        vertical-align: middle;\n",
       "    }\n",
       "\n",
       "    .dataframe tbody tr th {\n",
       "        vertical-align: top;\n",
       "    }\n",
       "\n",
       "    .dataframe thead th {\n",
       "        text-align: right;\n",
       "    }\n",
       "</style>\n",
       "<table border=\"1\" class=\"dataframe\">\n",
       "  <thead>\n",
       "    <tr style=\"text-align: right;\">\n",
       "      <th></th>\n",
       "      <th>Age</th>\n",
       "      <th>Avg_additional_charges_total</th>\n",
       "      <th>Lifetime</th>\n",
       "      <th>Avg_class_frequency_total</th>\n",
       "      <th>Avg_class_frequency_current_month</th>\n",
       "    </tr>\n",
       "  </thead>\n",
       "  <tbody>\n",
       "    <tr>\n",
       "      <td>count</td>\n",
       "      <td>4000.000000</td>\n",
       "      <td>4000.000000</td>\n",
       "      <td>4000.000000</td>\n",
       "      <td>4000.000000</td>\n",
       "      <td>4000.000000</td>\n",
       "    </tr>\n",
       "    <tr>\n",
       "      <td>mean</td>\n",
       "      <td>29.184250</td>\n",
       "      <td>146.943728</td>\n",
       "      <td>3.724750</td>\n",
       "      <td>1.879020</td>\n",
       "      <td>1.767052</td>\n",
       "    </tr>\n",
       "    <tr>\n",
       "      <td>std</td>\n",
       "      <td>3.258367</td>\n",
       "      <td>96.355602</td>\n",
       "      <td>3.749267</td>\n",
       "      <td>0.972245</td>\n",
       "      <td>1.052906</td>\n",
       "    </tr>\n",
       "    <tr>\n",
       "      <td>min</td>\n",
       "      <td>18.000000</td>\n",
       "      <td>0.148205</td>\n",
       "      <td>0.000000</td>\n",
       "      <td>0.000000</td>\n",
       "      <td>0.000000</td>\n",
       "    </tr>\n",
       "    <tr>\n",
       "      <td>25%</td>\n",
       "      <td>27.000000</td>\n",
       "      <td>68.868830</td>\n",
       "      <td>1.000000</td>\n",
       "      <td>1.180875</td>\n",
       "      <td>0.963003</td>\n",
       "    </tr>\n",
       "    <tr>\n",
       "      <td>50%</td>\n",
       "      <td>29.000000</td>\n",
       "      <td>136.220159</td>\n",
       "      <td>3.000000</td>\n",
       "      <td>1.832768</td>\n",
       "      <td>1.719574</td>\n",
       "    </tr>\n",
       "    <tr>\n",
       "      <td>75%</td>\n",
       "      <td>31.000000</td>\n",
       "      <td>210.949625</td>\n",
       "      <td>5.000000</td>\n",
       "      <td>2.536078</td>\n",
       "      <td>2.510336</td>\n",
       "    </tr>\n",
       "    <tr>\n",
       "      <td>max</td>\n",
       "      <td>41.000000</td>\n",
       "      <td>552.590740</td>\n",
       "      <td>31.000000</td>\n",
       "      <td>6.023668</td>\n",
       "      <td>6.146783</td>\n",
       "    </tr>\n",
       "  </tbody>\n",
       "</table>\n",
       "</div>"
      ],
      "text/plain": [
       "               Age  Avg_additional_charges_total     Lifetime  \\\n",
       "count  4000.000000                   4000.000000  4000.000000   \n",
       "mean     29.184250                    146.943728     3.724750   \n",
       "std       3.258367                     96.355602     3.749267   \n",
       "min      18.000000                      0.148205     0.000000   \n",
       "25%      27.000000                     68.868830     1.000000   \n",
       "50%      29.000000                    136.220159     3.000000   \n",
       "75%      31.000000                    210.949625     5.000000   \n",
       "max      41.000000                    552.590740    31.000000   \n",
       "\n",
       "       Avg_class_frequency_total  Avg_class_frequency_current_month  \n",
       "count                4000.000000                        4000.000000  \n",
       "mean                    1.879020                           1.767052  \n",
       "std                     0.972245                           1.052906  \n",
       "min                     0.000000                           0.000000  \n",
       "25%                     1.180875                           0.963003  \n",
       "50%                     1.832768                           1.719574  \n",
       "75%                     2.536078                           2.510336  \n",
       "max                     6.023668                           6.146783  "
      ]
     },
     "execution_count": 7,
     "metadata": {},
     "output_type": "execute_result"
    }
   ],
   "source": [
    "data[\n",
    "    [\n",
    "        \"Age\",\n",
    "        \"Avg_additional_charges_total\",\n",
    "        \"Lifetime\",\n",
    "        \"Avg_class_frequency_total\",\n",
    "        \"Avg_class_frequency_current_month\",\n",
    "    ]\n",
    "].describe()\n"
   ]
  },
  {
   "cell_type": "markdown",
   "metadata": {},
   "source": [
    "We can see a few things:\n",
    "1) 'Age' column: The mean and median are pretty close so we can say that the data in this column is not skewed. About 68% of customers are about 26-32 years old.\n",
    "\n",
    "2) 'Avg_additional_charges_total' column: We can see that the mean is larger then the median so we can say that the data in this column is positivly skewed. This means we might have some small outliers that pull the distribution to the right.\n",
    "\n",
    "3) 'Lifetime' column: The mean and median are pretty close so we can say that the data is not skewed. About 68% of the customers have accounts for about 0-7 months.\n",
    "\n",
    "4) 'Avg_class_frequency_total' column: The mean and median are close so we can say that the data is not skewed. About 68% of customers visited the gym about 1-3 times a week over their account lifetime.\n",
    "\n",
    "5) 'Avg_class_frequency_current_month' column: The mean and median are close so we can say that the data is not skewed. About 68% of customers visited the gym about 1-3 times a week last month."
   ]
  },
  {
   "cell_type": "markdown",
   "metadata": {},
   "source": [
    "[Back to Table of Contents](#toc)"
   ]
  },
  {
   "cell_type": "markdown",
   "metadata": {},
   "source": [
    "<a class=\"anchor\" id=\"section3\"></a>"
   ]
  },
  {
   "cell_type": "markdown",
   "metadata": {},
   "source": [
    "#### Mean Feature Values"
   ]
  },
  {
   "cell_type": "code",
   "execution_count": 8,
   "metadata": {},
   "outputs": [
    {
     "data": {
      "text/html": [
       "<div>\n",
       "<style scoped>\n",
       "    .dataframe tbody tr th:only-of-type {\n",
       "        vertical-align: middle;\n",
       "    }\n",
       "\n",
       "    .dataframe tbody tr th {\n",
       "        vertical-align: top;\n",
       "    }\n",
       "\n",
       "    .dataframe thead th {\n",
       "        text-align: right;\n",
       "    }\n",
       "</style>\n",
       "<table border=\"1\" class=\"dataframe\">\n",
       "  <thead>\n",
       "    <tr style=\"text-align: right;\">\n",
       "      <th></th>\n",
       "      <th>gender</th>\n",
       "      <th>Near_Location</th>\n",
       "      <th>Partner</th>\n",
       "      <th>Promo_friends</th>\n",
       "      <th>Phone</th>\n",
       "      <th>Contract_period</th>\n",
       "      <th>Group_visits</th>\n",
       "      <th>Age</th>\n",
       "      <th>Avg_additional_charges_total</th>\n",
       "      <th>Month_to_end_contract</th>\n",
       "      <th>Lifetime</th>\n",
       "      <th>Avg_class_frequency_total</th>\n",
       "      <th>Avg_class_frequency_current_month</th>\n",
       "    </tr>\n",
       "    <tr>\n",
       "      <th>Churn</th>\n",
       "      <th></th>\n",
       "      <th></th>\n",
       "      <th></th>\n",
       "      <th></th>\n",
       "      <th></th>\n",
       "      <th></th>\n",
       "      <th></th>\n",
       "      <th></th>\n",
       "      <th></th>\n",
       "      <th></th>\n",
       "      <th></th>\n",
       "      <th></th>\n",
       "      <th></th>\n",
       "    </tr>\n",
       "  </thead>\n",
       "  <tbody>\n",
       "    <tr>\n",
       "      <td>0</td>\n",
       "      <td>0.510037</td>\n",
       "      <td>0.873086</td>\n",
       "      <td>0.534195</td>\n",
       "      <td>0.353522</td>\n",
       "      <td>0.903709</td>\n",
       "      <td>5.747193</td>\n",
       "      <td>0.464103</td>\n",
       "      <td>29.976523</td>\n",
       "      <td>158.445715</td>\n",
       "      <td>5.283089</td>\n",
       "      <td>4.711807</td>\n",
       "      <td>2.024876</td>\n",
       "      <td>2.027882</td>\n",
       "    </tr>\n",
       "    <tr>\n",
       "      <td>1</td>\n",
       "      <td>0.510839</td>\n",
       "      <td>0.768143</td>\n",
       "      <td>0.355325</td>\n",
       "      <td>0.183789</td>\n",
       "      <td>0.902922</td>\n",
       "      <td>1.728558</td>\n",
       "      <td>0.268615</td>\n",
       "      <td>26.989632</td>\n",
       "      <td>115.082899</td>\n",
       "      <td>1.662582</td>\n",
       "      <td>0.990575</td>\n",
       "      <td>1.474995</td>\n",
       "      <td>1.044546</td>\n",
       "    </tr>\n",
       "  </tbody>\n",
       "</table>\n",
       "</div>"
      ],
      "text/plain": [
       "         gender  Near_Location   Partner  Promo_friends     Phone  \\\n",
       "Churn                                                               \n",
       "0      0.510037       0.873086  0.534195       0.353522  0.903709   \n",
       "1      0.510839       0.768143  0.355325       0.183789  0.902922   \n",
       "\n",
       "       Contract_period  Group_visits        Age  Avg_additional_charges_total  \\\n",
       "Churn                                                                           \n",
       "0             5.747193      0.464103  29.976523                    158.445715   \n",
       "1             1.728558      0.268615  26.989632                    115.082899   \n",
       "\n",
       "       Month_to_end_contract  Lifetime  Avg_class_frequency_total  \\\n",
       "Churn                                                               \n",
       "0                   5.283089  4.711807                   2.024876   \n",
       "1                   1.662582  0.990575                   1.474995   \n",
       "\n",
       "       Avg_class_frequency_current_month  \n",
       "Churn                                     \n",
       "0                               2.027882  \n",
       "1                               1.044546  "
      ]
     },
     "execution_count": 8,
     "metadata": {},
     "output_type": "execute_result"
    }
   ],
   "source": [
    "# divide data into customers who left and those who stayed\n",
    "data.groupby('Churn').mean()"
   ]
  },
  {
   "cell_type": "markdown",
   "metadata": {},
   "source": [
    "We can see a few things:\n",
    "1) The average age of customers who stayed is higher than the ones who stayed (~30 and ~27).\n",
    "\n",
    "2) customers who stayed spent on average more money on additional services.\n",
    "\n",
    "3) Those who stayed, attended more classes per week throughout their account's lifetime.\n",
    "\n",
    "4) The customers who stayed, attended more classes on average in the last month."
   ]
  },
  {
   "cell_type": "markdown",
   "metadata": {},
   "source": [
    "[Back to Table of Contents](#toc)"
   ]
  },
  {
   "cell_type": "markdown",
   "metadata": {},
   "source": [
    "<a class=\"anchor\" id=\"section4\"></a>"
   ]
  },
  {
   "cell_type": "markdown",
   "metadata": {},
   "source": [
    "#### Histograms and Feature Distributions"
   ]
  },
  {
   "cell_type": "code",
   "execution_count": 9,
   "metadata": {},
   "outputs": [
    {
     "data": {
      "text/html": [
       "<div>\n",
       "<style scoped>\n",
       "    .dataframe tbody tr th:only-of-type {\n",
       "        vertical-align: middle;\n",
       "    }\n",
       "\n",
       "    .dataframe tbody tr th {\n",
       "        vertical-align: top;\n",
       "    }\n",
       "\n",
       "    .dataframe thead th {\n",
       "        text-align: right;\n",
       "    }\n",
       "</style>\n",
       "<table border=\"1\" class=\"dataframe\">\n",
       "  <thead>\n",
       "    <tr style=\"text-align: right;\">\n",
       "      <th></th>\n",
       "      <th>gender</th>\n",
       "      <th>Near_Location</th>\n",
       "      <th>Partner</th>\n",
       "      <th>Promo_friends</th>\n",
       "      <th>Phone</th>\n",
       "      <th>Contract_period</th>\n",
       "      <th>Group_visits</th>\n",
       "      <th>Age</th>\n",
       "      <th>Avg_additional_charges_total</th>\n",
       "      <th>Month_to_end_contract</th>\n",
       "      <th>Lifetime</th>\n",
       "      <th>Avg_class_frequency_total</th>\n",
       "      <th>Avg_class_frequency_current_month</th>\n",
       "    </tr>\n",
       "  </thead>\n",
       "  <tbody>\n",
       "    <tr>\n",
       "      <td>7</td>\n",
       "      <td>0</td>\n",
       "      <td>1</td>\n",
       "      <td>0</td>\n",
       "      <td>0</td>\n",
       "      <td>1</td>\n",
       "      <td>1</td>\n",
       "      <td>0</td>\n",
       "      <td>30</td>\n",
       "      <td>217.786641</td>\n",
       "      <td>1.0</td>\n",
       "      <td>0</td>\n",
       "      <td>1.213502</td>\n",
       "      <td>1.049387</td>\n",
       "    </tr>\n",
       "    <tr>\n",
       "      <td>11</td>\n",
       "      <td>1</td>\n",
       "      <td>1</td>\n",
       "      <td>1</td>\n",
       "      <td>0</td>\n",
       "      <td>1</td>\n",
       "      <td>1</td>\n",
       "      <td>0</td>\n",
       "      <td>27</td>\n",
       "      <td>266.783824</td>\n",
       "      <td>1.0</td>\n",
       "      <td>2</td>\n",
       "      <td>2.348535</td>\n",
       "      <td>1.584316</td>\n",
       "    </tr>\n",
       "    <tr>\n",
       "      <td>13</td>\n",
       "      <td>1</td>\n",
       "      <td>1</td>\n",
       "      <td>0</td>\n",
       "      <td>0</td>\n",
       "      <td>1</td>\n",
       "      <td>1</td>\n",
       "      <td>1</td>\n",
       "      <td>27</td>\n",
       "      <td>152.748668</td>\n",
       "      <td>1.0</td>\n",
       "      <td>1</td>\n",
       "      <td>0.000000</td>\n",
       "      <td>0.000000</td>\n",
       "    </tr>\n",
       "    <tr>\n",
       "      <td>21</td>\n",
       "      <td>0</td>\n",
       "      <td>0</td>\n",
       "      <td>0</td>\n",
       "      <td>0</td>\n",
       "      <td>1</td>\n",
       "      <td>1</td>\n",
       "      <td>0</td>\n",
       "      <td>30</td>\n",
       "      <td>153.198594</td>\n",
       "      <td>1.0</td>\n",
       "      <td>3</td>\n",
       "      <td>0.636382</td>\n",
       "      <td>0.000000</td>\n",
       "    </tr>\n",
       "    <tr>\n",
       "      <td>23</td>\n",
       "      <td>1</td>\n",
       "      <td>1</td>\n",
       "      <td>0</td>\n",
       "      <td>0</td>\n",
       "      <td>1</td>\n",
       "      <td>1</td>\n",
       "      <td>1</td>\n",
       "      <td>32</td>\n",
       "      <td>276.079882</td>\n",
       "      <td>1.0</td>\n",
       "      <td>1</td>\n",
       "      <td>1.420637</td>\n",
       "      <td>1.043101</td>\n",
       "    </tr>\n",
       "    <tr>\n",
       "      <td>...</td>\n",
       "      <td>...</td>\n",
       "      <td>...</td>\n",
       "      <td>...</td>\n",
       "      <td>...</td>\n",
       "      <td>...</td>\n",
       "      <td>...</td>\n",
       "      <td>...</td>\n",
       "      <td>...</td>\n",
       "      <td>...</td>\n",
       "      <td>...</td>\n",
       "      <td>...</td>\n",
       "      <td>...</td>\n",
       "      <td>...</td>\n",
       "    </tr>\n",
       "    <tr>\n",
       "      <td>3982</td>\n",
       "      <td>1</td>\n",
       "      <td>1</td>\n",
       "      <td>0</td>\n",
       "      <td>0</td>\n",
       "      <td>1</td>\n",
       "      <td>1</td>\n",
       "      <td>0</td>\n",
       "      <td>24</td>\n",
       "      <td>135.395712</td>\n",
       "      <td>1.0</td>\n",
       "      <td>0</td>\n",
       "      <td>1.390251</td>\n",
       "      <td>0.789321</td>\n",
       "    </tr>\n",
       "    <tr>\n",
       "      <td>3984</td>\n",
       "      <td>1</td>\n",
       "      <td>1</td>\n",
       "      <td>0</td>\n",
       "      <td>0</td>\n",
       "      <td>1</td>\n",
       "      <td>6</td>\n",
       "      <td>1</td>\n",
       "      <td>22</td>\n",
       "      <td>101.107544</td>\n",
       "      <td>6.0</td>\n",
       "      <td>2</td>\n",
       "      <td>1.377860</td>\n",
       "      <td>0.343915</td>\n",
       "    </tr>\n",
       "    <tr>\n",
       "      <td>3986</td>\n",
       "      <td>0</td>\n",
       "      <td>1</td>\n",
       "      <td>1</td>\n",
       "      <td>1</td>\n",
       "      <td>1</td>\n",
       "      <td>1</td>\n",
       "      <td>1</td>\n",
       "      <td>34</td>\n",
       "      <td>226.804845</td>\n",
       "      <td>1.0</td>\n",
       "      <td>0</td>\n",
       "      <td>1.399529</td>\n",
       "      <td>0.304130</td>\n",
       "    </tr>\n",
       "    <tr>\n",
       "      <td>3994</td>\n",
       "      <td>1</td>\n",
       "      <td>1</td>\n",
       "      <td>0</td>\n",
       "      <td>0</td>\n",
       "      <td>1</td>\n",
       "      <td>1</td>\n",
       "      <td>0</td>\n",
       "      <td>26</td>\n",
       "      <td>31.066721</td>\n",
       "      <td>1.0</td>\n",
       "      <td>1</td>\n",
       "      <td>1.157451</td>\n",
       "      <td>0.269597</td>\n",
       "    </tr>\n",
       "    <tr>\n",
       "      <td>3996</td>\n",
       "      <td>0</td>\n",
       "      <td>1</td>\n",
       "      <td>0</td>\n",
       "      <td>0</td>\n",
       "      <td>1</td>\n",
       "      <td>1</td>\n",
       "      <td>1</td>\n",
       "      <td>29</td>\n",
       "      <td>68.883764</td>\n",
       "      <td>1.0</td>\n",
       "      <td>1</td>\n",
       "      <td>1.277168</td>\n",
       "      <td>0.292859</td>\n",
       "    </tr>\n",
       "  </tbody>\n",
       "</table>\n",
       "<p>1061 rows × 13 columns</p>\n",
       "</div>"
      ],
      "text/plain": [
       "      gender  Near_Location  Partner  Promo_friends  Phone  Contract_period  \\\n",
       "7          0              1        0              0      1                1   \n",
       "11         1              1        1              0      1                1   \n",
       "13         1              1        0              0      1                1   \n",
       "21         0              0        0              0      1                1   \n",
       "23         1              1        0              0      1                1   \n",
       "...      ...            ...      ...            ...    ...              ...   \n",
       "3982       1              1        0              0      1                1   \n",
       "3984       1              1        0              0      1                6   \n",
       "3986       0              1        1              1      1                1   \n",
       "3994       1              1        0              0      1                1   \n",
       "3996       0              1        0              0      1                1   \n",
       "\n",
       "      Group_visits  Age  Avg_additional_charges_total  Month_to_end_contract  \\\n",
       "7                0   30                    217.786641                    1.0   \n",
       "11               0   27                    266.783824                    1.0   \n",
       "13               1   27                    152.748668                    1.0   \n",
       "21               0   30                    153.198594                    1.0   \n",
       "23               1   32                    276.079882                    1.0   \n",
       "...            ...  ...                           ...                    ...   \n",
       "3982             0   24                    135.395712                    1.0   \n",
       "3984             1   22                    101.107544                    6.0   \n",
       "3986             1   34                    226.804845                    1.0   \n",
       "3994             0   26                     31.066721                    1.0   \n",
       "3996             1   29                     68.883764                    1.0   \n",
       "\n",
       "      Lifetime  Avg_class_frequency_total  Avg_class_frequency_current_month  \n",
       "7            0                   1.213502                           1.049387  \n",
       "11           2                   2.348535                           1.584316  \n",
       "13           1                   0.000000                           0.000000  \n",
       "21           3                   0.636382                           0.000000  \n",
       "23           1                   1.420637                           1.043101  \n",
       "...        ...                        ...                                ...  \n",
       "3982         0                   1.390251                           0.789321  \n",
       "3984         2                   1.377860                           0.343915  \n",
       "3986         0                   1.399529                           0.304130  \n",
       "3994         1                   1.157451                           0.269597  \n",
       "3996         1                   1.277168                           0.292859  \n",
       "\n",
       "[1061 rows x 13 columns]"
      ]
     },
     "execution_count": 9,
     "metadata": {},
     "output_type": "execute_result"
    }
   ],
   "source": [
    "# Get all customers who left\n",
    "customer_left = data.loc[data['Churn'] == 1].drop('Churn', axis = 1)\n",
    "customer_left"
   ]
  },
  {
   "cell_type": "code",
   "execution_count": 10,
   "metadata": {},
   "outputs": [
    {
     "data": {
      "text/html": [
       "<div>\n",
       "<style scoped>\n",
       "    .dataframe tbody tr th:only-of-type {\n",
       "        vertical-align: middle;\n",
       "    }\n",
       "\n",
       "    .dataframe tbody tr th {\n",
       "        vertical-align: top;\n",
       "    }\n",
       "\n",
       "    .dataframe thead th {\n",
       "        text-align: right;\n",
       "    }\n",
       "</style>\n",
       "<table border=\"1\" class=\"dataframe\">\n",
       "  <thead>\n",
       "    <tr style=\"text-align: right;\">\n",
       "      <th></th>\n",
       "      <th>gender</th>\n",
       "      <th>Near_Location</th>\n",
       "      <th>Partner</th>\n",
       "      <th>Promo_friends</th>\n",
       "      <th>Phone</th>\n",
       "      <th>Contract_period</th>\n",
       "      <th>Group_visits</th>\n",
       "      <th>Age</th>\n",
       "      <th>Avg_additional_charges_total</th>\n",
       "      <th>Month_to_end_contract</th>\n",
       "      <th>Lifetime</th>\n",
       "      <th>Avg_class_frequency_total</th>\n",
       "      <th>Avg_class_frequency_current_month</th>\n",
       "    </tr>\n",
       "  </thead>\n",
       "  <tbody>\n",
       "    <tr>\n",
       "      <td>0</td>\n",
       "      <td>1</td>\n",
       "      <td>1</td>\n",
       "      <td>1</td>\n",
       "      <td>1</td>\n",
       "      <td>0</td>\n",
       "      <td>6</td>\n",
       "      <td>1</td>\n",
       "      <td>29</td>\n",
       "      <td>14.227470</td>\n",
       "      <td>5.0</td>\n",
       "      <td>3</td>\n",
       "      <td>0.020398</td>\n",
       "      <td>0.000000</td>\n",
       "    </tr>\n",
       "    <tr>\n",
       "      <td>1</td>\n",
       "      <td>0</td>\n",
       "      <td>1</td>\n",
       "      <td>0</td>\n",
       "      <td>0</td>\n",
       "      <td>1</td>\n",
       "      <td>12</td>\n",
       "      <td>1</td>\n",
       "      <td>31</td>\n",
       "      <td>113.202938</td>\n",
       "      <td>12.0</td>\n",
       "      <td>7</td>\n",
       "      <td>1.922936</td>\n",
       "      <td>1.910244</td>\n",
       "    </tr>\n",
       "    <tr>\n",
       "      <td>2</td>\n",
       "      <td>0</td>\n",
       "      <td>1</td>\n",
       "      <td>1</td>\n",
       "      <td>0</td>\n",
       "      <td>1</td>\n",
       "      <td>1</td>\n",
       "      <td>0</td>\n",
       "      <td>28</td>\n",
       "      <td>129.448479</td>\n",
       "      <td>1.0</td>\n",
       "      <td>2</td>\n",
       "      <td>1.859098</td>\n",
       "      <td>1.736502</td>\n",
       "    </tr>\n",
       "    <tr>\n",
       "      <td>3</td>\n",
       "      <td>0</td>\n",
       "      <td>1</td>\n",
       "      <td>1</td>\n",
       "      <td>1</td>\n",
       "      <td>1</td>\n",
       "      <td>12</td>\n",
       "      <td>1</td>\n",
       "      <td>33</td>\n",
       "      <td>62.669863</td>\n",
       "      <td>12.0</td>\n",
       "      <td>2</td>\n",
       "      <td>3.205633</td>\n",
       "      <td>3.357215</td>\n",
       "    </tr>\n",
       "    <tr>\n",
       "      <td>4</td>\n",
       "      <td>1</td>\n",
       "      <td>1</td>\n",
       "      <td>1</td>\n",
       "      <td>1</td>\n",
       "      <td>1</td>\n",
       "      <td>1</td>\n",
       "      <td>0</td>\n",
       "      <td>26</td>\n",
       "      <td>198.362265</td>\n",
       "      <td>1.0</td>\n",
       "      <td>3</td>\n",
       "      <td>1.113884</td>\n",
       "      <td>1.120078</td>\n",
       "    </tr>\n",
       "    <tr>\n",
       "      <td>...</td>\n",
       "      <td>...</td>\n",
       "      <td>...</td>\n",
       "      <td>...</td>\n",
       "      <td>...</td>\n",
       "      <td>...</td>\n",
       "      <td>...</td>\n",
       "      <td>...</td>\n",
       "      <td>...</td>\n",
       "      <td>...</td>\n",
       "      <td>...</td>\n",
       "      <td>...</td>\n",
       "      <td>...</td>\n",
       "      <td>...</td>\n",
       "    </tr>\n",
       "    <tr>\n",
       "      <td>3993</td>\n",
       "      <td>0</td>\n",
       "      <td>1</td>\n",
       "      <td>1</td>\n",
       "      <td>0</td>\n",
       "      <td>1</td>\n",
       "      <td>1</td>\n",
       "      <td>0</td>\n",
       "      <td>33</td>\n",
       "      <td>231.778628</td>\n",
       "      <td>1.0</td>\n",
       "      <td>3</td>\n",
       "      <td>1.418791</td>\n",
       "      <td>1.450442</td>\n",
       "    </tr>\n",
       "    <tr>\n",
       "      <td>3995</td>\n",
       "      <td>1</td>\n",
       "      <td>1</td>\n",
       "      <td>1</td>\n",
       "      <td>0</td>\n",
       "      <td>1</td>\n",
       "      <td>12</td>\n",
       "      <td>0</td>\n",
       "      <td>33</td>\n",
       "      <td>2.406023</td>\n",
       "      <td>12.0</td>\n",
       "      <td>8</td>\n",
       "      <td>2.284497</td>\n",
       "      <td>2.349070</td>\n",
       "    </tr>\n",
       "    <tr>\n",
       "      <td>3997</td>\n",
       "      <td>1</td>\n",
       "      <td>1</td>\n",
       "      <td>1</td>\n",
       "      <td>1</td>\n",
       "      <td>1</td>\n",
       "      <td>12</td>\n",
       "      <td>0</td>\n",
       "      <td>28</td>\n",
       "      <td>78.250542</td>\n",
       "      <td>11.0</td>\n",
       "      <td>2</td>\n",
       "      <td>2.786146</td>\n",
       "      <td>2.831439</td>\n",
       "    </tr>\n",
       "    <tr>\n",
       "      <td>3998</td>\n",
       "      <td>0</td>\n",
       "      <td>1</td>\n",
       "      <td>1</td>\n",
       "      <td>1</td>\n",
       "      <td>1</td>\n",
       "      <td>6</td>\n",
       "      <td>0</td>\n",
       "      <td>32</td>\n",
       "      <td>61.912657</td>\n",
       "      <td>5.0</td>\n",
       "      <td>3</td>\n",
       "      <td>1.630108</td>\n",
       "      <td>1.596237</td>\n",
       "    </tr>\n",
       "    <tr>\n",
       "      <td>3999</td>\n",
       "      <td>1</td>\n",
       "      <td>0</td>\n",
       "      <td>1</td>\n",
       "      <td>0</td>\n",
       "      <td>0</td>\n",
       "      <td>12</td>\n",
       "      <td>1</td>\n",
       "      <td>30</td>\n",
       "      <td>178.861814</td>\n",
       "      <td>12.0</td>\n",
       "      <td>1</td>\n",
       "      <td>1.101832</td>\n",
       "      <td>1.035270</td>\n",
       "    </tr>\n",
       "  </tbody>\n",
       "</table>\n",
       "<p>2939 rows × 13 columns</p>\n",
       "</div>"
      ],
      "text/plain": [
       "      gender  Near_Location  Partner  Promo_friends  Phone  Contract_period  \\\n",
       "0          1              1        1              1      0                6   \n",
       "1          0              1        0              0      1               12   \n",
       "2          0              1        1              0      1                1   \n",
       "3          0              1        1              1      1               12   \n",
       "4          1              1        1              1      1                1   \n",
       "...      ...            ...      ...            ...    ...              ...   \n",
       "3993       0              1        1              0      1                1   \n",
       "3995       1              1        1              0      1               12   \n",
       "3997       1              1        1              1      1               12   \n",
       "3998       0              1        1              1      1                6   \n",
       "3999       1              0        1              0      0               12   \n",
       "\n",
       "      Group_visits  Age  Avg_additional_charges_total  Month_to_end_contract  \\\n",
       "0                1   29                     14.227470                    5.0   \n",
       "1                1   31                    113.202938                   12.0   \n",
       "2                0   28                    129.448479                    1.0   \n",
       "3                1   33                     62.669863                   12.0   \n",
       "4                0   26                    198.362265                    1.0   \n",
       "...            ...  ...                           ...                    ...   \n",
       "3993             0   33                    231.778628                    1.0   \n",
       "3995             0   33                      2.406023                   12.0   \n",
       "3997             0   28                     78.250542                   11.0   \n",
       "3998             0   32                     61.912657                    5.0   \n",
       "3999             1   30                    178.861814                   12.0   \n",
       "\n",
       "      Lifetime  Avg_class_frequency_total  Avg_class_frequency_current_month  \n",
       "0            3                   0.020398                           0.000000  \n",
       "1            7                   1.922936                           1.910244  \n",
       "2            2                   1.859098                           1.736502  \n",
       "3            2                   3.205633                           3.357215  \n",
       "4            3                   1.113884                           1.120078  \n",
       "...        ...                        ...                                ...  \n",
       "3993         3                   1.418791                           1.450442  \n",
       "3995         8                   2.284497                           2.349070  \n",
       "3997         2                   2.786146                           2.831439  \n",
       "3998         3                   1.630108                           1.596237  \n",
       "3999         1                   1.101832                           1.035270  \n",
       "\n",
       "[2939 rows x 13 columns]"
      ]
     },
     "execution_count": 10,
     "metadata": {},
     "output_type": "execute_result"
    }
   ],
   "source": [
    "# Get all customers who stayed\n",
    "customer_stayed = data.loc[data['Churn'] == 0].drop('Churn', axis = 1)\n",
    "customer_stayed"
   ]
  },
  {
   "cell_type": "markdown",
   "metadata": {},
   "source": [
    "'Age' column:"
   ]
  },
  {
   "cell_type": "code",
   "execution_count": 11,
   "metadata": {},
   "outputs": [
    {
     "data": {
      "image/png": "[encoded data removed]",
      "text/plain": [
       "<Figure size 360x360 with 1 Axes>"
      ]
     },
     "metadata": {
      "needs_background": "light"
     },
     "output_type": "display_data"
    }
   ],
   "source": [
    "customer_left[\"Age\"].hist(log=True, bins=20, figsize=(5,5), alpha=0.7, label=\"customer who left\");\n",
    "customer_stayed[\"Age\"].hist(log=True, bins=20, figsize=(5,5), alpha=0.7, label=\"customer who stayed\");\n",
    "plt.title('Age of customers that stayed and customers who left');\n",
    "plt.xlabel('Age');\n",
    "plt.ylabel('Amount');\n",
    "plt.legend();"
   ]
  },
  {
   "cell_type": "markdown",
   "metadata": {},
   "source": [
    "We can see that both groups are pretty much normally distributed. (We can see outliers in the customers who left group)"
   ]
  },
  {
   "cell_type": "markdown",
   "metadata": {},
   "source": [
    "'Avg_additional_charges_total' column:"
   ]
  },
  {
   "cell_type": "code",
   "execution_count": 12,
   "metadata": {},
   "outputs": [
    {
     "data": {
      "image/png": "[encoded data removed]",
      "text/plain": [
       "<Figure size 360x360 with 1 Axes>"
      ]
     },
     "metadata": {
      "needs_background": "light"
     },
     "output_type": "display_data"
    }
   ],
   "source": [
    "customer_left[\"Avg_additional_charges_total\"].hist(log=True, bins=50, figsize=(5,5), alpha=0.7, label=\"customer who left\");\n",
    "customer_stayed[\"Avg_additional_charges_total\"].hist(log=True, bins=50, figsize=(5,5), alpha=0.7, label=\"customer who stayed\");\n",
    "plt.title('Average additional charges for customers that stayed and customers who left');\n",
    "plt.xlabel('Average additional charges');\n",
    "plt.ylabel('Amount');\n",
    "plt.legend();"
   ]
  },
  {
   "cell_type": "markdown",
   "metadata": {},
   "source": [
    "The distribution of this column is right skewed for both groups. We have outliers in both groups."
   ]
  },
  {
   "cell_type": "markdown",
   "metadata": {},
   "source": [
    "'Lifetime' column:"
   ]
  },
  {
   "cell_type": "code",
   "execution_count": 13,
   "metadata": {},
   "outputs": [
    {
     "data": {
      "image/png": "[encoded data removed]",
      "text/plain": [
       "<Figure size 360x360 with 1 Axes>"
      ]
     },
     "metadata": {
      "needs_background": "light"
     },
     "output_type": "display_data"
    }
   ],
   "source": [
    "customer_left[\"Lifetime\"].hist(log=True, bins=10, figsize=(5,5), alpha=0.7, label=\"customer who left\");\n",
    "customer_stayed[\"Lifetime\"].hist(log=True, bins=10, figsize=(5,5), alpha=0.7, label=\"customer who stayed\");\n",
    "plt.title('lifetime of accounts for customers that stayed and customers who left');\n",
    "plt.xlabel('lifetime of accounts');\n",
    "plt.ylabel('Amount');\n",
    "plt.legend();"
   ]
  },
  {
   "cell_type": "markdown",
   "metadata": {},
   "source": [
    "Again, we see that the data in this column is right skewed and there are outliers."
   ]
  },
  {
   "cell_type": "markdown",
   "metadata": {},
   "source": [
    "'Avg_class_frequency_total' column:"
   ]
  },
  {
   "cell_type": "code",
   "execution_count": 14,
   "metadata": {},
   "outputs": [
    {
     "data": {
      "image/png": "[encoded data removed]",
      "text/plain": [
       "<Figure size 360x360 with 1 Axes>"
      ]
     },
     "metadata": {
      "needs_background": "light"
     },
     "output_type": "display_data"
    }
   ],
   "source": [
    "customer_left[\"Avg_class_frequency_total\"].hist(log=True, bins=10, figsize=(5, 5), alpha=0.7, label=\"customer who left\");\n",
    "customer_stayed[\"Avg_class_frequency_total\"].hist(log=True, bins=10, figsize=(5, 5), alpha=0.7, label=\"customer who stayed\");\n",
    "plt.title('Average class attendence over lifetime of accounts for customers that stayed and customers who left');\n",
    "plt.xlabel('Average class attendence over lifetime');\n",
    "plt.ylabel('Amount');\n",
    "plt.legend();"
   ]
  },
  {
   "cell_type": "markdown",
   "metadata": {},
   "source": [
    "Again, we see that the data in this column is right skewed."
   ]
  },
  {
   "cell_type": "markdown",
   "metadata": {},
   "source": [
    "'Avg_class_frequency_current_month' column:"
   ]
  },
  {
   "cell_type": "code",
   "execution_count": 15,
   "metadata": {},
   "outputs": [
    {
     "data": {
      "image/png": "[encoded data removed]",
      "text/plain": [
       "<Figure size 360x360 with 1 Axes>"
      ]
     },
     "metadata": {
      "needs_background": "light"
     },
     "output_type": "display_data"
    }
   ],
   "source": [
    "customer_left[\"Avg_class_frequency_current_month\"].hist(log=True, bins=10, figsize=(5, 5), alpha=0.7, label=\"customer who left\");\n",
    "customer_stayed[\"Avg_class_frequency_current_month\"].hist(log=True, bins=10, figsize=(5, 5), alpha=0.7, label=\"customer who stayed\");\n",
    "plt.title('Average class attendence from the last month of accounts for customers that stayed and customers who left');\n",
    "plt.xlabel('Average class attendence from the last month');\n",
    "plt.ylabel('Amount');\n",
    "plt.legend();"
   ]
  },
  {
   "cell_type": "markdown",
   "metadata": {},
   "source": [
    "Again, we see that the data in this column is right skewed."
   ]
  },
  {
   "cell_type": "code",
   "execution_count": 16,
   "metadata": {},
   "outputs": [
    {
     "data": {
      "text/html": [
       "<div>\n",
       "<style scoped>\n",
       "    .dataframe tbody tr th:only-of-type {\n",
       "        vertical-align: middle;\n",
       "    }\n",
       "\n",
       "    .dataframe tbody tr th {\n",
       "        vertical-align: top;\n",
       "    }\n",
       "\n",
       "    .dataframe thead th {\n",
       "        text-align: right;\n",
       "    }\n",
       "</style>\n",
       "<table border=\"1\" class=\"dataframe\">\n",
       "  <thead>\n",
       "    <tr style=\"text-align: right;\">\n",
       "      <th></th>\n",
       "      <th>Age</th>\n",
       "      <th>Avg_additional_charges_total</th>\n",
       "      <th>Lifetime</th>\n",
       "      <th>Avg_class_frequency_total</th>\n",
       "      <th>Avg_class_frequency_current_month</th>\n",
       "    </tr>\n",
       "  </thead>\n",
       "  <tbody>\n",
       "    <tr>\n",
       "      <td>Age</td>\n",
       "      <td>1.000000</td>\n",
       "      <td>0.080240</td>\n",
       "      <td>0.164693</td>\n",
       "      <td>0.119953</td>\n",
       "      <td>0.183095</td>\n",
       "    </tr>\n",
       "    <tr>\n",
       "      <td>Avg_additional_charges_total</td>\n",
       "      <td>0.080240</td>\n",
       "      <td>1.000000</td>\n",
       "      <td>0.079028</td>\n",
       "      <td>0.044426</td>\n",
       "      <td>0.079570</td>\n",
       "    </tr>\n",
       "    <tr>\n",
       "      <td>Lifetime</td>\n",
       "      <td>0.164693</td>\n",
       "      <td>0.079028</td>\n",
       "      <td>1.000000</td>\n",
       "      <td>0.112338</td>\n",
       "      <td>0.181975</td>\n",
       "    </tr>\n",
       "    <tr>\n",
       "      <td>Avg_class_frequency_total</td>\n",
       "      <td>0.119953</td>\n",
       "      <td>0.044426</td>\n",
       "      <td>0.112338</td>\n",
       "      <td>1.000000</td>\n",
       "      <td>0.952739</td>\n",
       "    </tr>\n",
       "    <tr>\n",
       "      <td>Avg_class_frequency_current_month</td>\n",
       "      <td>0.183095</td>\n",
       "      <td>0.079570</td>\n",
       "      <td>0.181975</td>\n",
       "      <td>0.952739</td>\n",
       "      <td>1.000000</td>\n",
       "    </tr>\n",
       "  </tbody>\n",
       "</table>\n",
       "</div>"
      ],
      "text/plain": [
       "                                        Age  Avg_additional_charges_total  \\\n",
       "Age                                1.000000                      0.080240   \n",
       "Avg_additional_charges_total       0.080240                      1.000000   \n",
       "Lifetime                           0.164693                      0.079028   \n",
       "Avg_class_frequency_total          0.119953                      0.044426   \n",
       "Avg_class_frequency_current_month  0.183095                      0.079570   \n",
       "\n",
       "                                   Lifetime  Avg_class_frequency_total  \\\n",
       "Age                                0.164693                   0.119953   \n",
       "Avg_additional_charges_total       0.079028                   0.044426   \n",
       "Lifetime                           1.000000                   0.112338   \n",
       "Avg_class_frequency_total          0.112338                   1.000000   \n",
       "Avg_class_frequency_current_month  0.181975                   0.952739   \n",
       "\n",
       "                                   Avg_class_frequency_current_month  \n",
       "Age                                                         0.183095  \n",
       "Avg_additional_charges_total                                0.079570  \n",
       "Lifetime                                                    0.181975  \n",
       "Avg_class_frequency_total                                   0.952739  \n",
       "Avg_class_frequency_current_month                           1.000000  "
      ]
     },
     "execution_count": 16,
     "metadata": {},
     "output_type": "execute_result"
    }
   ],
   "source": [
    "corr_matrix = data[\n",
    "    [\n",
    "        \"Age\",\n",
    "        \"Avg_additional_charges_total\",\n",
    "        \"Lifetime\",\n",
    "        \"Avg_class_frequency_total\",\n",
    "        \"Avg_class_frequency_current_month\",\n",
    "    ]\n",
    "].corr()\n",
    "\n",
    "corr_matrix"
   ]
  },
  {
   "cell_type": "code",
   "execution_count": 17,
   "metadata": {},
   "outputs": [
    {
     "data": {
      "image/png": "[encoded data removed]",
      "text/plain": [
       "<Figure size 432x288 with 2 Axes>"
      ]
     },
     "metadata": {
      "needs_background": "light"
     },
     "output_type": "display_data"
    }
   ],
   "source": [
    "sn.heatmap(corr_matrix, annot=True);\n",
    "plt.title('Correlation matrix for numerical variables in the dataset');\n",
    "plt.show();"
   ]
  },
  {
   "cell_type": "markdown",
   "metadata": {},
   "source": [
    "[Back to Table of Contents](#toc)"
   ]
  },
  {
   "cell_type": "markdown",
   "metadata": {},
   "source": [
    "<a class=\"anchor\" id=\"chapter3\"></a>"
   ]
  },
  {
   "cell_type": "markdown",
   "metadata": {},
   "source": [
    "### ML Model to predict user churn"
   ]
  },
  {
   "cell_type": "code",
   "execution_count": 18,
   "metadata": {},
   "outputs": [],
   "source": [
    "# divide the data into features and a target variable\n",
    "features = data.drop('Churn', axis = 1)\n",
    "target = data['Churn']"
   ]
  },
  {
   "cell_type": "code",
   "execution_count": 19,
   "metadata": {},
   "outputs": [],
   "source": [
    "# divide the data into train and test\n",
    "features_train, features_valid, target_train, target_valid = train_test_split(\n",
    "    features, target, test_size=0.2, random_state=0\n",
    ")"
   ]
  },
  {
   "cell_type": "markdown",
   "metadata": {},
   "source": [
    "[Back to Table of Contents](#toc)"
   ]
  },
  {
   "cell_type": "markdown",
   "metadata": {},
   "source": [
    "<a class=\"anchor\" id=\"section5\"></a>"
   ]
  },
  {
   "cell_type": "markdown",
   "metadata": {},
   "source": [
    "#### Logistic Regression:"
   ]
  },
  {
   "cell_type": "code",
   "execution_count": 20,
   "metadata": {},
   "outputs": [],
   "source": [
    "# define the model's algorithm\n",
    "LR_model = LogisticRegression(random_state = 0)"
   ]
  },
  {
   "cell_type": "code",
   "execution_count": 21,
   "metadata": {},
   "outputs": [
    {
     "data": {
      "text/plain": [
       "LogisticRegression(C=1.0, class_weight=None, dual=False, fit_intercept=True,\n",
       "                   intercept_scaling=1, l1_ratio=None, max_iter=100,\n",
       "                   multi_class='warn', n_jobs=None, penalty='l2',\n",
       "                   random_state=0, solver='warn', tol=0.0001, verbose=0,\n",
       "                   warm_start=False)"
      ]
     },
     "execution_count": 21,
     "metadata": {},
     "output_type": "execute_result"
    }
   ],
   "source": [
    "# train the model\n",
    "LR_model.fit(features_train, target_train)"
   ]
  },
  {
   "cell_type": "code",
   "execution_count": 22,
   "metadata": {},
   "outputs": [],
   "source": [
    "# binary prediction\n",
    "predictions = LR_model.predict(features_valid)"
   ]
  },
  {
   "cell_type": "code",
   "execution_count": 23,
   "metadata": {},
   "outputs": [
    {
     "name": "stdout",
     "output_type": "stream",
     "text": [
      "Accuracy for Logistic Regression: 0.93\n",
      "Precision for Logistic Regression: 0.86\n",
      "Recall for Logistic Regression: 0.83\n"
     ]
    }
   ],
   "source": [
    "# accuracy, precision, and recall\n",
    "print('Accuracy for Logistic Regression: {:.2f}'.format(accuracy_score(target_valid, predictions)))\n",
    "print('Precision for Logistic Regression: {:.2f}'.format(precision_score(target_valid, predictions)))\n",
    "print('Recall for Logistic Regression: {:.2f}'.format(recall_score(target_valid, predictions)))"
   ]
  },
  {
   "cell_type": "markdown",
   "metadata": {},
   "source": [
    "[Back to Table of Contents](#toc)"
   ]
  },
  {
   "cell_type": "markdown",
   "metadata": {},
   "source": [
    "<a class=\"anchor\" id=\"section6\"></a>"
   ]
  },
  {
   "cell_type": "markdown",
   "metadata": {},
   "source": [
    "#### Random Forest:"
   ]
  },
  {
   "cell_type": "code",
   "execution_count": 24,
   "metadata": {},
   "outputs": [],
   "source": [
    "rf_model = RandomForestClassifier(n_estimators = 2, random_state = 0)"
   ]
  },
  {
   "cell_type": "code",
   "execution_count": 25,
   "metadata": {},
   "outputs": [
    {
     "data": {
      "text/plain": [
       "RandomForestClassifier(bootstrap=True, class_weight=None, criterion='gini',\n",
       "                       max_depth=None, max_features='auto', max_leaf_nodes=None,\n",
       "                       min_impurity_decrease=0.0, min_impurity_split=None,\n",
       "                       min_samples_leaf=1, min_samples_split=2,\n",
       "                       min_weight_fraction_leaf=0.0, n_estimators=2,\n",
       "                       n_jobs=None, oob_score=False, random_state=0, verbose=0,\n",
       "                       warm_start=False)"
      ]
     },
     "execution_count": 25,
     "metadata": {},
     "output_type": "execute_result"
    }
   ],
   "source": [
    "# train the model\n",
    "rf_model.fit(features_train, target_train)"
   ]
  },
  {
   "cell_type": "code",
   "execution_count": 26,
   "metadata": {},
   "outputs": [],
   "source": [
    "# binary prediction\n",
    "predictions = rf_model.predict(features_valid)"
   ]
  },
  {
   "cell_type": "code",
   "execution_count": 27,
   "metadata": {},
   "outputs": [
    {
     "name": "stdout",
     "output_type": "stream",
     "text": [
      "Accuracy for Random Forest: 0.88\n",
      "Precision for Random Forest: 0.86\n",
      "Recall for Random Forest: 0.64\n"
     ]
    }
   ],
   "source": [
    "# accuracy, precision, and recall\n",
    "print('Accuracy for Random Forest: {:.2f}'.format(accuracy_score(target_valid, predictions)))\n",
    "print('Precision for Random Forest: {:.2f}'.format(precision_score(target_valid, predictions)))\n",
    "print('Recall for Random Forest: {:.2f}'.format(recall_score(target_valid, predictions)))"
   ]
  },
  {
   "cell_type": "markdown",
   "metadata": {},
   "source": [
    "Accuracy is better in the Logistic Regression model (93% vs. 88%)\n",
    "\n",
    "Precision is the same in both models (86%)\n",
    "\n",
    "Recal is better in the Logistic Regression model (83% vs. 64%)\n",
    "\n",
    "Overall the Accuracy of the Logistic Regression model is the best classification metric."
   ]
  },
  {
   "cell_type": "markdown",
   "metadata": {},
   "source": [
    "[Back to Table of Contents](#toc)"
   ]
  },
  {
   "cell_type": "markdown",
   "metadata": {},
   "source": [
    "<a class=\"anchor\" id=\"chapter4\"></a>"
   ]
  },
  {
   "cell_type": "markdown",
   "metadata": {},
   "source": [
    "### User Clusters"
   ]
  },
  {
   "cell_type": "markdown",
   "metadata": {},
   "source": [
    "#### Standardize the data"
   ]
  },
  {
   "cell_type": "code",
   "execution_count": 28,
   "metadata": {},
   "outputs": [],
   "source": [
    "# creating a scaler class object\n",
    "scaler = StandardScaler()"
   ]
  },
  {
   "cell_type": "code",
   "execution_count": 29,
   "metadata": {},
   "outputs": [],
   "source": [
    "# training standardizer\n",
    "features_sc = scaler.fit_transform(features)"
   ]
  },
  {
   "cell_type": "markdown",
   "metadata": {},
   "source": [
    "#### Build a matrix of distances based on the standardized feature matrix and plot a dendrogram"
   ]
  },
  {
   "cell_type": "code",
   "execution_count": 30,
   "metadata": {},
   "outputs": [],
   "source": [
    "# create table with the linked bundles of objects\n",
    "linked = linkage(features_sc, method = 'ward')"
   ]
  },
  {
   "cell_type": "code",
   "execution_count": 31,
   "metadata": {},
   "outputs": [
    {
     "data": {
      "image/png": "[encoded data removed]",
      "text/plain": [
       "<Figure size 1080x720 with 1 Axes>"
      ]
     },
     "metadata": {
      "needs_background": "light"
     },
     "output_type": "display_data"
    }
   ],
   "source": [
    "# plot a dendrogram\n",
    "plt.figure(figsize=(15, 10))  \n",
    "dendrogram(linked, orientation='top')\n",
    "plt.title('Hierarchical clustering for bank users')\n",
    "plt.show()"
   ]
  },
  {
   "cell_type": "markdown",
   "metadata": {},
   "source": [
    "Based on the 5 different colors of the dendogram we will set the number of clusters as '5'."
   ]
  },
  {
   "cell_type": "markdown",
   "metadata": {},
   "source": [
    "#### Train the clustering model with the K-means algorithm and predict customer clusters"
   ]
  },
  {
   "cell_type": "code",
   "execution_count": 32,
   "metadata": {},
   "outputs": [],
   "source": [
    "# define the k_means model with 5 clusters\n",
    "km = KMeans(n_clusters = 5, random_state = 12345)"
   ]
  },
  {
   "cell_type": "code",
   "execution_count": 33,
   "metadata": {},
   "outputs": [],
   "source": [
    "# predict the clusters for observations\n",
    "labels = km.fit_predict(features_sc)"
   ]
  },
  {
   "cell_type": "markdown",
   "metadata": {},
   "source": [
    "#### Look at the mean feature values for clusters"
   ]
  },
  {
   "cell_type": "code",
   "execution_count": 34,
   "metadata": {},
   "outputs": [],
   "source": [
    "# store cluster labels in the field of our dataset\n",
    "data['cluster_km'] = labels"
   ]
  },
  {
   "cell_type": "code",
   "execution_count": 35,
   "metadata": {},
   "outputs": [],
   "source": [
    "# get the statistics of the mean feature values per cluster\n",
    "grouped = data.groupby('cluster_km').mean().reset_index()"
   ]
  },
  {
   "cell_type": "code",
   "execution_count": 36,
   "metadata": {},
   "outputs": [
    {
     "data": {
      "text/html": [
       "<div>\n",
       "<style scoped>\n",
       "    .dataframe tbody tr th:only-of-type {\n",
       "        vertical-align: middle;\n",
       "    }\n",
       "\n",
       "    .dataframe tbody tr th {\n",
       "        vertical-align: top;\n",
       "    }\n",
       "\n",
       "    .dataframe thead th {\n",
       "        text-align: right;\n",
       "    }\n",
       "</style>\n",
       "<table border=\"1\" class=\"dataframe\">\n",
       "  <thead>\n",
       "    <tr style=\"text-align: right;\">\n",
       "      <th></th>\n",
       "      <th>cluster_km</th>\n",
       "      <th>gender</th>\n",
       "      <th>Near_Location</th>\n",
       "      <th>Partner</th>\n",
       "      <th>Promo_friends</th>\n",
       "      <th>Phone</th>\n",
       "      <th>Contract_period</th>\n",
       "      <th>Group_visits</th>\n",
       "      <th>Age</th>\n",
       "      <th>Avg_additional_charges_total</th>\n",
       "      <th>Month_to_end_contract</th>\n",
       "      <th>Lifetime</th>\n",
       "      <th>Avg_class_frequency_total</th>\n",
       "      <th>Avg_class_frequency_current_month</th>\n",
       "      <th>Churn</th>\n",
       "    </tr>\n",
       "  </thead>\n",
       "  <tbody>\n",
       "    <tr>\n",
       "      <td>0</td>\n",
       "      <td>0</td>\n",
       "      <td>0.500960</td>\n",
       "      <td>0.000000</td>\n",
       "      <td>0.464491</td>\n",
       "      <td>0.078695</td>\n",
       "      <td>1.0</td>\n",
       "      <td>2.343570</td>\n",
       "      <td>0.216891</td>\n",
       "      <td>28.579655</td>\n",
       "      <td>136.561586</td>\n",
       "      <td>2.197697</td>\n",
       "      <td>2.905950</td>\n",
       "      <td>1.738534</td>\n",
       "      <td>1.562870</td>\n",
       "      <td>0.429942</td>\n",
       "    </tr>\n",
       "    <tr>\n",
       "      <td>1</td>\n",
       "      <td>1</td>\n",
       "      <td>0.498361</td>\n",
       "      <td>0.951913</td>\n",
       "      <td>0.738798</td>\n",
       "      <td>0.463388</td>\n",
       "      <td>1.0</td>\n",
       "      <td>11.547541</td>\n",
       "      <td>0.542077</td>\n",
       "      <td>29.948634</td>\n",
       "      <td>166.092391</td>\n",
       "      <td>10.488525</td>\n",
       "      <td>4.778142</td>\n",
       "      <td>2.112522</td>\n",
       "      <td>2.105463</td>\n",
       "      <td>0.019672</td>\n",
       "    </tr>\n",
       "    <tr>\n",
       "      <td>2</td>\n",
       "      <td>2</td>\n",
       "      <td>0.519319</td>\n",
       "      <td>1.000000</td>\n",
       "      <td>0.224623</td>\n",
       "      <td>0.000000</td>\n",
       "      <td>1.0</td>\n",
       "      <td>2.056974</td>\n",
       "      <td>0.379175</td>\n",
       "      <td>28.918140</td>\n",
       "      <td>141.863877</td>\n",
       "      <td>1.963982</td>\n",
       "      <td>3.309758</td>\n",
       "      <td>1.808608</td>\n",
       "      <td>1.655857</td>\n",
       "      <td>0.362148</td>\n",
       "    </tr>\n",
       "    <tr>\n",
       "      <td>3</td>\n",
       "      <td>3</td>\n",
       "      <td>0.523316</td>\n",
       "      <td>0.862694</td>\n",
       "      <td>0.471503</td>\n",
       "      <td>0.305699</td>\n",
       "      <td>0.0</td>\n",
       "      <td>4.777202</td>\n",
       "      <td>0.427461</td>\n",
       "      <td>29.297927</td>\n",
       "      <td>144.208179</td>\n",
       "      <td>4.466321</td>\n",
       "      <td>3.940415</td>\n",
       "      <td>1.854211</td>\n",
       "      <td>1.723967</td>\n",
       "      <td>0.266839</td>\n",
       "    </tr>\n",
       "    <tr>\n",
       "      <td>4</td>\n",
       "      <td>4</td>\n",
       "      <td>0.505376</td>\n",
       "      <td>0.998464</td>\n",
       "      <td>0.774194</td>\n",
       "      <td>1.000000</td>\n",
       "      <td>1.0</td>\n",
       "      <td>3.000000</td>\n",
       "      <td>0.454685</td>\n",
       "      <td>29.150538</td>\n",
       "      <td>141.876021</td>\n",
       "      <td>2.804916</td>\n",
       "      <td>3.745008</td>\n",
       "      <td>1.843126</td>\n",
       "      <td>1.741179</td>\n",
       "      <td>0.250384</td>\n",
       "    </tr>\n",
       "  </tbody>\n",
       "</table>\n",
       "</div>"
      ],
      "text/plain": [
       "   cluster_km    gender  Near_Location   Partner  Promo_friends  Phone  \\\n",
       "0           0  0.500960       0.000000  0.464491       0.078695    1.0   \n",
       "1           1  0.498361       0.951913  0.738798       0.463388    1.0   \n",
       "2           2  0.519319       1.000000  0.224623       0.000000    1.0   \n",
       "3           3  0.523316       0.862694  0.471503       0.305699    0.0   \n",
       "4           4  0.505376       0.998464  0.774194       1.000000    1.0   \n",
       "\n",
       "   Contract_period  Group_visits        Age  Avg_additional_charges_total  \\\n",
       "0         2.343570      0.216891  28.579655                    136.561586   \n",
       "1        11.547541      0.542077  29.948634                    166.092391   \n",
       "2         2.056974      0.379175  28.918140                    141.863877   \n",
       "3         4.777202      0.427461  29.297927                    144.208179   \n",
       "4         3.000000      0.454685  29.150538                    141.876021   \n",
       "\n",
       "   Month_to_end_contract  Lifetime  Avg_class_frequency_total  \\\n",
       "0               2.197697  2.905950                   1.738534   \n",
       "1              10.488525  4.778142                   2.112522   \n",
       "2               1.963982  3.309758                   1.808608   \n",
       "3               4.466321  3.940415                   1.854211   \n",
       "4               2.804916  3.745008                   1.843126   \n",
       "\n",
       "   Avg_class_frequency_current_month     Churn  \n",
       "0                           1.562870  0.429942  \n",
       "1                           2.105463  0.019672  \n",
       "2                           1.655857  0.362148  \n",
       "3                           1.723967  0.266839  \n",
       "4                           1.741179  0.250384  "
      ]
     },
     "execution_count": 36,
     "metadata": {},
     "output_type": "execute_result"
    }
   ],
   "source": [
    "grouped"
   ]
  },
  {
   "cell_type": "markdown",
   "metadata": {},
   "source": [
    "We can see that the 'Gender' and ' Age' are the only 2 columns that have relatively close mean values across clusters. All other columns have quite a wide range of mean values."
   ]
  },
  {
   "cell_type": "markdown",
   "metadata": {},
   "source": [
    "#### Plot distributions of features for the clusters"
   ]
  },
  {
   "cell_type": "markdown",
   "metadata": {},
   "source": [
    "Let's look at the unique values that each column has in our data"
   ]
  },
  {
   "cell_type": "code",
   "execution_count": 37,
   "metadata": {},
   "outputs": [
    {
     "data": {
      "text/plain": [
       "gender                                  2\n",
       "Near_Location                           2\n",
       "Partner                                 2\n",
       "Promo_friends                           2\n",
       "Phone                                   2\n",
       "Contract_period                         3\n",
       "Group_visits                            2\n",
       "Age                                    23\n",
       "Avg_additional_charges_total         4000\n",
       "Month_to_end_contract                  12\n",
       "Lifetime                               29\n",
       "Avg_class_frequency_total            3913\n",
       "Avg_class_frequency_current_month    3820\n",
       "Churn                                   2\n",
       "cluster_km                              5\n",
       "dtype: int64"
      ]
     },
     "execution_count": 37,
     "metadata": {},
     "output_type": "execute_result"
    }
   ],
   "source": [
    "data.nunique()"
   ]
  },
  {
   "cell_type": "markdown",
   "metadata": {},
   "source": [
    "We can see that most of our columns have a limited set of values. For those columns we will plot histograms to show the distributions of features for the clusters. For the columns that have more than 3 unique values we'll plot bar plots to show the distributions of features for the clusters."
   ]
  },
  {
   "cell_type": "code",
   "execution_count": 38,
   "metadata": {},
   "outputs": [],
   "source": [
    "# function to plot histograms\n",
    "def show_clusters_on_hist(df, column, cluster_name):\n",
    "    print(\"\\033[1m\" + column + \" per cluster\" + \"\\033[0m\")\n",
    "    sn.catplot(column, col=cluster_name, col_wrap=4,\n",
    "                data=df,\n",
    "                kind=\"count\", height=3.5, aspect=.8, \n",
    "                palette='tab20')"
   ]
  },
  {
   "cell_type": "code",
   "execution_count": 39,
   "metadata": {},
   "outputs": [],
   "source": [
    "# function to plot boxplots\n",
    "def show_clusters_on_boxplot(df, column, cluster_name):\n",
    "    plt.figure(figsize = (8,8))\n",
    "    sn.boxplot(x = cluster_name, y = column, data = df, hue = cluster_name)\n",
    "    plt.title('{} per cluster'.format(column))\n",
    "    plt.show()"
   ]
  },
  {
   "cell_type": "code",
   "execution_count": 40,
   "metadata": {},
   "outputs": [
    {
     "name": "stdout",
     "output_type": "stream",
     "text": [
      "\u001b[1mgender per cluster\u001b[0m\n"
     ]
    },
    {
     "data": {
      "image/png": "[encoded data removed]",
      "text/plain": [
       "<Figure size 806.4x504 with 5 Axes>"
      ]
     },
     "metadata": {
      "needs_background": "light"
     },
     "output_type": "display_data"
    }
   ],
   "source": [
    "# plot 'Gender' column\n",
    "show_clusters_on_hist(data, 'gender', 'cluster_km')"
   ]
  },
  {
   "cell_type": "markdown",
   "metadata": {},
   "source": [
    "We can see that in terms of the 'Gender' columns, the clusters are mostly balanced."
   ]
  },
  {
   "cell_type": "code",
   "execution_count": 41,
   "metadata": {},
   "outputs": [
    {
     "name": "stdout",
     "output_type": "stream",
     "text": [
      "\u001b[1mNear_Location per cluster\u001b[0m\n"
     ]
    },
    {
     "data": {
      "image/png": "[encoded data removed]",
      "text/plain": [
       "<Figure size 806.4x504 with 5 Axes>"
      ]
     },
     "metadata": {
      "needs_background": "light"
     },
     "output_type": "display_data"
    }
   ],
   "source": [
    "# plot 'Near_Location' column\n",
    "show_clusters_on_hist(data, 'Near_Location', 'cluster_km')"
   ]
  },
  {
   "cell_type": "markdown",
   "metadata": {},
   "source": [
    "We can see that the clusters are not balanced at all and most of the clusters have customers who lives or works in the neighborhood where the gym is located."
   ]
  },
  {
   "cell_type": "code",
   "execution_count": 42,
   "metadata": {},
   "outputs": [
    {
     "name": "stdout",
     "output_type": "stream",
     "text": [
      "\u001b[1mPartner per cluster\u001b[0m\n"
     ]
    },
    {
     "data": {
      "image/png": "[encoded data removed]",
      "text/plain": [
       "<Figure size 806.4x504 with 5 Axes>"
      ]
     },
     "metadata": {
      "needs_background": "light"
     },
     "output_type": "display_data"
    }
   ],
   "source": [
    "# plot 'Partner' column\n",
    "show_clusters_on_hist(data, 'Partner', 'cluster_km')"
   ]
  },
  {
   "cell_type": "markdown",
   "metadata": {},
   "source": [
    "We can see there are some balanced clusters, some clusters have more customers who are employees of partner companies and some clusters have more customers who are not employees of partner companies."
   ]
  },
  {
   "cell_type": "code",
   "execution_count": 43,
   "metadata": {},
   "outputs": [
    {
     "name": "stdout",
     "output_type": "stream",
     "text": [
      "\u001b[1mPromo_friends per cluster\u001b[0m\n"
     ]
    },
    {
     "data": {
      "image/png": "[encoded data removed]",
      "text/plain": [
       "<Figure size 806.4x504 with 5 Axes>"
      ]
     },
     "metadata": {
      "needs_background": "light"
     },
     "output_type": "display_data"
    }
   ],
   "source": [
    "# plot 'Promo_friends' column\n",
    "show_clusters_on_hist(data, 'Promo_friends', 'cluster_km')"
   ]
  },
  {
   "cell_type": "markdown",
   "metadata": {},
   "source": [
    "In this column, like in the 'Partner' column, we can see that the clusters vary. Some clusters have more customers who originally signed up through a \"bring a friend\" offer and other clusters have less customers who originally signed up through a \"bring a friend\" offer."
   ]
  },
  {
   "cell_type": "code",
   "execution_count": 44,
   "metadata": {},
   "outputs": [
    {
     "name": "stdout",
     "output_type": "stream",
     "text": [
      "\u001b[1mPhone per cluster\u001b[0m\n"
     ]
    },
    {
     "data": {
      "image/png": "[encoded data removed]",
      "text/plain": [
       "<Figure size 806.4x504 with 5 Axes>"
      ]
     },
     "metadata": {
      "needs_background": "light"
     },
     "output_type": "display_data"
    }
   ],
   "source": [
    "# plot 'Phone' column\n",
    "show_clusters_on_hist(data, 'Phone', 'cluster_km')"
   ]
  },
  {
   "cell_type": "markdown",
   "metadata": {},
   "source": [
    "We can see that mostly all customers provided a phone number when sugning in (except in cluster 1 where most customers did not provide a phone number)."
   ]
  },
  {
   "cell_type": "code",
   "execution_count": 45,
   "metadata": {},
   "outputs": [
    {
     "name": "stdout",
     "output_type": "stream",
     "text": [
      "\u001b[1mContract_period per cluster\u001b[0m\n"
     ]
    },
    {
     "data": {
      "image/png": "[encoded data removed]",
      "text/plain": [
       "<Figure size 806.4x504 with 5 Axes>"
      ]
     },
     "metadata": {
      "needs_background": "light"
     },
     "output_type": "display_data"
    }
   ],
   "source": [
    "# plot 'Contract_period' column\n",
    "show_clusters_on_hist(data, 'Contract_period', 'cluster_km')"
   ]
  },
  {
   "cell_type": "markdown",
   "metadata": {},
   "source": [
    "We can see that the data varies between clusters. Some clusters have more contracts for 1 month, some for 12 months. We can see that there are no clustres in which customers have a contract for 3 months."
   ]
  },
  {
   "cell_type": "code",
   "execution_count": 46,
   "metadata": {},
   "outputs": [
    {
     "name": "stdout",
     "output_type": "stream",
     "text": [
      "\u001b[1mGroup_visits per cluster\u001b[0m\n"
     ]
    },
    {
     "data": {
      "image/png": "[encoded data removed]",
      "text/plain": [
       "<Figure size 806.4x504 with 5 Axes>"
      ]
     },
     "metadata": {
      "needs_background": "light"
     },
     "output_type": "display_data"
    }
   ],
   "source": [
    "# plot 'Group_visits' column\n",
    "show_clusters_on_hist(data, 'Group_visits', 'cluster_km')"
   ]
  },
  {
   "cell_type": "markdown",
   "metadata": {},
   "source": [
    "Like we saw in other features, some clusters have more customers who participated in group sessions and some have more customers who did not participate in group sessions."
   ]
  },
  {
   "cell_type": "code",
   "execution_count": 47,
   "metadata": {},
   "outputs": [
    {
     "data": {
      "image/png": "[encoded data removed]",
      "text/plain": [
       "<Figure size 576x576 with 1 Axes>"
      ]
     },
     "metadata": {
      "needs_background": "light"
     },
     "output_type": "display_data"
    }
   ],
   "source": [
    "# plot 'Age' column\n",
    "show_clusters_on_boxplot(data, 'Age', 'cluster_km')"
   ]
  },
  {
   "cell_type": "markdown",
   "metadata": {},
   "source": [
    "We can see we have some outliers in all clusters, but mostly the average age is very close."
   ]
  },
  {
   "cell_type": "code",
   "execution_count": 48,
   "metadata": {},
   "outputs": [
    {
     "data": {
      "image/png": "[encoded data removed]",
      "text/plain": [
       "<Figure size 576x576 with 1 Axes>"
      ]
     },
     "metadata": {
      "needs_background": "light"
     },
     "output_type": "display_data"
    }
   ],
   "source": [
    "# plot 'Avg_additional_charges_total' column\n",
    "show_clusters_on_boxplot(data, 'Avg_additional_charges_total', 'cluster_km')"
   ]
  },
  {
   "cell_type": "markdown",
   "metadata": {},
   "source": [
    "Again, the average additional charges is pretty close in all clusters. We have outliers in all clusters."
   ]
  },
  {
   "cell_type": "code",
   "execution_count": 49,
   "metadata": {},
   "outputs": [
    {
     "data": {
      "image/png": "[encoded data removed]",
      "text/plain": [
       "<Figure size 576x576 with 1 Axes>"
      ]
     },
     "metadata": {
      "needs_background": "light"
     },
     "output_type": "display_data"
    }
   ],
   "source": [
    "# plot 'Month_to_end_contract' column\n",
    "show_clusters_on_boxplot(data, 'Month_to_end_contract', 'cluster_km')"
   ]
  },
  {
   "cell_type": "markdown",
   "metadata": {},
   "source": [
    "We can see that there isn't an even distribution of months until the end of the contract for customers in the clusters."
   ]
  },
  {
   "cell_type": "markdown",
   "metadata": {},
   "source": [
    "#### Calculate the churn rate for each cluster"
   ]
  },
  {
   "cell_type": "markdown",
   "metadata": {},
   "source": [
    "We actually already calculated the churn rate when we calculated the mean values for clusters, we will just convert it to precent."
   ]
  },
  {
   "cell_type": "code",
   "execution_count": 50,
   "metadata": {},
   "outputs": [
    {
     "data": {
      "text/html": [
       "<div>\n",
       "<style scoped>\n",
       "    .dataframe tbody tr th:only-of-type {\n",
       "        vertical-align: middle;\n",
       "    }\n",
       "\n",
       "    .dataframe tbody tr th {\n",
       "        vertical-align: top;\n",
       "    }\n",
       "\n",
       "    .dataframe thead th {\n",
       "        text-align: right;\n",
       "    }\n",
       "</style>\n",
       "<table border=\"1\" class=\"dataframe\">\n",
       "  <thead>\n",
       "    <tr style=\"text-align: right;\">\n",
       "      <th></th>\n",
       "      <th>cluster_km</th>\n",
       "      <th>Churn</th>\n",
       "    </tr>\n",
       "  </thead>\n",
       "  <tbody>\n",
       "    <tr>\n",
       "      <td>0</td>\n",
       "      <td>0</td>\n",
       "      <td>0.429942</td>\n",
       "    </tr>\n",
       "    <tr>\n",
       "      <td>1</td>\n",
       "      <td>1</td>\n",
       "      <td>0.019672</td>\n",
       "    </tr>\n",
       "    <tr>\n",
       "      <td>2</td>\n",
       "      <td>2</td>\n",
       "      <td>0.362148</td>\n",
       "    </tr>\n",
       "    <tr>\n",
       "      <td>3</td>\n",
       "      <td>3</td>\n",
       "      <td>0.266839</td>\n",
       "    </tr>\n",
       "    <tr>\n",
       "      <td>4</td>\n",
       "      <td>4</td>\n",
       "      <td>0.250384</td>\n",
       "    </tr>\n",
       "  </tbody>\n",
       "</table>\n",
       "</div>"
      ],
      "text/plain": [
       "   cluster_km     Churn\n",
       "0           0  0.429942\n",
       "1           1  0.019672\n",
       "2           2  0.362148\n",
       "3           3  0.266839\n",
       "4           4  0.250384"
      ]
     },
     "execution_count": 50,
     "metadata": {},
     "output_type": "execute_result"
    }
   ],
   "source": [
    "# save churn rates in a new dataset\n",
    "churn_rate = grouped[['cluster_km','Churn']]\n",
    "churn_rate"
   ]
  },
  {
   "cell_type": "code",
   "execution_count": 51,
   "metadata": {},
   "outputs": [
    {
     "data": {
      "text/html": [
       "<div>\n",
       "<style scoped>\n",
       "    .dataframe tbody tr th:only-of-type {\n",
       "        vertical-align: middle;\n",
       "    }\n",
       "\n",
       "    .dataframe tbody tr th {\n",
       "        vertical-align: top;\n",
       "    }\n",
       "\n",
       "    .dataframe thead th {\n",
       "        text-align: right;\n",
       "    }\n",
       "</style>\n",
       "<table border=\"1\" class=\"dataframe\">\n",
       "  <thead>\n",
       "    <tr style=\"text-align: right;\">\n",
       "      <th></th>\n",
       "      <th>cluster_km</th>\n",
       "      <th>churn_%</th>\n",
       "    </tr>\n",
       "  </thead>\n",
       "  <tbody>\n",
       "    <tr>\n",
       "      <td>0</td>\n",
       "      <td>0</td>\n",
       "      <td>42.994242</td>\n",
       "    </tr>\n",
       "    <tr>\n",
       "      <td>1</td>\n",
       "      <td>1</td>\n",
       "      <td>1.967213</td>\n",
       "    </tr>\n",
       "    <tr>\n",
       "      <td>2</td>\n",
       "      <td>2</td>\n",
       "      <td>36.214800</td>\n",
       "    </tr>\n",
       "    <tr>\n",
       "      <td>3</td>\n",
       "      <td>3</td>\n",
       "      <td>26.683938</td>\n",
       "    </tr>\n",
       "    <tr>\n",
       "      <td>4</td>\n",
       "      <td>4</td>\n",
       "      <td>25.038402</td>\n",
       "    </tr>\n",
       "  </tbody>\n",
       "</table>\n",
       "</div>"
      ],
      "text/plain": [
       "   cluster_km    churn_%\n",
       "0           0  42.994242\n",
       "1           1   1.967213\n",
       "2           2  36.214800\n",
       "3           3  26.683938\n",
       "4           4  25.038402"
      ]
     },
     "execution_count": 51,
     "metadata": {},
     "output_type": "execute_result"
    }
   ],
   "source": [
    "churn_rate['Churn'] = churn_rate['Churn'] * 100\n",
    "churn_rate.rename(columns={'Churn': 'churn_%'}, inplace=True)\n",
    "churn_rate"
   ]
  },
  {
   "cell_type": "markdown",
   "metadata": {},
   "source": [
    "Let's sort the churn rate in ascending order to clearly see which clusters are most prone to leaving"
   ]
  },
  {
   "cell_type": "code",
   "execution_count": 52,
   "metadata": {},
   "outputs": [
    {
     "data": {
      "text/html": [
       "<div>\n",
       "<style scoped>\n",
       "    .dataframe tbody tr th:only-of-type {\n",
       "        vertical-align: middle;\n",
       "    }\n",
       "\n",
       "    .dataframe tbody tr th {\n",
       "        vertical-align: top;\n",
       "    }\n",
       "\n",
       "    .dataframe thead th {\n",
       "        text-align: right;\n",
       "    }\n",
       "</style>\n",
       "<table border=\"1\" class=\"dataframe\">\n",
       "  <thead>\n",
       "    <tr style=\"text-align: right;\">\n",
       "      <th></th>\n",
       "      <th>cluster_km</th>\n",
       "      <th>churn_%</th>\n",
       "    </tr>\n",
       "  </thead>\n",
       "  <tbody>\n",
       "    <tr>\n",
       "      <td>1</td>\n",
       "      <td>1</td>\n",
       "      <td>1.967213</td>\n",
       "    </tr>\n",
       "    <tr>\n",
       "      <td>4</td>\n",
       "      <td>4</td>\n",
       "      <td>25.038402</td>\n",
       "    </tr>\n",
       "    <tr>\n",
       "      <td>3</td>\n",
       "      <td>3</td>\n",
       "      <td>26.683938</td>\n",
       "    </tr>\n",
       "    <tr>\n",
       "      <td>2</td>\n",
       "      <td>2</td>\n",
       "      <td>36.214800</td>\n",
       "    </tr>\n",
       "    <tr>\n",
       "      <td>0</td>\n",
       "      <td>0</td>\n",
       "      <td>42.994242</td>\n",
       "    </tr>\n",
       "  </tbody>\n",
       "</table>\n",
       "</div>"
      ],
      "text/plain": [
       "   cluster_km    churn_%\n",
       "1           1   1.967213\n",
       "4           4  25.038402\n",
       "3           3  26.683938\n",
       "2           2  36.214800\n",
       "0           0  42.994242"
      ]
     },
     "execution_count": 52,
     "metadata": {},
     "output_type": "execute_result"
    }
   ],
   "source": [
    "churn_rate.sort_values('churn_%', inplace = True)\n",
    "churn_rate"
   ]
  },
  {
   "cell_type": "markdown",
   "metadata": {},
   "source": [
    "We can see that the second cluster has a high churn rate and is the most prone to leaving, while the third cluster has a low churn rate and is the most prone to staying. The fifth cluster has the second lowest churn rate, and the first and fourth clusters have a similiar churn rate."
   ]
  },
  {
   "cell_type": "markdown",
   "metadata": {},
   "source": [
    "[Back to Table of Contents](#toc)"
   ]
  },
  {
   "cell_type": "markdown",
   "metadata": {},
   "source": [
    "<a class=\"anchor\" id=\"chapter5\"></a>"
   ]
  },
  {
   "cell_type": "markdown",
   "metadata": {},
   "source": [
    "### Conclusions and Recommendations"
   ]
  },
  {
   "cell_type": "markdown",
   "metadata": {},
   "source": [
    "In this project we studied the missing values, distribution of data in the columns, mean values for customers who left and for those who stayed,found that overall the Accuracy of the Logistic Regression model is the best classification metric, created user clusters and looked at the mean feature values and the churn rate for each cluster."
   ]
  },
  {
   "cell_type": "code",
   "execution_count": 53,
   "metadata": {},
   "outputs": [
    {
     "data": {
      "text/plain": [
       "cluster_km                             2.000000\n",
       "gender                                 0.519319\n",
       "Near_Location                          1.000000\n",
       "Partner                                0.224623\n",
       "Promo_friends                          0.000000\n",
       "Phone                                  1.000000\n",
       "Contract_period                        2.056974\n",
       "Group_visits                           0.379175\n",
       "Age                                   28.918140\n",
       "Avg_additional_charges_total         141.863877\n",
       "Month_to_end_contract                  1.963982\n",
       "Lifetime                               3.309758\n",
       "Avg_class_frequency_total              1.808608\n",
       "Avg_class_frequency_current_month      1.655857\n",
       "Churn                                  0.362148\n",
       "Name: 2, dtype: float64"
      ]
     },
     "execution_count": 53,
     "metadata": {},
     "output_type": "execute_result"
    }
   ],
   "source": [
    "# look at the third cluster\n",
    "grouped.loc[2]"
   ]
  },
  {
   "cell_type": "markdown",
   "metadata": {},
   "source": [
    "When looking at the third cluster (which has the highest staying rate from all 5 clusters), we can see that the customers are characterized by-\n",
    "1) Living or working in the neighborhood where the gym is located\n",
    "\n",
    "2) Being an employee of a partner company\n",
    "\n",
    "3) Having a 1 year contract\n",
    "\n",
    "4) Being ~30 years old\n",
    "\n",
    "5) Coming to a class consistently twice a week"
   ]
  },
  {
   "cell_type": "markdown",
   "metadata": {},
   "source": [
    "From this analysis of the cluster of customers that stays, these are my recommendation:\n",
    "1) Target companies in the area with deals on 1 year contracts, which should lure customers that fit the profile of a customer that doesn't churn.\n",
    "\n",
    "2) Contact the companies in the area and partner with them to have more access to customers who fit the profile.\n",
    "\n",
    "3) Have marketing that appeals more to ~30 year olds.\n",
    "\n",
    "4) Market classes that have a frequency of at least twice a week."
   ]
  }
 ],
 "metadata": {
  "ExecuteTimeLog": [
   {
    "duration": 1332,
    "start_time": "2021-12-30T10:59:22.756Z"
   },
   {
    "duration": 311,
    "start_time": "2021-12-30T11:01:14.268Z"
   },
   {
    "duration": 411,
    "start_time": "2021-12-30T11:03:17.064Z"
   },
   {
    "duration": 11,
    "start_time": "2021-12-30T11:03:21.021Z"
   },
   {
    "duration": 26,
    "start_time": "2021-12-30T11:03:30.452Z"
   },
   {
    "duration": 17,
    "start_time": "2021-12-30T11:03:40.112Z"
   },
   {
    "duration": 79,
    "start_time": "2021-12-30T11:11:39.947Z"
   },
   {
    "duration": 7229,
    "start_time": "2021-12-30T11:15:57.121Z"
   },
   {
    "duration": 291,
    "start_time": "2021-12-30T11:16:21.370Z"
   },
   {
    "duration": 478,
    "start_time": "2021-12-30T11:16:32.476Z"
   },
   {
    "duration": 40,
    "start_time": "2021-12-30T11:17:21.727Z"
   },
   {
    "duration": 36,
    "start_time": "2021-12-30T12:51:14.712Z"
   },
   {
    "duration": 6,
    "start_time": "2021-12-30T13:32:10.570Z"
   },
   {
    "duration": 21,
    "start_time": "2021-12-30T13:32:17.099Z"
   },
   {
    "duration": 6,
    "start_time": "2021-12-30T13:37:30.128Z"
   },
   {
    "duration": 28,
    "start_time": "2021-12-30T13:37:36.598Z"
   },
   {
    "duration": 7345,
    "start_time": "2021-12-30T13:38:04.290Z"
   },
   {
    "duration": 10,
    "start_time": "2021-12-30T13:38:27.315Z"
   },
   {
    "duration": 10,
    "start_time": "2021-12-30T13:38:34.919Z"
   },
   {
    "duration": 24,
    "start_time": "2021-12-30T13:44:57.461Z"
   },
   {
    "duration": 46,
    "start_time": "2021-12-30T13:57:32.666Z"
   },
   {
    "duration": 29,
    "start_time": "2021-12-30T13:57:55.239Z"
   },
   {
    "duration": 6217,
    "start_time": "2021-12-30T15:57:29.585Z"
   },
   {
    "duration": 6889,
    "start_time": "2021-12-30T15:57:53.950Z"
   },
   {
    "duration": 3131,
    "start_time": "2021-12-30T16:01:21.914Z"
   },
   {
    "duration": 2670,
    "start_time": "2021-12-30T16:04:43.406Z"
   },
   {
    "duration": 3312,
    "start_time": "2021-12-30T16:04:52.787Z"
   },
   {
    "duration": 3573,
    "start_time": "2021-12-30T16:05:11.718Z"
   },
   {
    "duration": 30,
    "start_time": "2021-12-30T16:06:22.334Z"
   },
   {
    "duration": 6743,
    "start_time": "2021-12-30T16:06:45.463Z"
   },
   {
    "duration": 7300,
    "start_time": "2021-12-30T16:07:39.555Z"
   },
   {
    "duration": 1306,
    "start_time": "2021-12-30T16:08:38.664Z"
   },
   {
    "duration": 922,
    "start_time": "2021-12-30T16:08:52.046Z"
   },
   {
    "duration": 757,
    "start_time": "2021-12-30T16:09:02.006Z"
   },
   {
    "duration": 839,
    "start_time": "2021-12-30T16:09:09.955Z"
   },
   {
    "duration": 1320,
    "start_time": "2021-12-30T16:09:57.788Z"
   },
   {
    "duration": 5,
    "start_time": "2021-12-30T16:10:16.012Z"
   },
   {
    "duration": 886,
    "start_time": "2021-12-30T16:10:19.922Z"
   },
   {
    "duration": 949,
    "start_time": "2021-12-30T16:10:31.934Z"
   },
   {
    "duration": 895,
    "start_time": "2021-12-30T16:10:36.837Z"
   },
   {
    "duration": 867,
    "start_time": "2021-12-30T16:13:31.396Z"
   },
   {
    "duration": 1324,
    "start_time": "2021-12-30T16:16:57.692Z"
   },
   {
    "duration": 985,
    "start_time": "2021-12-30T16:17:37.713Z"
   },
   {
    "duration": 913,
    "start_time": "2021-12-30T16:17:46.529Z"
   },
   {
    "duration": 909,
    "start_time": "2021-12-30T16:18:40.042Z"
   },
   {
    "duration": 661,
    "start_time": "2021-12-30T16:20:20.015Z"
   },
   {
    "duration": 824,
    "start_time": "2021-12-30T16:20:38.040Z"
   },
   {
    "duration": 995,
    "start_time": "2021-12-30T16:20:46.865Z"
   },
   {
    "duration": 812,
    "start_time": "2021-12-30T16:20:56.440Z"
   },
   {
    "duration": 635,
    "start_time": "2021-12-30T16:21:56.688Z"
   },
   {
    "duration": 680,
    "start_time": "2021-12-30T16:22:21.418Z"
   },
   {
    "duration": 695,
    "start_time": "2021-12-30T16:22:32.253Z"
   },
   {
    "duration": 27,
    "start_time": "2021-12-30T16:24:58.442Z"
   },
   {
    "duration": 91,
    "start_time": "2021-12-30T16:25:25.460Z"
   },
   {
    "duration": 1625,
    "start_time": "2021-12-30T16:25:41.076Z"
   },
   {
    "duration": 531,
    "start_time": "2021-12-30T16:26:00.917Z"
   },
   {
    "duration": 16,
    "start_time": "2021-12-30T16:27:54.738Z"
   },
   {
    "duration": 514,
    "start_time": "2021-12-30T16:28:03.709Z"
   },
   {
    "duration": 523,
    "start_time": "2021-12-30T16:28:55.181Z"
   },
   {
    "duration": 6,
    "start_time": "2021-12-30T16:33:09.616Z"
   },
   {
    "duration": 7,
    "start_time": "2021-12-30T16:37:51.844Z"
   },
   {
    "duration": 4,
    "start_time": "2021-12-30T16:39:06.462Z"
   },
   {
    "duration": 7,
    "start_time": "2021-12-30T16:40:31.317Z"
   },
   {
    "duration": 3,
    "start_time": "2021-12-30T16:40:32.586Z"
   },
   {
    "duration": 293,
    "start_time": "2021-12-30T16:40:33.285Z"
   },
   {
    "duration": 48,
    "start_time": "2021-12-30T16:40:46.569Z"
   },
   {
    "duration": 5,
    "start_time": "2021-12-30T16:54:39.520Z"
   },
   {
    "duration": 293,
    "start_time": "2021-12-30T16:55:15.738Z"
   },
   {
    "duration": 8,
    "start_time": "2021-12-30T16:55:21.876Z"
   },
   {
    "duration": 12,
    "start_time": "2021-12-30T16:55:41.602Z"
   },
   {
    "duration": 3,
    "start_time": "2021-12-30T16:57:55.798Z"
   },
   {
    "duration": 447,
    "start_time": "2021-12-30T16:58:07.467Z"
   },
   {
    "duration": 384,
    "start_time": "2021-12-30T17:00:09.714Z"
   },
   {
    "duration": 3,
    "start_time": "2021-12-30T17:00:16.765Z"
   },
   {
    "duration": 59,
    "start_time": "2021-12-30T17:00:17.821Z"
   },
   {
    "duration": 6,
    "start_time": "2021-12-30T17:00:20.868Z"
   },
   {
    "duration": 13,
    "start_time": "2021-12-30T17:00:21.516Z"
   },
   {
    "duration": 4,
    "start_time": "2021-12-30T17:00:24.750Z"
   },
   {
    "duration": 18,
    "start_time": "2021-12-30T17:00:26.840Z"
   },
   {
    "duration": 7,
    "start_time": "2021-12-30T17:00:33.144Z"
   },
   {
    "duration": 13,
    "start_time": "2021-12-30T17:01:03.478Z"
   },
   {
    "duration": 1435,
    "start_time": "2021-12-30T17:01:10.373Z"
   },
   {
    "duration": 209,
    "start_time": "2021-12-30T17:01:11.811Z"
   },
   {
    "duration": 10,
    "start_time": "2021-12-30T17:01:12.023Z"
   },
   {
    "duration": 25,
    "start_time": "2021-12-30T17:01:12.036Z"
   },
   {
    "duration": 15,
    "start_time": "2021-12-30T17:01:12.063Z"
   },
   {
    "duration": 63,
    "start_time": "2021-12-30T17:01:12.080Z"
   },
   {
    "duration": 24,
    "start_time": "2021-12-30T17:01:12.146Z"
   },
   {
    "duration": 53,
    "start_time": "2021-12-30T17:01:12.173Z"
   },
   {
    "duration": 29,
    "start_time": "2021-12-30T17:01:12.229Z"
   },
   {
    "duration": 1106,
    "start_time": "2021-12-30T17:01:12.261Z"
   },
   {
    "duration": 1016,
    "start_time": "2021-12-30T17:01:13.370Z"
   },
   {
    "duration": 746,
    "start_time": "2021-12-30T17:01:14.389Z"
   },
   {
    "duration": 779,
    "start_time": "2021-12-30T17:01:15.137Z"
   },
   {
    "duration": 707,
    "start_time": "2021-12-30T17:01:15.923Z"
   },
   {
    "duration": 16,
    "start_time": "2021-12-30T17:01:16.632Z"
   },
   {
    "duration": 490,
    "start_time": "2021-12-30T17:01:16.650Z"
   },
   {
    "duration": 6,
    "start_time": "2021-12-30T17:01:17.142Z"
   },
   {
    "duration": 17,
    "start_time": "2021-12-30T17:01:17.150Z"
   },
   {
    "duration": 9,
    "start_time": "2021-12-30T17:01:17.169Z"
   },
   {
    "duration": 60,
    "start_time": "2021-12-30T17:01:17.180Z"
   },
   {
    "duration": 5,
    "start_time": "2021-12-30T17:01:17.242Z"
   },
   {
    "duration": 181,
    "start_time": "2021-12-30T17:01:17.250Z"
   },
   {
    "duration": 3,
    "start_time": "2021-12-30T17:01:17.435Z"
   },
   {
    "duration": 20,
    "start_time": "2021-12-30T17:01:17.441Z"
   },
   {
    "duration": 6,
    "start_time": "2021-12-30T17:01:17.463Z"
   },
   {
    "duration": 11,
    "start_time": "2021-12-30T17:01:17.471Z"
   },
   {
    "duration": 1164,
    "start_time": "2022-01-03T17:35:37.517Z"
   },
   {
    "duration": 175,
    "start_time": "2022-01-03T17:35:38.683Z"
   },
   {
    "duration": 7,
    "start_time": "2022-01-03T17:35:38.860Z"
   },
   {
    "duration": 14,
    "start_time": "2022-01-03T17:35:38.869Z"
   },
   {
    "duration": 12,
    "start_time": "2022-01-03T17:35:38.885Z"
   },
   {
    "duration": 23,
    "start_time": "2022-01-03T17:35:38.898Z"
   },
   {
    "duration": 25,
    "start_time": "2022-01-03T17:35:38.922Z"
   },
   {
    "duration": 15,
    "start_time": "2022-01-03T17:35:38.949Z"
   },
   {
    "duration": 15,
    "start_time": "2022-01-03T17:35:38.967Z"
   },
   {
    "duration": 639,
    "start_time": "2022-01-03T17:35:38.984Z"
   },
   {
    "duration": 571,
    "start_time": "2022-01-03T17:35:39.625Z"
   },
   {
    "duration": 406,
    "start_time": "2022-01-03T17:35:40.198Z"
   },
   {
    "duration": 448,
    "start_time": "2022-01-03T17:35:40.605Z"
   },
   {
    "duration": 396,
    "start_time": "2022-01-03T17:35:41.055Z"
   },
   {
    "duration": 10,
    "start_time": "2022-01-03T17:35:41.452Z"
   },
   {
    "duration": 350,
    "start_time": "2022-01-03T17:35:41.463Z"
   },
   {
    "duration": 4,
    "start_time": "2022-01-03T17:35:41.814Z"
   },
   {
    "duration": 8,
    "start_time": "2022-01-03T17:35:41.819Z"
   },
   {
    "duration": 3,
    "start_time": "2022-01-03T17:35:41.829Z"
   },
   {
    "duration": 23,
    "start_time": "2022-01-03T17:35:41.841Z"
   },
   {
    "duration": 76,
    "start_time": "2022-01-03T17:35:41.866Z"
   },
   {
    "duration": 100,
    "start_time": "2022-01-03T17:35:41.944Z"
   },
   {
    "duration": 7,
    "start_time": "2022-01-03T17:35:42.046Z"
   },
   {
    "duration": 16,
    "start_time": "2022-01-03T17:35:42.054Z"
   },
   {
    "duration": 4,
    "start_time": "2022-01-03T17:35:42.071Z"
   },
   {
    "duration": 8,
    "start_time": "2022-01-03T17:35:42.077Z"
   },
   {
    "duration": 3,
    "start_time": "2022-01-03T17:41:11.895Z"
   },
   {
    "duration": 2,
    "start_time": "2022-01-03T17:43:01.488Z"
   },
   {
    "duration": 5,
    "start_time": "2022-01-03T17:43:15.746Z"
   },
   {
    "duration": 4,
    "start_time": "2022-01-03T17:43:31.354Z"
   },
   {
    "duration": 1365,
    "start_time": "2022-01-03T17:49:06.127Z"
   },
   {
    "duration": 167,
    "start_time": "2022-01-03T17:49:07.494Z"
   },
   {
    "duration": 7,
    "start_time": "2022-01-03T17:49:07.663Z"
   },
   {
    "duration": 13,
    "start_time": "2022-01-03T17:49:07.672Z"
   },
   {
    "duration": 10,
    "start_time": "2022-01-03T17:49:07.686Z"
   },
   {
    "duration": 24,
    "start_time": "2022-01-03T17:49:07.698Z"
   },
   {
    "duration": 27,
    "start_time": "2022-01-03T17:49:07.724Z"
   },
   {
    "duration": 17,
    "start_time": "2022-01-03T17:49:07.753Z"
   },
   {
    "duration": 19,
    "start_time": "2022-01-03T17:49:07.772Z"
   },
   {
    "duration": 652,
    "start_time": "2022-01-03T17:49:07.793Z"
   },
   {
    "duration": 646,
    "start_time": "2022-01-03T17:49:08.447Z"
   },
   {
    "duration": 424,
    "start_time": "2022-01-03T17:49:09.094Z"
   },
   {
    "duration": 477,
    "start_time": "2022-01-03T17:49:09.519Z"
   },
   {
    "duration": 416,
    "start_time": "2022-01-03T17:49:09.997Z"
   },
   {
    "duration": 11,
    "start_time": "2022-01-03T17:49:10.414Z"
   },
   {
    "duration": 379,
    "start_time": "2022-01-03T17:49:10.427Z"
   },
   {
    "duration": 3,
    "start_time": "2022-01-03T17:49:10.808Z"
   },
   {
    "duration": 13,
    "start_time": "2022-01-03T17:49:10.813Z"
   },
   {
    "duration": 8,
    "start_time": "2022-01-03T17:49:10.827Z"
   },
   {
    "duration": 37,
    "start_time": "2022-01-03T17:49:10.837Z"
   },
   {
    "duration": 12,
    "start_time": "2022-01-03T17:49:10.875Z"
   },
   {
    "duration": 104,
    "start_time": "2022-01-03T17:49:10.942Z"
   },
   {
    "duration": 3,
    "start_time": "2022-01-03T17:49:11.048Z"
   },
   {
    "duration": 17,
    "start_time": "2022-01-03T17:49:11.052Z"
   },
   {
    "duration": 3,
    "start_time": "2022-01-03T17:49:11.071Z"
   },
   {
    "duration": 9,
    "start_time": "2022-01-03T17:49:11.075Z"
   },
   {
    "duration": 3,
    "start_time": "2022-01-03T17:49:11.086Z"
   },
   {
    "duration": 8,
    "start_time": "2022-01-03T17:49:11.090Z"
   },
   {
    "duration": 3,
    "start_time": "2022-01-03T17:49:25.456Z"
   },
   {
    "duration": 3,
    "start_time": "2022-01-03T17:50:20.938Z"
   },
   {
    "duration": 23,
    "start_time": "2022-01-03T17:50:27.083Z"
   },
   {
    "duration": 1154,
    "start_time": "2022-01-03T17:50:33.125Z"
   },
   {
    "duration": 2,
    "start_time": "2022-01-03T17:50:34.281Z"
   },
   {
    "duration": 186,
    "start_time": "2022-01-03T17:50:34.285Z"
   },
   {
    "duration": 7,
    "start_time": "2022-01-03T17:50:34.473Z"
   },
   {
    "duration": 15,
    "start_time": "2022-01-03T17:50:34.482Z"
   },
   {
    "duration": 11,
    "start_time": "2022-01-03T17:50:34.499Z"
   },
   {
    "duration": 41,
    "start_time": "2022-01-03T17:50:34.512Z"
   },
   {
    "duration": 15,
    "start_time": "2022-01-03T17:50:34.556Z"
   },
   {
    "duration": 20,
    "start_time": "2022-01-03T17:50:34.573Z"
   },
   {
    "duration": 22,
    "start_time": "2022-01-03T17:50:34.596Z"
   },
   {
    "duration": 629,
    "start_time": "2022-01-03T17:50:34.620Z"
   },
   {
    "duration": 592,
    "start_time": "2022-01-03T17:50:35.251Z"
   },
   {
    "duration": 417,
    "start_time": "2022-01-03T17:50:35.845Z"
   },
   {
    "duration": 454,
    "start_time": "2022-01-03T17:50:36.264Z"
   },
   {
    "duration": 401,
    "start_time": "2022-01-03T17:50:36.719Z"
   },
   {
    "duration": 9,
    "start_time": "2022-01-03T17:50:37.122Z"
   },
   {
    "duration": 379,
    "start_time": "2022-01-03T17:50:37.133Z"
   },
   {
    "duration": 4,
    "start_time": "2022-01-03T17:50:37.514Z"
   },
   {
    "duration": 7,
    "start_time": "2022-01-03T17:50:37.519Z"
   },
   {
    "duration": 17,
    "start_time": "2022-01-03T17:50:37.527Z"
   },
   {
    "duration": 25,
    "start_time": "2022-01-03T17:50:37.545Z"
   },
   {
    "duration": 3,
    "start_time": "2022-01-03T17:50:37.572Z"
   },
   {
    "duration": 66,
    "start_time": "2022-01-03T17:50:37.579Z"
   },
   {
    "duration": 3,
    "start_time": "2022-01-03T17:50:37.647Z"
   },
   {
    "duration": 95,
    "start_time": "2022-01-03T17:50:37.653Z"
   },
   {
    "duration": 4,
    "start_time": "2022-01-03T17:50:37.750Z"
   },
   {
    "duration": 12,
    "start_time": "2022-01-03T17:50:37.755Z"
   },
   {
    "duration": 4,
    "start_time": "2022-01-03T17:50:37.769Z"
   },
   {
    "duration": 9,
    "start_time": "2022-01-03T17:50:37.774Z"
   },
   {
    "duration": 5,
    "start_time": "2022-01-03T17:50:55.298Z"
   },
   {
    "duration": 6,
    "start_time": "2022-01-03T17:50:59.862Z"
   },
   {
    "duration": 5,
    "start_time": "2022-01-03T17:51:03.349Z"
   },
   {
    "duration": 317,
    "start_time": "2022-01-03T17:52:59.310Z"
   },
   {
    "duration": 1157,
    "start_time": "2022-01-03T17:54:02.844Z"
   },
   {
    "duration": 3,
    "start_time": "2022-01-03T17:54:04.003Z"
   },
   {
    "duration": 186,
    "start_time": "2022-01-03T17:54:04.008Z"
   },
   {
    "duration": 8,
    "start_time": "2022-01-03T17:54:04.195Z"
   },
   {
    "duration": 20,
    "start_time": "2022-01-03T17:54:04.205Z"
   },
   {
    "duration": 16,
    "start_time": "2022-01-03T17:54:04.227Z"
   },
   {
    "duration": 25,
    "start_time": "2022-01-03T17:54:04.244Z"
   },
   {
    "duration": 15,
    "start_time": "2022-01-03T17:54:04.271Z"
   },
   {
    "duration": 17,
    "start_time": "2022-01-03T17:54:04.288Z"
   },
   {
    "duration": 39,
    "start_time": "2022-01-03T17:54:04.307Z"
   },
   {
    "duration": 650,
    "start_time": "2022-01-03T17:54:04.348Z"
   },
   {
    "duration": 590,
    "start_time": "2022-01-03T17:54:05.000Z"
   },
   {
    "duration": 434,
    "start_time": "2022-01-03T17:54:05.592Z"
   },
   {
    "duration": 471,
    "start_time": "2022-01-03T17:54:06.028Z"
   },
   {
    "duration": 413,
    "start_time": "2022-01-03T17:54:06.501Z"
   },
   {
    "duration": 24,
    "start_time": "2022-01-03T17:54:06.917Z"
   },
   {
    "duration": 374,
    "start_time": "2022-01-03T17:54:06.943Z"
   },
   {
    "duration": 4,
    "start_time": "2022-01-03T17:54:07.319Z"
   },
   {
    "duration": 18,
    "start_time": "2022-01-03T17:54:07.325Z"
   },
   {
    "duration": 3,
    "start_time": "2022-01-03T17:54:07.345Z"
   },
   {
    "duration": 30,
    "start_time": "2022-01-03T17:54:07.350Z"
   },
   {
    "duration": 6,
    "start_time": "2022-01-03T17:54:07.382Z"
   },
   {
    "duration": 152,
    "start_time": "2022-01-03T17:54:07.392Z"
   },
   {
    "duration": 2,
    "start_time": "2022-01-03T17:54:07.546Z"
   },
   {
    "duration": 14,
    "start_time": "2022-01-03T17:54:07.550Z"
   },
   {
    "duration": 4,
    "start_time": "2022-01-03T17:54:07.565Z"
   },
   {
    "duration": 7,
    "start_time": "2022-01-03T17:54:07.570Z"
   },
   {
    "duration": 2,
    "start_time": "2022-01-03T17:54:07.579Z"
   },
   {
    "duration": 351,
    "start_time": "2022-01-03T17:54:07.583Z"
   },
   {
    "duration": -167,
    "start_time": "2022-01-03T17:54:08.103Z"
   },
   {
    "duration": 7,
    "start_time": "2022-01-03T17:54:14.990Z"
   },
   {
    "duration": 506,
    "start_time": "2022-01-03T17:54:17.205Z"
   },
   {
    "duration": 3,
    "start_time": "2022-01-03T17:54:45.568Z"
   },
   {
    "duration": 77856,
    "start_time": "2022-01-03T17:55:12.879Z"
   },
   {
    "duration": 1597,
    "start_time": "2022-01-05T18:08:14.973Z"
   },
   {
    "duration": 5,
    "start_time": "2022-01-05T18:08:16.572Z"
   },
   {
    "duration": 276,
    "start_time": "2022-01-05T18:08:16.580Z"
   },
   {
    "duration": 11,
    "start_time": "2022-01-05T18:08:16.858Z"
   },
   {
    "duration": 21,
    "start_time": "2022-01-05T18:08:16.872Z"
   },
   {
    "duration": 17,
    "start_time": "2022-01-05T18:08:16.895Z"
   },
   {
    "duration": 42,
    "start_time": "2022-01-05T18:08:16.915Z"
   },
   {
    "duration": 23,
    "start_time": "2022-01-05T18:08:16.960Z"
   },
   {
    "duration": 56,
    "start_time": "2022-01-05T18:08:16.987Z"
   },
   {
    "duration": 28,
    "start_time": "2022-01-05T18:08:17.046Z"
   },
   {
    "duration": 1071,
    "start_time": "2022-01-05T18:08:17.077Z"
   },
   {
    "duration": 1075,
    "start_time": "2022-01-05T18:08:18.152Z"
   },
   {
    "duration": 775,
    "start_time": "2022-01-05T18:08:19.230Z"
   },
   {
    "duration": 1314,
    "start_time": "2022-01-05T18:08:20.008Z"
   },
   {
    "duration": 842,
    "start_time": "2022-01-05T18:08:21.325Z"
   },
   {
    "duration": 18,
    "start_time": "2022-01-05T18:08:22.169Z"
   },
   {
    "duration": 550,
    "start_time": "2022-01-05T18:08:22.190Z"
   },
   {
    "duration": 6,
    "start_time": "2022-01-05T18:08:22.744Z"
   },
   {
    "duration": 18,
    "start_time": "2022-01-05T18:08:22.753Z"
   },
   {
    "duration": 7,
    "start_time": "2022-01-05T18:08:22.773Z"
   },
   {
    "duration": 76,
    "start_time": "2022-01-05T18:08:22.782Z"
   },
   {
    "duration": 13,
    "start_time": "2022-01-05T18:08:22.861Z"
   },
   {
    "duration": 110,
    "start_time": "2022-01-05T18:08:22.933Z"
   },
   {
    "duration": 4,
    "start_time": "2022-01-05T18:08:23.046Z"
   },
   {
    "duration": 26,
    "start_time": "2022-01-05T18:08:23.052Z"
   },
   {
    "duration": 7,
    "start_time": "2022-01-05T18:08:23.081Z"
   },
   {
    "duration": 43,
    "start_time": "2022-01-05T18:08:23.090Z"
   },
   {
    "duration": 4,
    "start_time": "2022-01-05T18:08:23.136Z"
   },
   {
    "duration": 15,
    "start_time": "2022-01-05T18:08:23.142Z"
   },
   {
    "duration": 989,
    "start_time": "2022-01-05T18:08:23.159Z"
   },
   {
    "duration": 143743,
    "start_time": "2022-01-05T18:08:24.151Z"
   },
   {
    "duration": 410,
    "start_time": "2022-01-05T18:36:36.460Z"
   },
   {
    "duration": 94,
    "start_time": "2022-01-05T18:36:51.505Z"
   },
   {
    "duration": 3,
    "start_time": "2022-01-05T18:36:57.315Z"
   },
   {
    "duration": 1420,
    "start_time": "2022-01-05T18:36:59.110Z"
   },
   {
    "duration": 1537,
    "start_time": "2022-01-05T18:37:52.622Z"
   },
   {
    "duration": 3,
    "start_time": "2022-01-05T18:37:54.162Z"
   },
   {
    "duration": 214,
    "start_time": "2022-01-05T18:37:54.168Z"
   },
   {
    "duration": 10,
    "start_time": "2022-01-05T18:37:54.385Z"
   },
   {
    "duration": 23,
    "start_time": "2022-01-05T18:37:54.398Z"
   },
   {
    "duration": 16,
    "start_time": "2022-01-05T18:37:54.424Z"
   },
   {
    "duration": 35,
    "start_time": "2022-01-05T18:37:54.443Z"
   },
   {
    "duration": 50,
    "start_time": "2022-01-05T18:37:54.482Z"
   },
   {
    "duration": 27,
    "start_time": "2022-01-05T18:37:54.535Z"
   },
   {
    "duration": 33,
    "start_time": "2022-01-05T18:37:54.565Z"
   },
   {
    "duration": 1072,
    "start_time": "2022-01-05T18:37:54.601Z"
   },
   {
    "duration": 1069,
    "start_time": "2022-01-05T18:37:55.675Z"
   },
   {
    "duration": 745,
    "start_time": "2022-01-05T18:37:56.747Z"
   },
   {
    "duration": 820,
    "start_time": "2022-01-05T18:37:57.495Z"
   },
   {
    "duration": 762,
    "start_time": "2022-01-05T18:37:58.317Z"
   },
   {
    "duration": 15,
    "start_time": "2022-01-05T18:37:59.082Z"
   },
   {
    "duration": 543,
    "start_time": "2022-01-05T18:37:59.099Z"
   },
   {
    "duration": 6,
    "start_time": "2022-01-05T18:37:59.644Z"
   },
   {
    "duration": 9,
    "start_time": "2022-01-05T18:37:59.653Z"
   },
   {
    "duration": 3,
    "start_time": "2022-01-05T18:37:59.665Z"
   },
   {
    "duration": 87,
    "start_time": "2022-01-05T18:37:59.671Z"
   },
   {
    "duration": 74,
    "start_time": "2022-01-05T18:37:59.760Z"
   },
   {
    "duration": 93,
    "start_time": "2022-01-05T18:37:59.839Z"
   },
   {
    "duration": 5,
    "start_time": "2022-01-05T18:37:59.936Z"
   },
   {
    "duration": 25,
    "start_time": "2022-01-05T18:37:59.944Z"
   },
   {
    "duration": 7,
    "start_time": "2022-01-05T18:37:59.972Z"
   },
   {
    "duration": 14,
    "start_time": "2022-01-05T18:38:00.025Z"
   },
   {
    "duration": 6,
    "start_time": "2022-01-05T18:38:00.042Z"
   },
   {
    "duration": 18,
    "start_time": "2022-01-05T18:38:00.051Z"
   },
   {
    "duration": 1200,
    "start_time": "2022-01-05T18:38:00.073Z"
   },
   {
    "duration": 140754,
    "start_time": "2022-01-05T18:38:01.276Z"
   },
   {
    "duration": 3,
    "start_time": "2022-01-05T18:40:22.033Z"
   },
   {
    "duration": 1911,
    "start_time": "2022-01-05T18:40:22.039Z"
   },
   {
    "duration": 489,
    "start_time": "2022-01-05T18:41:50.609Z"
   },
   {
    "duration": 5,
    "start_time": "2022-01-05T18:42:51.676Z"
   },
   {
    "duration": 9,
    "start_time": "2022-01-05T18:42:52.717Z"
   },
   {
    "duration": 24,
    "start_time": "2022-01-05T18:42:58.113Z"
   },
   {
    "duration": 1167,
    "start_time": "2022-01-06T11:21:56.870Z"
   },
   {
    "duration": 3,
    "start_time": "2022-01-06T11:21:58.038Z"
   },
   {
    "duration": 216,
    "start_time": "2022-01-06T11:21:58.043Z"
   },
   {
    "duration": 7,
    "start_time": "2022-01-06T11:21:58.261Z"
   },
   {
    "duration": 24,
    "start_time": "2022-01-06T11:21:58.270Z"
   },
   {
    "duration": 19,
    "start_time": "2022-01-06T11:21:58.296Z"
   },
   {
    "duration": 35,
    "start_time": "2022-01-06T11:21:58.316Z"
   },
   {
    "duration": 33,
    "start_time": "2022-01-06T11:21:58.355Z"
   },
   {
    "duration": 25,
    "start_time": "2022-01-06T11:21:58.391Z"
   },
   {
    "duration": 39,
    "start_time": "2022-01-06T11:21:58.419Z"
   },
   {
    "duration": 644,
    "start_time": "2022-01-06T11:21:58.460Z"
   },
   {
    "duration": 622,
    "start_time": "2022-01-06T11:21:59.106Z"
   },
   {
    "duration": 464,
    "start_time": "2022-01-06T11:21:59.730Z"
   },
   {
    "duration": 513,
    "start_time": "2022-01-06T11:22:00.196Z"
   },
   {
    "duration": 453,
    "start_time": "2022-01-06T11:22:00.711Z"
   },
   {
    "duration": 11,
    "start_time": "2022-01-06T11:22:01.166Z"
   },
   {
    "duration": 390,
    "start_time": "2022-01-06T11:22:01.179Z"
   },
   {
    "duration": 4,
    "start_time": "2022-01-06T11:22:01.571Z"
   },
   {
    "duration": 26,
    "start_time": "2022-01-06T11:22:01.576Z"
   },
   {
    "duration": 23,
    "start_time": "2022-01-06T11:22:01.603Z"
   },
   {
    "duration": 59,
    "start_time": "2022-01-06T11:22:01.627Z"
   },
   {
    "duration": 74,
    "start_time": "2022-01-06T11:22:01.688Z"
   },
   {
    "duration": 99,
    "start_time": "2022-01-06T11:22:01.765Z"
   },
   {
    "duration": 8,
    "start_time": "2022-01-06T11:22:01.867Z"
   },
   {
    "duration": 24,
    "start_time": "2022-01-06T11:22:01.877Z"
   },
   {
    "duration": 4,
    "start_time": "2022-01-06T11:22:01.903Z"
   },
   {
    "duration": 9,
    "start_time": "2022-01-06T11:22:01.961Z"
   },
   {
    "duration": 25,
    "start_time": "2022-01-06T11:22:01.971Z"
   },
   {
    "duration": 26,
    "start_time": "2022-01-06T11:22:01.998Z"
   },
   {
    "duration": 579,
    "start_time": "2022-01-06T11:22:02.026Z"
   },
   {
    "duration": 82255,
    "start_time": "2022-01-06T11:22:02.607Z"
   },
   {
    "duration": 3,
    "start_time": "2022-01-06T11:23:24.864Z"
   },
   {
    "duration": 1398,
    "start_time": "2022-01-06T11:23:24.869Z"
   },
   {
    "duration": 92,
    "start_time": "2022-01-06T11:23:26.269Z"
   },
   {
    "duration": 7,
    "start_time": "2022-01-06T11:23:26.363Z"
   },
   {
    "duration": 14,
    "start_time": "2022-01-06T11:23:26.372Z"
   },
   {
    "duration": 4,
    "start_time": "2022-01-06T12:25:23.972Z"
   },
   {
    "duration": 655,
    "start_time": "2022-01-06T12:27:28.470Z"
   },
   {
    "duration": 4,
    "start_time": "2022-01-06T12:27:39.292Z"
   },
   {
    "duration": 650,
    "start_time": "2022-01-06T12:27:40.020Z"
   },
   {
    "duration": 4,
    "start_time": "2022-01-06T12:28:31.436Z"
   },
   {
    "duration": 671,
    "start_time": "2022-01-06T12:28:32.085Z"
   },
   {
    "duration": 4,
    "start_time": "2022-01-06T12:36:21.906Z"
   },
   {
    "duration": 2070,
    "start_time": "2022-01-06T12:36:52.194Z"
   },
   {
    "duration": 1873,
    "start_time": "2022-01-06T12:37:19.587Z"
   },
   {
    "duration": 1728,
    "start_time": "2022-01-06T12:37:57.900Z"
   },
   {
    "duration": 2849,
    "start_time": "2022-01-06T12:40:00.325Z"
   },
   {
    "duration": 86,
    "start_time": "2022-01-06T12:41:28.686Z"
   },
   {
    "duration": 3,
    "start_time": "2022-01-06T12:41:45.154Z"
   },
   {
    "duration": 504,
    "start_time": "2022-01-06T12:41:47.614Z"
   },
   {
    "duration": 12,
    "start_time": "2022-01-06T12:48:29.554Z"
   },
   {
    "duration": 15,
    "start_time": "2022-01-06T12:49:10.002Z"
   },
   {
    "duration": 3,
    "start_time": "2022-01-06T13:39:28.642Z"
   },
   {
    "duration": 6954,
    "start_time": "2022-01-06T13:40:14.721Z"
   },
   {
    "duration": 777,
    "start_time": "2022-01-06T13:40:33.857Z"
   },
   {
    "duration": 4,
    "start_time": "2022-01-06T13:44:38.591Z"
   },
   {
    "duration": 941,
    "start_time": "2022-01-06T13:44:44.908Z"
   },
   {
    "duration": 4,
    "start_time": "2022-01-06T13:44:56.078Z"
   },
   {
    "duration": 278,
    "start_time": "2022-01-06T13:44:57.452Z"
   },
   {
    "duration": 3,
    "start_time": "2022-01-06T13:48:14.543Z"
   },
   {
    "duration": 498,
    "start_time": "2022-01-06T13:48:15.248Z"
   },
   {
    "duration": 4,
    "start_time": "2022-01-06T13:48:20.870Z"
   },
   {
    "duration": 838,
    "start_time": "2022-01-06T13:48:21.119Z"
   },
   {
    "duration": 950,
    "start_time": "2022-01-06T13:50:11.361Z"
   },
   {
    "duration": 969,
    "start_time": "2022-01-06T13:51:35.056Z"
   },
   {
    "duration": 799,
    "start_time": "2022-01-06T13:53:46.355Z"
   },
   {
    "duration": 762,
    "start_time": "2022-01-06T13:54:08.900Z"
   },
   {
    "duration": 1119,
    "start_time": "2022-01-06T13:54:31.268Z"
   },
   {
    "duration": 816,
    "start_time": "2022-01-06T13:54:55.502Z"
   },
   {
    "duration": 3,
    "start_time": "2022-01-06T14:02:40.863Z"
   },
   {
    "duration": 682,
    "start_time": "2022-01-06T14:03:07.234Z"
   },
   {
    "duration": 3,
    "start_time": "2022-01-06T14:03:30.021Z"
   },
   {
    "duration": 710,
    "start_time": "2022-01-06T14:03:36.835Z"
   },
   {
    "duration": 3,
    "start_time": "2022-01-06T14:04:15.461Z"
   },
   {
    "duration": 944,
    "start_time": "2022-01-06T14:04:20.435Z"
   },
   {
    "duration": 3,
    "start_time": "2022-01-06T14:04:48.524Z"
   },
   {
    "duration": 4,
    "start_time": "2022-01-06T14:05:25.302Z"
   },
   {
    "duration": 788,
    "start_time": "2022-01-06T14:05:29.288Z"
   },
   {
    "duration": 4,
    "start_time": "2022-01-06T14:05:41.582Z"
   },
   {
    "duration": 302,
    "start_time": "2022-01-06T14:05:45.094Z"
   },
   {
    "duration": 88,
    "start_time": "2022-01-06T14:08:05.105Z"
   },
   {
    "duration": 4,
    "start_time": "2022-01-06T14:08:10.702Z"
   },
   {
    "duration": 846,
    "start_time": "2022-01-06T14:08:14.840Z"
   },
   {
    "duration": 3,
    "start_time": "2022-01-06T14:08:29.240Z"
   },
   {
    "duration": 193,
    "start_time": "2022-01-06T14:08:32.967Z"
   },
   {
    "duration": 91,
    "start_time": "2022-01-06T14:10:45.386Z"
   },
   {
    "duration": 4,
    "start_time": "2022-01-06T14:10:51.648Z"
   },
   {
    "duration": 740,
    "start_time": "2022-01-06T14:10:55.992Z"
   },
   {
    "duration": 4,
    "start_time": "2022-01-06T14:11:30.754Z"
   },
   {
    "duration": 522,
    "start_time": "2022-01-06T14:11:34.249Z"
   },
   {
    "duration": 3,
    "start_time": "2022-01-06T14:11:57.401Z"
   },
   {
    "duration": 320,
    "start_time": "2022-01-06T14:11:59.772Z"
   },
   {
    "duration": 4,
    "start_time": "2022-01-06T14:12:25.972Z"
   },
   {
    "duration": 299,
    "start_time": "2022-01-06T14:12:29.106Z"
   },
   {
    "duration": 306,
    "start_time": "2022-01-06T14:13:35.828Z"
   },
   {
    "duration": 278,
    "start_time": "2022-01-06T14:15:20.620Z"
   },
   {
    "duration": 4,
    "start_time": "2022-01-06T14:16:13.597Z"
   },
   {
    "duration": 3,
    "start_time": "2022-01-06T14:20:57.843Z"
   },
   {
    "duration": 772,
    "start_time": "2022-01-06T14:21:03.157Z"
   },
   {
    "duration": 1128,
    "start_time": "2022-01-06T14:21:09.890Z"
   },
   {
    "duration": 777,
    "start_time": "2022-01-06T14:21:17.160Z"
   },
   {
    "duration": 3,
    "start_time": "2022-01-06T14:21:46.002Z"
   },
   {
    "duration": 1243,
    "start_time": "2022-01-06T14:21:52.021Z"
   },
   {
    "duration": 4,
    "start_time": "2022-01-06T14:22:08.747Z"
   },
   {
    "duration": 269,
    "start_time": "2022-01-06T14:22:12.720Z"
   },
   {
    "duration": 4,
    "start_time": "2022-01-06T14:23:39.579Z"
   },
   {
    "duration": 5,
    "start_time": "2022-01-06T14:23:40.499Z"
   },
   {
    "duration": 388,
    "start_time": "2022-01-06T14:23:41.090Z"
   },
   {
    "duration": 1240,
    "start_time": "2022-01-06T14:24:56.794Z"
   },
   {
    "duration": 3,
    "start_time": "2022-01-06T14:24:58.036Z"
   },
   {
    "duration": 185,
    "start_time": "2022-01-06T14:24:58.041Z"
   },
   {
    "duration": 8,
    "start_time": "2022-01-06T14:24:58.229Z"
   },
   {
    "duration": 18,
    "start_time": "2022-01-06T14:24:58.239Z"
   },
   {
    "duration": 19,
    "start_time": "2022-01-06T14:24:58.259Z"
   },
   {
    "duration": 30,
    "start_time": "2022-01-06T14:24:58.279Z"
   },
   {
    "duration": 14,
    "start_time": "2022-01-06T14:24:58.312Z"
   },
   {
    "duration": 32,
    "start_time": "2022-01-06T14:24:58.328Z"
   },
   {
    "duration": 18,
    "start_time": "2022-01-06T14:24:58.362Z"
   },
   {
    "duration": 637,
    "start_time": "2022-01-06T14:24:58.382Z"
   },
   {
    "duration": 629,
    "start_time": "2022-01-06T14:24:59.021Z"
   },
   {
    "duration": 443,
    "start_time": "2022-01-06T14:24:59.660Z"
   },
   {
    "duration": 532,
    "start_time": "2022-01-06T14:25:00.105Z"
   },
   {
    "duration": 468,
    "start_time": "2022-01-06T14:25:00.639Z"
   },
   {
    "duration": 11,
    "start_time": "2022-01-06T14:25:01.109Z"
   },
   {
    "duration": 413,
    "start_time": "2022-01-06T14:25:01.122Z"
   },
   {
    "duration": 5,
    "start_time": "2022-01-06T14:25:01.536Z"
   },
   {
    "duration": 10,
    "start_time": "2022-01-06T14:25:01.542Z"
   },
   {
    "duration": 2,
    "start_time": "2022-01-06T14:25:01.561Z"
   },
   {
    "duration": 33,
    "start_time": "2022-01-06T14:25:01.565Z"
   },
   {
    "duration": 63,
    "start_time": "2022-01-06T14:25:01.600Z"
   },
   {
    "duration": 105,
    "start_time": "2022-01-06T14:25:01.668Z"
   },
   {
    "duration": 3,
    "start_time": "2022-01-06T14:25:01.776Z"
   },
   {
    "duration": 18,
    "start_time": "2022-01-06T14:25:01.782Z"
   },
   {
    "duration": 5,
    "start_time": "2022-01-06T14:25:01.802Z"
   },
   {
    "duration": 12,
    "start_time": "2022-01-06T14:25:01.809Z"
   },
   {
    "duration": 6,
    "start_time": "2022-01-06T14:25:01.823Z"
   },
   {
    "duration": 41,
    "start_time": "2022-01-06T14:25:01.831Z"
   },
   {
    "duration": 619,
    "start_time": "2022-01-06T14:25:01.874Z"
   },
   {
    "duration": 83263,
    "start_time": "2022-01-06T14:25:02.494Z"
   },
   {
    "duration": 3,
    "start_time": "2022-01-06T14:26:25.761Z"
   },
   {
    "duration": 1495,
    "start_time": "2022-01-06T14:26:25.767Z"
   },
   {
    "duration": 3,
    "start_time": "2022-01-06T14:26:27.264Z"
   },
   {
    "duration": 16,
    "start_time": "2022-01-06T14:26:27.268Z"
   },
   {
    "duration": 26,
    "start_time": "2022-01-06T14:26:27.286Z"
   },
   {
    "duration": 23,
    "start_time": "2022-01-06T14:26:27.314Z"
   },
   {
    "duration": 19,
    "start_time": "2022-01-06T14:26:27.338Z"
   },
   {
    "duration": 25,
    "start_time": "2022-01-06T14:26:27.358Z"
   },
   {
    "duration": 791,
    "start_time": "2022-01-06T14:26:27.385Z"
   },
   {
    "duration": 798,
    "start_time": "2022-01-06T14:26:28.177Z"
   },
   {
    "duration": 844,
    "start_time": "2022-01-06T14:26:28.977Z"
   },
   {
    "duration": 848,
    "start_time": "2022-01-06T14:26:29.823Z"
   },
   {
    "duration": 797,
    "start_time": "2022-01-06T14:26:30.673Z"
   },
   {
    "duration": 1107,
    "start_time": "2022-01-06T14:26:31.472Z"
   },
   {
    "duration": 813,
    "start_time": "2022-01-06T14:26:32.580Z"
   },
   {
    "duration": 288,
    "start_time": "2022-01-06T14:26:33.395Z"
   },
   {
    "duration": 294,
    "start_time": "2022-01-06T14:26:33.686Z"
   },
   {
    "duration": 298,
    "start_time": "2022-01-06T14:26:33.982Z"
   },
   {
    "duration": 4,
    "start_time": "2022-01-06T14:27:45.015Z"
   },
   {
    "duration": 854,
    "start_time": "2022-01-06T14:27:46.898Z"
   },
   {
    "duration": 3,
    "start_time": "2022-01-06T14:28:11.568Z"
   },
   {
    "duration": 815,
    "start_time": "2022-01-06T14:28:13.464Z"
   },
   {
    "duration": 4,
    "start_time": "2022-01-06T14:30:38.898Z"
   },
   {
    "duration": 857,
    "start_time": "2022-01-06T14:30:41.602Z"
   },
   {
    "duration": 4,
    "start_time": "2022-01-06T14:31:12.106Z"
   },
   {
    "duration": 798,
    "start_time": "2022-01-06T14:31:13.970Z"
   },
   {
    "duration": 3,
    "start_time": "2022-01-06T14:31:52.852Z"
   },
   {
    "duration": 887,
    "start_time": "2022-01-06T14:31:55.042Z"
   },
   {
    "duration": 4,
    "start_time": "2022-01-06T14:32:28.019Z"
   },
   {
    "duration": 894,
    "start_time": "2022-01-06T14:32:29.754Z"
   },
   {
    "duration": 745,
    "start_time": "2022-01-06T14:32:35.705Z"
   },
   {
    "duration": 947,
    "start_time": "2022-01-06T14:32:49.658Z"
   },
   {
    "duration": 3,
    "start_time": "2022-01-06T14:33:13.860Z"
   },
   {
    "duration": 1029,
    "start_time": "2022-01-06T14:33:15.107Z"
   },
   {
    "duration": 4,
    "start_time": "2022-01-06T14:33:25.292Z"
   },
   {
    "duration": 912,
    "start_time": "2022-01-06T14:33:27.675Z"
   },
   {
    "duration": 3,
    "start_time": "2022-01-06T14:34:23.311Z"
   },
   {
    "duration": 1185,
    "start_time": "2022-01-06T14:34:30.299Z"
   },
   {
    "duration": 3,
    "start_time": "2022-01-06T14:34:31.486Z"
   },
   {
    "duration": 198,
    "start_time": "2022-01-06T14:34:31.490Z"
   },
   {
    "duration": 8,
    "start_time": "2022-01-06T14:34:31.689Z"
   },
   {
    "duration": 17,
    "start_time": "2022-01-06T14:34:31.699Z"
   },
   {
    "duration": 11,
    "start_time": "2022-01-06T14:34:31.718Z"
   },
   {
    "duration": 27,
    "start_time": "2022-01-06T14:34:31.731Z"
   },
   {
    "duration": 14,
    "start_time": "2022-01-06T14:34:31.761Z"
   },
   {
    "duration": 17,
    "start_time": "2022-01-06T14:34:31.778Z"
   },
   {
    "duration": 20,
    "start_time": "2022-01-06T14:34:31.797Z"
   },
   {
    "duration": 657,
    "start_time": "2022-01-06T14:34:31.818Z"
   },
   {
    "duration": 600,
    "start_time": "2022-01-06T14:34:32.477Z"
   },
   {
    "duration": 456,
    "start_time": "2022-01-06T14:34:33.080Z"
   },
   {
    "duration": 495,
    "start_time": "2022-01-06T14:34:33.538Z"
   },
   {
    "duration": 435,
    "start_time": "2022-01-06T14:34:34.034Z"
   },
   {
    "duration": 10,
    "start_time": "2022-01-06T14:34:34.471Z"
   },
   {
    "duration": 354,
    "start_time": "2022-01-06T14:34:34.483Z"
   },
   {
    "duration": 4,
    "start_time": "2022-01-06T14:34:34.839Z"
   },
   {
    "duration": 27,
    "start_time": "2022-01-06T14:34:34.845Z"
   },
   {
    "duration": 2,
    "start_time": "2022-01-06T14:34:34.874Z"
   },
   {
    "duration": 27,
    "start_time": "2022-01-06T14:34:34.878Z"
   },
   {
    "duration": 58,
    "start_time": "2022-01-06T14:34:34.906Z"
   },
   {
    "duration": 101,
    "start_time": "2022-01-06T14:34:34.969Z"
   },
   {
    "duration": 3,
    "start_time": "2022-01-06T14:34:35.073Z"
   },
   {
    "duration": 17,
    "start_time": "2022-01-06T14:34:35.078Z"
   },
   {
    "duration": 5,
    "start_time": "2022-01-06T14:34:35.096Z"
   },
   {
    "duration": 10,
    "start_time": "2022-01-06T14:34:35.102Z"
   },
   {
    "duration": 3,
    "start_time": "2022-01-06T14:34:35.113Z"
   },
   {
    "duration": 10,
    "start_time": "2022-01-06T14:34:35.118Z"
   },
   {
    "duration": 569,
    "start_time": "2022-01-06T14:34:35.130Z"
   },
   {
    "duration": 82040,
    "start_time": "2022-01-06T14:34:35.701Z"
   },
   {
    "duration": 2,
    "start_time": "2022-01-06T14:35:57.743Z"
   },
   {
    "duration": 1514,
    "start_time": "2022-01-06T14:35:57.747Z"
   },
   {
    "duration": 3,
    "start_time": "2022-01-06T14:35:59.263Z"
   },
   {
    "duration": 12,
    "start_time": "2022-01-06T14:35:59.268Z"
   },
   {
    "duration": 14,
    "start_time": "2022-01-06T14:35:59.282Z"
   },
   {
    "duration": 10,
    "start_time": "2022-01-06T14:35:59.297Z"
   },
   {
    "duration": 3,
    "start_time": "2022-01-06T14:35:59.309Z"
   },
   {
    "duration": 5,
    "start_time": "2022-01-06T14:35:59.313Z"
   },
   {
    "duration": 881,
    "start_time": "2022-01-06T14:35:59.320Z"
   },
   {
    "duration": 827,
    "start_time": "2022-01-06T14:36:00.203Z"
   },
   {
    "duration": 888,
    "start_time": "2022-01-06T14:36:01.032Z"
   },
   {
    "duration": 804,
    "start_time": "2022-01-06T14:36:01.922Z"
   },
   {
    "duration": 806,
    "start_time": "2022-01-06T14:36:02.728Z"
   },
   {
    "duration": 1130,
    "start_time": "2022-01-06T14:36:03.536Z"
   },
   {
    "duration": 833,
    "start_time": "2022-01-06T14:36:04.668Z"
   },
   {
    "duration": 284,
    "start_time": "2022-01-06T14:36:05.503Z"
   },
   {
    "duration": 385,
    "start_time": "2022-01-06T14:36:05.788Z"
   },
   {
    "duration": 289,
    "start_time": "2022-01-06T14:36:06.175Z"
   },
   {
    "duration": 1602,
    "start_time": "2022-01-08T09:05:19.725Z"
   },
   {
    "duration": 4,
    "start_time": "2022-01-08T09:05:21.329Z"
   },
   {
    "duration": 348,
    "start_time": "2022-01-08T09:05:21.336Z"
   },
   {
    "duration": 10,
    "start_time": "2022-01-08T09:05:21.687Z"
   },
   {
    "duration": 28,
    "start_time": "2022-01-08T09:05:21.700Z"
   },
   {
    "duration": 32,
    "start_time": "2022-01-08T09:05:21.730Z"
   },
   {
    "duration": 37,
    "start_time": "2022-01-08T09:05:21.764Z"
   },
   {
    "duration": 24,
    "start_time": "2022-01-08T09:05:21.803Z"
   },
   {
    "duration": 57,
    "start_time": "2022-01-08T09:05:21.833Z"
   },
   {
    "duration": 27,
    "start_time": "2022-01-08T09:05:21.893Z"
   },
   {
    "duration": 1091,
    "start_time": "2022-01-08T09:05:21.923Z"
   },
   {
    "duration": 1091,
    "start_time": "2022-01-08T09:05:23.017Z"
   },
   {
    "duration": 767,
    "start_time": "2022-01-08T09:05:24.111Z"
   },
   {
    "duration": 802,
    "start_time": "2022-01-08T09:05:24.880Z"
   },
   {
    "duration": 770,
    "start_time": "2022-01-08T09:05:25.685Z"
   },
   {
    "duration": 27,
    "start_time": "2022-01-08T09:05:26.462Z"
   },
   {
    "duration": 580,
    "start_time": "2022-01-08T09:05:26.492Z"
   },
   {
    "duration": 5,
    "start_time": "2022-01-08T09:05:27.076Z"
   },
   {
    "duration": 8,
    "start_time": "2022-01-08T09:05:27.083Z"
   },
   {
    "duration": 4,
    "start_time": "2022-01-08T09:05:27.093Z"
   },
   {
    "duration": 78,
    "start_time": "2022-01-08T09:05:27.100Z"
   },
   {
    "duration": 6,
    "start_time": "2022-01-08T09:05:27.181Z"
   },
   {
    "duration": 80,
    "start_time": "2022-01-08T09:05:27.190Z"
   },
   {
    "duration": 94,
    "start_time": "2022-01-08T09:05:27.273Z"
   },
   {
    "duration": 23,
    "start_time": "2022-01-08T09:05:27.369Z"
   },
   {
    "duration": 6,
    "start_time": "2022-01-08T09:05:27.394Z"
   },
   {
    "duration": 11,
    "start_time": "2022-01-08T09:05:27.406Z"
   },
   {
    "duration": 43,
    "start_time": "2022-01-08T09:05:27.420Z"
   },
   {
    "duration": 8,
    "start_time": "2022-01-08T09:05:27.465Z"
   },
   {
    "duration": 815,
    "start_time": "2022-01-08T09:05:27.476Z"
   },
   {
    "duration": 142954,
    "start_time": "2022-01-08T09:05:28.293Z"
   },
   {
    "duration": 13,
    "start_time": "2022-01-08T09:07:51.249Z"
   },
   {
    "duration": 1802,
    "start_time": "2022-01-08T09:07:51.264Z"
   },
   {
    "duration": 4,
    "start_time": "2022-01-08T09:07:53.069Z"
   },
   {
    "duration": 14,
    "start_time": "2022-01-08T09:07:53.076Z"
   },
   {
    "duration": 28,
    "start_time": "2022-01-08T09:07:53.093Z"
   },
   {
    "duration": 46,
    "start_time": "2022-01-08T09:07:53.123Z"
   },
   {
    "duration": 5,
    "start_time": "2022-01-08T09:07:53.171Z"
   },
   {
    "duration": 5,
    "start_time": "2022-01-08T09:07:53.179Z"
   },
   {
    "duration": 1280,
    "start_time": "2022-01-08T09:07:53.187Z"
   },
   {
    "duration": 1271,
    "start_time": "2022-01-08T09:07:54.470Z"
   },
   {
    "duration": 1376,
    "start_time": "2022-01-08T09:07:55.743Z"
   },
   {
    "duration": 1225,
    "start_time": "2022-01-08T09:07:57.122Z"
   },
   {
    "duration": 1378,
    "start_time": "2022-01-08T09:07:58.350Z"
   },
   {
    "duration": 1254,
    "start_time": "2022-01-08T09:07:59.731Z"
   },
   {
    "duration": 1641,
    "start_time": "2022-01-08T09:08:00.988Z"
   },
   {
    "duration": 474,
    "start_time": "2022-01-08T09:08:02.631Z"
   },
   {
    "duration": 493,
    "start_time": "2022-01-08T09:08:03.107Z"
   },
   {
    "duration": 491,
    "start_time": "2022-01-08T09:08:03.603Z"
   },
   {
    "duration": 1135,
    "start_time": "2022-01-08T19:11:19.026Z"
   },
   {
    "duration": 2,
    "start_time": "2022-01-08T19:11:20.163Z"
   },
   {
    "duration": 291,
    "start_time": "2022-01-08T19:11:20.166Z"
   },
   {
    "duration": 6,
    "start_time": "2022-01-08T19:11:20.460Z"
   },
   {
    "duration": 16,
    "start_time": "2022-01-08T19:11:20.468Z"
   },
   {
    "duration": 11,
    "start_time": "2022-01-08T19:11:20.485Z"
   },
   {
    "duration": 23,
    "start_time": "2022-01-08T19:11:20.497Z"
   },
   {
    "duration": 13,
    "start_time": "2022-01-08T19:11:20.522Z"
   },
   {
    "duration": 15,
    "start_time": "2022-01-08T19:11:20.537Z"
   },
   {
    "duration": 15,
    "start_time": "2022-01-08T19:11:20.553Z"
   },
   {
    "duration": 552,
    "start_time": "2022-01-08T19:11:20.569Z"
   },
   {
    "duration": 537,
    "start_time": "2022-01-08T19:11:21.127Z"
   },
   {
    "duration": 386,
    "start_time": "2022-01-08T19:11:21.665Z"
   },
   {
    "duration": 424,
    "start_time": "2022-01-08T19:11:22.052Z"
   },
   {
    "duration": 386,
    "start_time": "2022-01-08T19:11:22.478Z"
   },
   {
    "duration": 9,
    "start_time": "2022-01-08T19:11:22.865Z"
   },
   {
    "duration": 346,
    "start_time": "2022-01-08T19:11:22.875Z"
   },
   {
    "duration": 4,
    "start_time": "2022-01-08T19:11:23.226Z"
   },
   {
    "duration": 7,
    "start_time": "2022-01-08T19:11:23.231Z"
   },
   {
    "duration": 3,
    "start_time": "2022-01-08T19:11:23.239Z"
   },
   {
    "duration": 24,
    "start_time": "2022-01-08T19:11:23.244Z"
   },
   {
    "duration": 11,
    "start_time": "2022-01-08T19:11:23.269Z"
   },
   {
    "duration": 9,
    "start_time": "2022-01-08T19:11:23.328Z"
   },
   {
    "duration": 90,
    "start_time": "2022-01-08T19:11:23.339Z"
   },
   {
    "duration": 13,
    "start_time": "2022-01-08T19:11:23.431Z"
   },
   {
    "duration": 4,
    "start_time": "2022-01-08T19:11:23.445Z"
   },
   {
    "duration": 7,
    "start_time": "2022-01-08T19:11:23.450Z"
   },
   {
    "duration": 2,
    "start_time": "2022-01-08T19:11:23.458Z"
   },
   {
    "duration": 8,
    "start_time": "2022-01-08T19:11:23.461Z"
   },
   {
    "duration": 505,
    "start_time": "2022-01-08T19:11:23.471Z"
   },
   {
    "duration": 76536,
    "start_time": "2022-01-08T19:11:23.978Z"
   },
   {
    "duration": 2,
    "start_time": "2022-01-08T19:12:40.515Z"
   },
   {
    "duration": 1401,
    "start_time": "2022-01-08T19:12:40.527Z"
   },
   {
    "duration": 3,
    "start_time": "2022-01-08T19:12:41.929Z"
   },
   {
    "duration": 9,
    "start_time": "2022-01-08T19:12:41.933Z"
   },
   {
    "duration": 15,
    "start_time": "2022-01-08T19:12:41.943Z"
   },
   {
    "duration": 10,
    "start_time": "2022-01-08T19:12:41.959Z"
   },
   {
    "duration": 3,
    "start_time": "2022-01-08T19:12:41.971Z"
   },
   {
    "duration": 5,
    "start_time": "2022-01-08T19:12:41.976Z"
   },
   {
    "duration": 722,
    "start_time": "2022-01-08T19:12:41.982Z"
   },
   {
    "duration": 694,
    "start_time": "2022-01-08T19:12:42.706Z"
   },
   {
    "duration": 698,
    "start_time": "2022-01-08T19:12:43.401Z"
   },
   {
    "duration": 714,
    "start_time": "2022-01-08T19:12:44.101Z"
   },
   {
    "duration": 736,
    "start_time": "2022-01-08T19:12:44.817Z"
   },
   {
    "duration": 970,
    "start_time": "2022-01-08T19:12:45.555Z"
   },
   {
    "duration": 763,
    "start_time": "2022-01-08T19:12:46.526Z"
   },
   {
    "duration": 276,
    "start_time": "2022-01-08T19:12:47.291Z"
   },
   {
    "duration": 364,
    "start_time": "2022-01-08T19:12:47.568Z"
   },
   {
    "duration": 266,
    "start_time": "2022-01-08T19:12:47.934Z"
   },
   {
    "duration": 11,
    "start_time": "2022-01-08T19:34:10.712Z"
   },
   {
    "duration": 422,
    "start_time": "2022-01-08T19:49:35.232Z"
   },
   {
    "duration": 7,
    "start_time": "2022-01-08T19:50:03.918Z"
   },
   {
    "duration": 9,
    "start_time": "2022-01-08T19:51:37.751Z"
   },
   {
    "duration": 8,
    "start_time": "2022-01-08T19:51:43.804Z"
   },
   {
    "duration": 8,
    "start_time": "2022-01-08T19:52:14.048Z"
   },
   {
    "duration": 7,
    "start_time": "2022-01-08T19:54:28.276Z"
   },
   {
    "duration": 1364,
    "start_time": "2022-01-08T19:57:39.393Z"
   },
   {
    "duration": 3,
    "start_time": "2022-01-08T19:57:40.759Z"
   },
   {
    "duration": 234,
    "start_time": "2022-01-08T19:57:40.764Z"
   },
   {
    "duration": 7,
    "start_time": "2022-01-08T19:57:41.000Z"
   },
   {
    "duration": 19,
    "start_time": "2022-01-08T19:57:41.009Z"
   },
   {
    "duration": 21,
    "start_time": "2022-01-08T19:57:41.029Z"
   },
   {
    "duration": 21,
    "start_time": "2022-01-08T19:57:41.051Z"
   },
   {
    "duration": 12,
    "start_time": "2022-01-08T19:57:41.074Z"
   },
   {
    "duration": 14,
    "start_time": "2022-01-08T19:57:41.088Z"
   },
   {
    "duration": 26,
    "start_time": "2022-01-08T19:57:41.103Z"
   },
   {
    "duration": 655,
    "start_time": "2022-01-08T19:57:41.130Z"
   },
   {
    "duration": 548,
    "start_time": "2022-01-08T19:57:41.787Z"
   },
   {
    "duration": 398,
    "start_time": "2022-01-08T19:57:42.336Z"
   },
   {
    "duration": 726,
    "start_time": "2022-01-08T19:57:42.735Z"
   },
   {
    "duration": 388,
    "start_time": "2022-01-08T19:57:43.463Z"
   },
   {
    "duration": 14,
    "start_time": "2022-01-08T19:57:43.852Z"
   },
   {
    "duration": 377,
    "start_time": "2022-01-08T19:57:43.868Z"
   },
   {
    "duration": 5,
    "start_time": "2022-01-08T19:57:44.246Z"
   },
   {
    "duration": 10,
    "start_time": "2022-01-08T19:57:44.252Z"
   },
   {
    "duration": 4,
    "start_time": "2022-01-08T19:57:44.263Z"
   },
   {
    "duration": 27,
    "start_time": "2022-01-08T19:57:44.268Z"
   },
   {
    "duration": 42,
    "start_time": "2022-01-08T19:57:44.296Z"
   },
   {
    "duration": 87,
    "start_time": "2022-01-08T19:57:44.342Z"
   },
   {
    "duration": 10,
    "start_time": "2022-01-08T19:57:44.431Z"
   },
   {
    "duration": 93,
    "start_time": "2022-01-08T19:57:44.443Z"
   },
   {
    "duration": 3,
    "start_time": "2022-01-08T19:57:44.538Z"
   },
   {
    "duration": 6,
    "start_time": "2022-01-08T19:57:44.543Z"
   },
   {
    "duration": 2,
    "start_time": "2022-01-08T19:57:44.551Z"
   },
   {
    "duration": 6,
    "start_time": "2022-01-08T19:57:44.554Z"
   },
   {
    "duration": 518,
    "start_time": "2022-01-08T19:57:44.561Z"
   },
   {
    "duration": 75566,
    "start_time": "2022-01-08T19:57:45.081Z"
   },
   {
    "duration": 2,
    "start_time": "2022-01-08T19:59:00.649Z"
   },
   {
    "duration": 1378,
    "start_time": "2022-01-08T19:59:00.652Z"
   },
   {
    "duration": 2,
    "start_time": "2022-01-08T19:59:02.032Z"
   },
   {
    "duration": 8,
    "start_time": "2022-01-08T19:59:02.036Z"
   },
   {
    "duration": 12,
    "start_time": "2022-01-08T19:59:02.046Z"
   },
   {
    "duration": 9,
    "start_time": "2022-01-08T19:59:02.059Z"
   },
   {
    "duration": 3,
    "start_time": "2022-01-08T19:59:02.070Z"
   },
   {
    "duration": 5,
    "start_time": "2022-01-08T19:59:02.075Z"
   },
   {
    "duration": 748,
    "start_time": "2022-01-08T19:59:02.081Z"
   },
   {
    "duration": 733,
    "start_time": "2022-01-08T19:59:02.830Z"
   },
   {
    "duration": 701,
    "start_time": "2022-01-08T19:59:03.564Z"
   },
   {
    "duration": 712,
    "start_time": "2022-01-08T19:59:04.267Z"
   },
   {
    "duration": 701,
    "start_time": "2022-01-08T19:59:04.980Z"
   },
   {
    "duration": 992,
    "start_time": "2022-01-08T19:59:05.683Z"
   },
   {
    "duration": 707,
    "start_time": "2022-01-08T19:59:06.677Z"
   },
   {
    "duration": 261,
    "start_time": "2022-01-08T19:59:07.386Z"
   },
   {
    "duration": 304,
    "start_time": "2022-01-08T19:59:07.648Z"
   },
   {
    "duration": 302,
    "start_time": "2022-01-08T19:59:07.953Z"
   },
   {
    "duration": 7,
    "start_time": "2022-01-08T19:59:08.256Z"
   },
   {
    "duration": 8,
    "start_time": "2022-01-08T19:59:08.264Z"
   },
   {
    "duration": 5,
    "start_time": "2022-01-08T20:02:52.701Z"
   },
   {
    "duration": 6,
    "start_time": "2022-01-08T20:03:18.101Z"
   },
   {
    "duration": 4114,
    "start_time": "2022-01-08T20:03:40.699Z"
   },
   {
    "duration": 341,
    "start_time": "2022-01-08T20:04:47.773Z"
   },
   {
    "duration": 1427,
    "start_time": "2022-01-08T20:05:03.889Z"
   },
   {
    "duration": 3,
    "start_time": "2022-01-08T20:05:05.318Z"
   },
   {
    "duration": 235,
    "start_time": "2022-01-08T20:05:05.327Z"
   },
   {
    "duration": 6,
    "start_time": "2022-01-08T20:05:05.564Z"
   },
   {
    "duration": 16,
    "start_time": "2022-01-08T20:05:05.571Z"
   },
   {
    "duration": 9,
    "start_time": "2022-01-08T20:05:05.589Z"
   },
   {
    "duration": 26,
    "start_time": "2022-01-08T20:05:05.599Z"
   },
   {
    "duration": 12,
    "start_time": "2022-01-08T20:05:05.627Z"
   },
   {
    "duration": 15,
    "start_time": "2022-01-08T20:05:05.641Z"
   },
   {
    "duration": 14,
    "start_time": "2022-01-08T20:05:05.657Z"
   },
   {
    "duration": 592,
    "start_time": "2022-01-08T20:05:05.672Z"
   },
   {
    "duration": 652,
    "start_time": "2022-01-08T20:05:06.265Z"
   },
   {
    "duration": 450,
    "start_time": "2022-01-08T20:05:06.918Z"
   },
   {
    "duration": 457,
    "start_time": "2022-01-08T20:05:07.370Z"
   },
   {
    "duration": 379,
    "start_time": "2022-01-08T20:05:07.828Z"
   },
   {
    "duration": 19,
    "start_time": "2022-01-08T20:05:08.209Z"
   },
   {
    "duration": 356,
    "start_time": "2022-01-08T20:05:08.229Z"
   },
   {
    "duration": 3,
    "start_time": "2022-01-08T20:05:08.587Z"
   },
   {
    "duration": 7,
    "start_time": "2022-01-08T20:05:08.592Z"
   },
   {
    "duration": 3,
    "start_time": "2022-01-08T20:05:08.600Z"
   },
   {
    "duration": 34,
    "start_time": "2022-01-08T20:05:08.604Z"
   },
   {
    "duration": 3,
    "start_time": "2022-01-08T20:05:08.639Z"
   },
   {
    "duration": 181,
    "start_time": "2022-01-08T20:05:08.647Z"
   },
   {
    "duration": 5,
    "start_time": "2022-01-08T20:05:08.830Z"
   },
   {
    "duration": 12,
    "start_time": "2022-01-08T20:05:08.836Z"
   },
   {
    "duration": 3,
    "start_time": "2022-01-08T20:05:08.850Z"
   },
   {
    "duration": 7,
    "start_time": "2022-01-08T20:05:08.854Z"
   },
   {
    "duration": 3,
    "start_time": "2022-01-08T20:05:08.862Z"
   },
   {
    "duration": 7,
    "start_time": "2022-01-08T20:05:08.866Z"
   },
   {
    "duration": 651,
    "start_time": "2022-01-08T20:05:08.874Z"
   },
   {
    "duration": 74026,
    "start_time": "2022-01-08T20:05:09.527Z"
   },
   {
    "duration": 2,
    "start_time": "2022-01-08T20:06:23.554Z"
   },
   {
    "duration": 1280,
    "start_time": "2022-01-08T20:06:23.558Z"
   },
   {
    "duration": 3,
    "start_time": "2022-01-08T20:06:24.928Z"
   },
   {
    "duration": 8,
    "start_time": "2022-01-08T20:06:24.932Z"
   },
   {
    "duration": 11,
    "start_time": "2022-01-08T20:06:24.942Z"
   },
   {
    "duration": 9,
    "start_time": "2022-01-08T20:06:24.955Z"
   },
   {
    "duration": 2,
    "start_time": "2022-01-08T20:06:24.966Z"
   },
   {
    "duration": 6,
    "start_time": "2022-01-08T20:06:24.970Z"
   },
   {
    "duration": 1103,
    "start_time": "2022-01-08T20:06:24.977Z"
   },
   {
    "duration": 669,
    "start_time": "2022-01-08T20:06:26.083Z"
   },
   {
    "duration": 715,
    "start_time": "2022-01-08T20:06:26.754Z"
   },
   {
    "duration": 719,
    "start_time": "2022-01-08T20:06:27.470Z"
   },
   {
    "duration": 698,
    "start_time": "2022-01-08T20:06:28.190Z"
   },
   {
    "duration": 987,
    "start_time": "2022-01-08T20:06:28.889Z"
   },
   {
    "duration": 700,
    "start_time": "2022-01-08T20:06:29.878Z"
   },
   {
    "duration": 250,
    "start_time": "2022-01-08T20:06:30.580Z"
   },
   {
    "duration": 262,
    "start_time": "2022-01-08T20:06:30.831Z"
   },
   {
    "duration": 343,
    "start_time": "2022-01-08T20:06:31.095Z"
   },
   {
    "duration": 8,
    "start_time": "2022-01-08T20:06:31.440Z"
   },
   {
    "duration": 11,
    "start_time": "2022-01-08T20:06:31.449Z"
   },
   {
    "duration": 11,
    "start_time": "2022-01-08T20:06:31.462Z"
   },
   {
    "duration": 7,
    "start_time": "2022-01-08T20:07:31.812Z"
   },
   {
    "duration": 5,
    "start_time": "2022-01-08T20:36:18.091Z"
   },
   {
    "duration": 1097,
    "start_time": "2022-01-08T20:59:25.250Z"
   },
   {
    "duration": 3,
    "start_time": "2022-01-08T20:59:26.348Z"
   },
   {
    "duration": 223,
    "start_time": "2022-01-08T20:59:26.353Z"
   },
   {
    "duration": 7,
    "start_time": "2022-01-08T20:59:26.578Z"
   },
   {
    "duration": 12,
    "start_time": "2022-01-08T20:59:26.586Z"
   },
   {
    "duration": 13,
    "start_time": "2022-01-08T20:59:26.599Z"
   },
   {
    "duration": 20,
    "start_time": "2022-01-08T20:59:26.613Z"
   },
   {
    "duration": 12,
    "start_time": "2022-01-08T20:59:26.635Z"
   },
   {
    "duration": 14,
    "start_time": "2022-01-08T20:59:26.649Z"
   },
   {
    "duration": 14,
    "start_time": "2022-01-08T20:59:26.665Z"
   },
   {
    "duration": 575,
    "start_time": "2022-01-08T20:59:26.681Z"
   },
   {
    "duration": 541,
    "start_time": "2022-01-08T20:59:27.258Z"
   },
   {
    "duration": 394,
    "start_time": "2022-01-08T20:59:27.801Z"
   },
   {
    "duration": 422,
    "start_time": "2022-01-08T20:59:28.197Z"
   },
   {
    "duration": 385,
    "start_time": "2022-01-08T20:59:28.621Z"
   },
   {
    "duration": 20,
    "start_time": "2022-01-08T20:59:29.008Z"
   },
   {
    "duration": 358,
    "start_time": "2022-01-08T20:59:29.029Z"
   },
   {
    "duration": 4,
    "start_time": "2022-01-08T20:59:29.389Z"
   },
   {
    "duration": 8,
    "start_time": "2022-01-08T20:59:29.394Z"
   },
   {
    "duration": 7,
    "start_time": "2022-01-08T20:59:29.403Z"
   },
   {
    "duration": 35,
    "start_time": "2022-01-08T20:59:29.411Z"
   },
   {
    "duration": 10,
    "start_time": "2022-01-08T20:59:29.447Z"
   },
   {
    "duration": 102,
    "start_time": "2022-01-08T20:59:29.527Z"
   },
   {
    "duration": 3,
    "start_time": "2022-01-08T20:59:29.631Z"
   },
   {
    "duration": 17,
    "start_time": "2022-01-08T20:59:29.636Z"
   },
   {
    "duration": 4,
    "start_time": "2022-01-08T20:59:29.654Z"
   },
   {
    "duration": 7,
    "start_time": "2022-01-08T20:59:29.661Z"
   },
   {
    "duration": 2,
    "start_time": "2022-01-08T20:59:29.670Z"
   },
   {
    "duration": 8,
    "start_time": "2022-01-08T20:59:29.673Z"
   },
   {
    "duration": 514,
    "start_time": "2022-01-08T20:59:29.682Z"
   },
   {
    "duration": 74334,
    "start_time": "2022-01-08T20:59:30.198Z"
   },
   {
    "duration": 2,
    "start_time": "2022-01-08T21:00:44.534Z"
   },
   {
    "duration": 1299,
    "start_time": "2022-01-08T21:00:44.537Z"
   },
   {
    "duration": 89,
    "start_time": "2022-01-08T21:00:45.838Z"
   },
   {
    "duration": 12,
    "start_time": "2022-01-08T21:00:45.929Z"
   },
   {
    "duration": 28,
    "start_time": "2022-01-08T21:00:45.943Z"
   },
   {
    "duration": 26,
    "start_time": "2022-01-08T21:00:45.973Z"
   },
   {
    "duration": 18,
    "start_time": "2022-01-08T21:00:46.001Z"
   },
   {
    "duration": 16,
    "start_time": "2022-01-08T21:00:46.021Z"
   },
   {
    "duration": 798,
    "start_time": "2022-01-08T21:00:46.038Z"
   },
   {
    "duration": 780,
    "start_time": "2022-01-08T21:00:46.838Z"
   },
   {
    "duration": 807,
    "start_time": "2022-01-08T21:00:47.620Z"
   },
   {
    "duration": 804,
    "start_time": "2022-01-08T21:00:48.428Z"
   },
   {
    "duration": 806,
    "start_time": "2022-01-08T21:00:49.234Z"
   },
   {
    "duration": 795,
    "start_time": "2022-01-08T21:00:50.041Z"
   },
   {
    "duration": 972,
    "start_time": "2022-01-08T21:00:50.837Z"
   },
   {
    "duration": 261,
    "start_time": "2022-01-08T21:00:51.811Z"
   },
   {
    "duration": 277,
    "start_time": "2022-01-08T21:00:52.074Z"
   },
   {
    "duration": 267,
    "start_time": "2022-01-08T21:00:52.353Z"
   },
   {
    "duration": 9,
    "start_time": "2022-01-08T21:00:52.622Z"
   },
   {
    "duration": 9,
    "start_time": "2022-01-08T21:00:52.632Z"
   },
   {
    "duration": 9,
    "start_time": "2022-01-08T21:00:52.643Z"
   },
   {
    "duration": 7,
    "start_time": "2022-01-08T21:00:52.653Z"
   }
  ],
  "kernelspec": {
   "display_name": "Python 3",
   "language": "python",
   "name": "python3"
  },
  "language_info": {
   "codemirror_mode": {
    "name": "ipython",
    "version": 3
   },
   "file_extension": ".py",
   "mimetype": "text/x-python",
   "name": "python",
   "nbconvert_exporter": "python",
   "pygments_lexer": "ipython3",
   "version": "3.8.8"
  },
  "toc": {
   "base_numbering": 1,
   "nav_menu": {},
   "number_sections": true,
   "sideBar": true,
   "skip_h1_title": true,
   "title_cell": "Table of Contents",
   "title_sidebar": "Contents",
   "toc_cell": false,
   "toc_position": {},
   "toc_section_display": true,
   "toc_window_display": false
  }
 },
 "nbformat": 4,
 "nbformat_minor": 2
}
