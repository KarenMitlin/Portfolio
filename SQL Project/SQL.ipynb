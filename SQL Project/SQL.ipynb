{
 "cells": [
  {
   "cell_type": "markdown",
   "id": "fe4cb398",
   "metadata": {},
   "source": [
    "# SQL Project"
   ]
  },
  {
   "cell_type": "markdown",
   "id": "a344453e",
   "metadata": {},
   "source": [
    "In this project we will use a database containing data on books, publishers, authors, customer ratings and reviews of books to look at different aspects of the dataset."
   ]
  },
  {
   "cell_type": "markdown",
   "id": "f152f04e",
   "metadata": {},
   "source": [
    "<a class=\"anchor\" id=\"toc\"></a>"
   ]
  },
  {
   "cell_type": "markdown",
   "id": "a085e908",
   "metadata": {},
   "source": [
    "### Table of Contents\n",
    "\n",
    "#### 1. [Importing Libraries](#chapter1)\n",
    "\n",
    "#### 2. [Goals of the study](#chapter2)\n",
    "\n",
    "#### 3. [Study the tables](#chapter3)\n",
    "* ['books' table](#section1)\n",
    "* ['authors' table](#section2)\n",
    "* ['publishers' table](#section3)\n",
    "* ['ratings' table](#section4)\n",
    "* ['reviews' table](#section5)\n",
    "\n",
    "#### 4. [Tasks](#chapter4)\n",
    "* [Find the number of books released after January 1, 2000](#section6)\n",
    "* [Find the number of user reviews and the average rating for each book](#section7)\n",
    "* [Identify the publisher that has released the greatest number of books with more than 50 pages](#section8)\n",
    "* [Identify the author with the highest average book rating: look only at books with at least 50 ratings](#section9)\n",
    "* [Find the average number of text reviews among users who rated more than 50 books](#section10)"
   ]
  },
  {
   "cell_type": "markdown",
   "id": "c890a535",
   "metadata": {},
   "source": [
    "<a class=\"anchor\" id=\"chapter1\"></a>"
   ]
  },
  {
   "cell_type": "markdown",
   "id": "1fe58522",
   "metadata": {},
   "source": [
    "## Import libraries"
   ]
  },
  {
   "cell_type": "code",
   "execution_count": 1,
   "id": "1dc57755",
   "metadata": {},
   "outputs": [],
   "source": [
    "# import libraries\n",
    "import pandas as pd\n",
    "from sqlalchemy import create_engine\n",
    "\n",
    "\n",
    "db_config = {'user': 'praktikum_student',         # user name\n",
    "             'pwd': 'Sdf4$2;d-d30pp', # password\n",
    "             'host': 'rc1b-wcoijxj3yxfsf3fs.mdb.yandexcloud.net',\n",
    "             'port': 6432,              # connection port\n",
    "             'db': 'data-analyst-final-project-db'}          # the name of the data base\n",
    "\n",
    "connection_string = 'postgresql://{}:{}@{}:{}/{}'.format(db_config['user'],\n",
    "                                                                     db_config['pwd'],\n",
    "                                                                       db_config['host'],\n",
    "                                                                       db_config['port'],\n",
    "                                                                       db_config['db'])\n",
    "\n",
    "engine = create_engine(connection_string, connect_args={'sslmode':'require'})"
   ]
  },
  {
   "cell_type": "markdown",
   "id": "4bd504f6",
   "metadata": {},
   "source": [
    "[Back to Table of Contents](#toc)"
   ]
  },
  {
   "cell_type": "markdown",
   "id": "4d49415e",
   "metadata": {},
   "source": [
    "<a class=\"anchor\" id=\"chapter2\"></a>"
   ]
  },
  {
   "cell_type": "markdown",
   "id": "43ad1414",
   "metadata": {},
   "source": [
    "## Goals of the study"
   ]
  },
  {
   "cell_type": "markdown",
   "id": "f561e1ac",
   "metadata": {},
   "source": [
    "The goal of this study is to use a dataset provided from one of the services competing in the book apps market to generate a value proposition for a new product."
   ]
  },
  {
   "cell_type": "markdown",
   "id": "58fc9a59",
   "metadata": {},
   "source": [
    "[Back to Table of Contents](#toc)"
   ]
  },
  {
   "cell_type": "markdown",
   "id": "b7a76981",
   "metadata": {},
   "source": [
    "<a class=\"anchor\" id=\"chapter3\"></a>"
   ]
  },
  {
   "cell_type": "markdown",
   "id": "94d8bc8c",
   "metadata": {},
   "source": [
    "## Study the tables"
   ]
  },
  {
   "cell_type": "code",
   "execution_count": 2,
   "id": "7ee824dd",
   "metadata": {},
   "outputs": [],
   "source": [
    "# function that takes a query and return dataframe for general use\n",
    "def queryResult(q):\n",
    "    return pd.io.sql.read_sql(q, con = engine)"
   ]
  },
  {
   "cell_type": "markdown",
   "id": "2e9435ae",
   "metadata": {},
   "source": [
    "<a class=\"anchor\" id=\"section1\"></a>"
   ]
  },
  {
   "cell_type": "markdown",
   "id": "001d7112",
   "metadata": {},
   "source": [
    "### `books` table:"
   ]
  },
  {
   "cell_type": "markdown",
   "id": "80cf761c",
   "metadata": {},
   "source": [
    "Contains data on books:\n",
    "- `book_id`\n",
    "- `author_id`\n",
    "- `title`\n",
    "- `num_pages` — number of pages\n",
    "- `publication_date`\n",
    "- `publisher_id`"
   ]
  },
  {
   "cell_type": "code",
   "execution_count": 3,
   "id": "ea586063",
   "metadata": {},
   "outputs": [],
   "source": [
    "query='''\n",
    "        SELECT\n",
    "            *\n",
    "        FROM\n",
    "            books\n",
    "        '''\n",
    "books=queryResult(query)"
   ]
  },
  {
   "cell_type": "code",
   "execution_count": 4,
   "id": "7fde3dbc",
   "metadata": {},
   "outputs": [
    {
     "data": {
      "text/html": [
       "<div>\n",
       "<style scoped>\n",
       "    .dataframe tbody tr th:only-of-type {\n",
       "        vertical-align: middle;\n",
       "    }\n",
       "\n",
       "    .dataframe tbody tr th {\n",
       "        vertical-align: top;\n",
       "    }\n",
       "\n",
       "    .dataframe thead th {\n",
       "        text-align: right;\n",
       "    }\n",
       "</style>\n",
       "<table border=\"1\" class=\"dataframe\">\n",
       "  <thead>\n",
       "    <tr style=\"text-align: right;\">\n",
       "      <th></th>\n",
       "      <th>book_id</th>\n",
       "      <th>author_id</th>\n",
       "      <th>title</th>\n",
       "      <th>num_pages</th>\n",
       "      <th>publication_date</th>\n",
       "      <th>publisher_id</th>\n",
       "    </tr>\n",
       "  </thead>\n",
       "  <tbody>\n",
       "    <tr>\n",
       "      <th>0</th>\n",
       "      <td>1</td>\n",
       "      <td>546</td>\n",
       "      <td>'Salem's Lot</td>\n",
       "      <td>594</td>\n",
       "      <td>2005-11-01</td>\n",
       "      <td>93</td>\n",
       "    </tr>\n",
       "    <tr>\n",
       "      <th>1</th>\n",
       "      <td>2</td>\n",
       "      <td>465</td>\n",
       "      <td>1 000 Places to See Before You Die</td>\n",
       "      <td>992</td>\n",
       "      <td>2003-05-22</td>\n",
       "      <td>336</td>\n",
       "    </tr>\n",
       "    <tr>\n",
       "      <th>2</th>\n",
       "      <td>3</td>\n",
       "      <td>407</td>\n",
       "      <td>13 Little Blue Envelopes (Little Blue Envelope...</td>\n",
       "      <td>322</td>\n",
       "      <td>2010-12-21</td>\n",
       "      <td>135</td>\n",
       "    </tr>\n",
       "    <tr>\n",
       "      <th>3</th>\n",
       "      <td>4</td>\n",
       "      <td>82</td>\n",
       "      <td>1491: New Revelations of the Americas Before C...</td>\n",
       "      <td>541</td>\n",
       "      <td>2006-10-10</td>\n",
       "      <td>309</td>\n",
       "    </tr>\n",
       "    <tr>\n",
       "      <th>4</th>\n",
       "      <td>5</td>\n",
       "      <td>125</td>\n",
       "      <td>1776</td>\n",
       "      <td>386</td>\n",
       "      <td>2006-07-04</td>\n",
       "      <td>268</td>\n",
       "    </tr>\n",
       "    <tr>\n",
       "      <th>5</th>\n",
       "      <td>6</td>\n",
       "      <td>257</td>\n",
       "      <td>1st to Die (Women's Murder Club  #1)</td>\n",
       "      <td>424</td>\n",
       "      <td>2005-05-20</td>\n",
       "      <td>116</td>\n",
       "    </tr>\n",
       "    <tr>\n",
       "      <th>6</th>\n",
       "      <td>7</td>\n",
       "      <td>258</td>\n",
       "      <td>2nd Chance (Women's Murder Club  #2)</td>\n",
       "      <td>400</td>\n",
       "      <td>2005-05-20</td>\n",
       "      <td>116</td>\n",
       "    </tr>\n",
       "    <tr>\n",
       "      <th>7</th>\n",
       "      <td>8</td>\n",
       "      <td>260</td>\n",
       "      <td>4th of July (Women's Murder Club  #4)</td>\n",
       "      <td>448</td>\n",
       "      <td>2006-06-01</td>\n",
       "      <td>318</td>\n",
       "    </tr>\n",
       "    <tr>\n",
       "      <th>8</th>\n",
       "      <td>9</td>\n",
       "      <td>563</td>\n",
       "      <td>A Beautiful Mind</td>\n",
       "      <td>461</td>\n",
       "      <td>2002-02-04</td>\n",
       "      <td>104</td>\n",
       "    </tr>\n",
       "    <tr>\n",
       "      <th>9</th>\n",
       "      <td>10</td>\n",
       "      <td>445</td>\n",
       "      <td>A Bend in the Road</td>\n",
       "      <td>341</td>\n",
       "      <td>2005-04-01</td>\n",
       "      <td>116</td>\n",
       "    </tr>\n",
       "  </tbody>\n",
       "</table>\n",
       "</div>"
      ],
      "text/plain": [
       "   book_id  author_id                                              title  \\\n",
       "0        1        546                                       'Salem's Lot   \n",
       "1        2        465                 1 000 Places to See Before You Die   \n",
       "2        3        407  13 Little Blue Envelopes (Little Blue Envelope...   \n",
       "3        4         82  1491: New Revelations of the Americas Before C...   \n",
       "4        5        125                                               1776   \n",
       "5        6        257               1st to Die (Women's Murder Club  #1)   \n",
       "6        7        258               2nd Chance (Women's Murder Club  #2)   \n",
       "7        8        260              4th of July (Women's Murder Club  #4)   \n",
       "8        9        563                                   A Beautiful Mind   \n",
       "9       10        445                                 A Bend in the Road   \n",
       "\n",
       "   num_pages publication_date  publisher_id  \n",
       "0        594       2005-11-01            93  \n",
       "1        992       2003-05-22           336  \n",
       "2        322       2010-12-21           135  \n",
       "3        541       2006-10-10           309  \n",
       "4        386       2006-07-04           268  \n",
       "5        424       2005-05-20           116  \n",
       "6        400       2005-05-20           116  \n",
       "7        448       2006-06-01           318  \n",
       "8        461       2002-02-04           104  \n",
       "9        341       2005-04-01           116  "
      ]
     },
     "execution_count": 4,
     "metadata": {},
     "output_type": "execute_result"
    }
   ],
   "source": [
    "books.head(10)"
   ]
  },
  {
   "cell_type": "markdown",
   "id": "6b85b363",
   "metadata": {},
   "source": [
    "<a class=\"anchor\" id=\"section2\"></a>"
   ]
  },
  {
   "cell_type": "markdown",
   "id": "738cd96a",
   "metadata": {},
   "source": [
    "### `authors` table:"
   ]
  },
  {
   "cell_type": "markdown",
   "id": "dc2819ea",
   "metadata": {},
   "source": [
    "Contains data on authors:\n",
    "\n",
    "- `author_id`\n",
    "- `author`"
   ]
  },
  {
   "cell_type": "code",
   "execution_count": 5,
   "id": "5b65a27b",
   "metadata": {},
   "outputs": [],
   "source": [
    "query='''\n",
    "        SELECT\n",
    "            *\n",
    "        FROM\n",
    "            authors\n",
    "        '''\n",
    "authors=queryResult(query)"
   ]
  },
  {
   "cell_type": "code",
   "execution_count": 6,
   "id": "61e638d9",
   "metadata": {},
   "outputs": [
    {
     "data": {
      "text/html": [
       "<div>\n",
       "<style scoped>\n",
       "    .dataframe tbody tr th:only-of-type {\n",
       "        vertical-align: middle;\n",
       "    }\n",
       "\n",
       "    .dataframe tbody tr th {\n",
       "        vertical-align: top;\n",
       "    }\n",
       "\n",
       "    .dataframe thead th {\n",
       "        text-align: right;\n",
       "    }\n",
       "</style>\n",
       "<table border=\"1\" class=\"dataframe\">\n",
       "  <thead>\n",
       "    <tr style=\"text-align: right;\">\n",
       "      <th></th>\n",
       "      <th>author_id</th>\n",
       "      <th>author</th>\n",
       "    </tr>\n",
       "  </thead>\n",
       "  <tbody>\n",
       "    <tr>\n",
       "      <th>0</th>\n",
       "      <td>1</td>\n",
       "      <td>A.S. Byatt</td>\n",
       "    </tr>\n",
       "    <tr>\n",
       "      <th>1</th>\n",
       "      <td>2</td>\n",
       "      <td>Aesop/Laura Harris/Laura Gibbs</td>\n",
       "    </tr>\n",
       "    <tr>\n",
       "      <th>2</th>\n",
       "      <td>3</td>\n",
       "      <td>Agatha Christie</td>\n",
       "    </tr>\n",
       "    <tr>\n",
       "      <th>3</th>\n",
       "      <td>4</td>\n",
       "      <td>Alan Brennert</td>\n",
       "    </tr>\n",
       "    <tr>\n",
       "      <th>4</th>\n",
       "      <td>5</td>\n",
       "      <td>Alan Moore/David   Lloyd</td>\n",
       "    </tr>\n",
       "    <tr>\n",
       "      <th>5</th>\n",
       "      <td>6</td>\n",
       "      <td>Alan Paton</td>\n",
       "    </tr>\n",
       "    <tr>\n",
       "      <th>6</th>\n",
       "      <td>7</td>\n",
       "      <td>Albert Camus/Justin O'Brien</td>\n",
       "    </tr>\n",
       "    <tr>\n",
       "      <th>7</th>\n",
       "      <td>8</td>\n",
       "      <td>Aldous Huxley</td>\n",
       "    </tr>\n",
       "    <tr>\n",
       "      <th>8</th>\n",
       "      <td>9</td>\n",
       "      <td>Aldous Huxley/Christopher Hitchens</td>\n",
       "    </tr>\n",
       "    <tr>\n",
       "      <th>9</th>\n",
       "      <td>10</td>\n",
       "      <td>Aleksandr Solzhenitsyn/H.T. Willetts</td>\n",
       "    </tr>\n",
       "  </tbody>\n",
       "</table>\n",
       "</div>"
      ],
      "text/plain": [
       "   author_id                                author\n",
       "0          1                            A.S. Byatt\n",
       "1          2        Aesop/Laura Harris/Laura Gibbs\n",
       "2          3                       Agatha Christie\n",
       "3          4                         Alan Brennert\n",
       "4          5              Alan Moore/David   Lloyd\n",
       "5          6                            Alan Paton\n",
       "6          7           Albert Camus/Justin O'Brien\n",
       "7          8                         Aldous Huxley\n",
       "8          9    Aldous Huxley/Christopher Hitchens\n",
       "9         10  Aleksandr Solzhenitsyn/H.T. Willetts"
      ]
     },
     "execution_count": 6,
     "metadata": {},
     "output_type": "execute_result"
    }
   ],
   "source": [
    "authors.head(10)"
   ]
  },
  {
   "cell_type": "markdown",
   "id": "a9df1fbf",
   "metadata": {},
   "source": [
    "<a class=\"anchor\" id=\"section3\"></a>"
   ]
  },
  {
   "cell_type": "markdown",
   "id": "89d62c6a",
   "metadata": {},
   "source": [
    "### `publishers` table:"
   ]
  },
  {
   "cell_type": "markdown",
   "id": "2031ecc1",
   "metadata": {},
   "source": [
    "Contains data on publishers:\n",
    "\n",
    "- `publisher_id`\n",
    "- `publisher`"
   ]
  },
  {
   "cell_type": "code",
   "execution_count": 7,
   "id": "8404505f",
   "metadata": {},
   "outputs": [],
   "source": [
    "query='''\n",
    "        SELECT\n",
    "            *\n",
    "        FROM\n",
    "            publishers\n",
    "        '''\n",
    "publishers=queryResult(query)"
   ]
  },
  {
   "cell_type": "code",
   "execution_count": 8,
   "id": "7b1c0c82",
   "metadata": {},
   "outputs": [
    {
     "data": {
      "text/html": [
       "<div>\n",
       "<style scoped>\n",
       "    .dataframe tbody tr th:only-of-type {\n",
       "        vertical-align: middle;\n",
       "    }\n",
       "\n",
       "    .dataframe tbody tr th {\n",
       "        vertical-align: top;\n",
       "    }\n",
       "\n",
       "    .dataframe thead th {\n",
       "        text-align: right;\n",
       "    }\n",
       "</style>\n",
       "<table border=\"1\" class=\"dataframe\">\n",
       "  <thead>\n",
       "    <tr style=\"text-align: right;\">\n",
       "      <th></th>\n",
       "      <th>publisher_id</th>\n",
       "      <th>publisher</th>\n",
       "    </tr>\n",
       "  </thead>\n",
       "  <tbody>\n",
       "    <tr>\n",
       "      <th>0</th>\n",
       "      <td>1</td>\n",
       "      <td>Ace</td>\n",
       "    </tr>\n",
       "    <tr>\n",
       "      <th>1</th>\n",
       "      <td>2</td>\n",
       "      <td>Ace Book</td>\n",
       "    </tr>\n",
       "    <tr>\n",
       "      <th>2</th>\n",
       "      <td>3</td>\n",
       "      <td>Ace Books</td>\n",
       "    </tr>\n",
       "    <tr>\n",
       "      <th>3</th>\n",
       "      <td>4</td>\n",
       "      <td>Ace Hardcover</td>\n",
       "    </tr>\n",
       "    <tr>\n",
       "      <th>4</th>\n",
       "      <td>5</td>\n",
       "      <td>Addison Wesley Publishing Company</td>\n",
       "    </tr>\n",
       "    <tr>\n",
       "      <th>5</th>\n",
       "      <td>6</td>\n",
       "      <td>Aladdin</td>\n",
       "    </tr>\n",
       "    <tr>\n",
       "      <th>6</th>\n",
       "      <td>7</td>\n",
       "      <td>Aladdin Paperbacks</td>\n",
       "    </tr>\n",
       "    <tr>\n",
       "      <th>7</th>\n",
       "      <td>8</td>\n",
       "      <td>Albin Michel</td>\n",
       "    </tr>\n",
       "    <tr>\n",
       "      <th>8</th>\n",
       "      <td>9</td>\n",
       "      <td>Alfred A. Knopf</td>\n",
       "    </tr>\n",
       "    <tr>\n",
       "      <th>9</th>\n",
       "      <td>10</td>\n",
       "      <td>Alfred A. Knopf Books for Young Readers</td>\n",
       "    </tr>\n",
       "  </tbody>\n",
       "</table>\n",
       "</div>"
      ],
      "text/plain": [
       "   publisher_id                                publisher\n",
       "0             1                                      Ace\n",
       "1             2                                 Ace Book\n",
       "2             3                                Ace Books\n",
       "3             4                            Ace Hardcover\n",
       "4             5        Addison Wesley Publishing Company\n",
       "5             6                                  Aladdin\n",
       "6             7                       Aladdin Paperbacks\n",
       "7             8                             Albin Michel\n",
       "8             9                          Alfred A. Knopf\n",
       "9            10  Alfred A. Knopf Books for Young Readers"
      ]
     },
     "execution_count": 8,
     "metadata": {},
     "output_type": "execute_result"
    }
   ],
   "source": [
    "publishers.head(10)"
   ]
  },
  {
   "cell_type": "markdown",
   "id": "cbe13fbc",
   "metadata": {},
   "source": [
    "<a class=\"anchor\" id=\"section4\"></a>"
   ]
  },
  {
   "cell_type": "markdown",
   "id": "898f9ce3",
   "metadata": {},
   "source": [
    "### `ratings` table:"
   ]
  },
  {
   "cell_type": "markdown",
   "id": "47bd0b7d",
   "metadata": {},
   "source": [
    "Contains data on user ratings:\n",
    "\n",
    "- `rating_id`\n",
    "- `book_id`\n",
    "- `username` — the name of the user who rated the book\n",
    "- `rating`"
   ]
  },
  {
   "cell_type": "code",
   "execution_count": 9,
   "id": "f6887d9c",
   "metadata": {},
   "outputs": [],
   "source": [
    "query='''\n",
    "        SELECT\n",
    "            *\n",
    "        FROM\n",
    "            ratings\n",
    "        '''\n",
    "ratings=queryResult(query)"
   ]
  },
  {
   "cell_type": "code",
   "execution_count": 10,
   "id": "ada7c8d6",
   "metadata": {},
   "outputs": [
    {
     "data": {
      "text/html": [
       "<div>\n",
       "<style scoped>\n",
       "    .dataframe tbody tr th:only-of-type {\n",
       "        vertical-align: middle;\n",
       "    }\n",
       "\n",
       "    .dataframe tbody tr th {\n",
       "        vertical-align: top;\n",
       "    }\n",
       "\n",
       "    .dataframe thead th {\n",
       "        text-align: right;\n",
       "    }\n",
       "</style>\n",
       "<table border=\"1\" class=\"dataframe\">\n",
       "  <thead>\n",
       "    <tr style=\"text-align: right;\">\n",
       "      <th></th>\n",
       "      <th>rating_id</th>\n",
       "      <th>book_id</th>\n",
       "      <th>username</th>\n",
       "      <th>rating</th>\n",
       "    </tr>\n",
       "  </thead>\n",
       "  <tbody>\n",
       "    <tr>\n",
       "      <th>0</th>\n",
       "      <td>1</td>\n",
       "      <td>1</td>\n",
       "      <td>ryanfranco</td>\n",
       "      <td>4</td>\n",
       "    </tr>\n",
       "    <tr>\n",
       "      <th>1</th>\n",
       "      <td>2</td>\n",
       "      <td>1</td>\n",
       "      <td>grantpatricia</td>\n",
       "      <td>2</td>\n",
       "    </tr>\n",
       "    <tr>\n",
       "      <th>2</th>\n",
       "      <td>3</td>\n",
       "      <td>1</td>\n",
       "      <td>brandtandrea</td>\n",
       "      <td>5</td>\n",
       "    </tr>\n",
       "    <tr>\n",
       "      <th>3</th>\n",
       "      <td>4</td>\n",
       "      <td>2</td>\n",
       "      <td>lorichen</td>\n",
       "      <td>3</td>\n",
       "    </tr>\n",
       "    <tr>\n",
       "      <th>4</th>\n",
       "      <td>5</td>\n",
       "      <td>2</td>\n",
       "      <td>mariokeller</td>\n",
       "      <td>2</td>\n",
       "    </tr>\n",
       "    <tr>\n",
       "      <th>5</th>\n",
       "      <td>6</td>\n",
       "      <td>3</td>\n",
       "      <td>johnsonamanda</td>\n",
       "      <td>4</td>\n",
       "    </tr>\n",
       "    <tr>\n",
       "      <th>6</th>\n",
       "      <td>7</td>\n",
       "      <td>3</td>\n",
       "      <td>scotttamara</td>\n",
       "      <td>5</td>\n",
       "    </tr>\n",
       "    <tr>\n",
       "      <th>7</th>\n",
       "      <td>8</td>\n",
       "      <td>3</td>\n",
       "      <td>lesliegibbs</td>\n",
       "      <td>5</td>\n",
       "    </tr>\n",
       "    <tr>\n",
       "      <th>8</th>\n",
       "      <td>9</td>\n",
       "      <td>4</td>\n",
       "      <td>abbottjames</td>\n",
       "      <td>5</td>\n",
       "    </tr>\n",
       "    <tr>\n",
       "      <th>9</th>\n",
       "      <td>10</td>\n",
       "      <td>4</td>\n",
       "      <td>valenciaanne</td>\n",
       "      <td>4</td>\n",
       "    </tr>\n",
       "  </tbody>\n",
       "</table>\n",
       "</div>"
      ],
      "text/plain": [
       "   rating_id  book_id       username  rating\n",
       "0          1        1     ryanfranco       4\n",
       "1          2        1  grantpatricia       2\n",
       "2          3        1   brandtandrea       5\n",
       "3          4        2       lorichen       3\n",
       "4          5        2    mariokeller       2\n",
       "5          6        3  johnsonamanda       4\n",
       "6          7        3    scotttamara       5\n",
       "7          8        3    lesliegibbs       5\n",
       "8          9        4    abbottjames       5\n",
       "9         10        4   valenciaanne       4"
      ]
     },
     "execution_count": 10,
     "metadata": {},
     "output_type": "execute_result"
    }
   ],
   "source": [
    "ratings.head(10)"
   ]
  },
  {
   "cell_type": "markdown",
   "id": "b123b0ff",
   "metadata": {},
   "source": [
    "<a class=\"anchor\" id=\"section5\"></a>"
   ]
  },
  {
   "cell_type": "markdown",
   "id": "a65f12e9",
   "metadata": {},
   "source": [
    "### `reviews` table:"
   ]
  },
  {
   "cell_type": "markdown",
   "id": "57d9f92d",
   "metadata": {},
   "source": [
    "Contains data on customer reviews:\n",
    "\n",
    "- `review_id`\n",
    "- `book_id`\n",
    "- `username` — the name of the user who reviewed the book\n",
    "- `text` — the text of the review"
   ]
  },
  {
   "cell_type": "code",
   "execution_count": 11,
   "id": "a6f35a6d",
   "metadata": {},
   "outputs": [],
   "source": [
    "query='''\n",
    "        SELECT\n",
    "            *\n",
    "        FROM\n",
    "            reviews\n",
    "        '''\n",
    "reviews=queryResult(query)"
   ]
  },
  {
   "cell_type": "code",
   "execution_count": 12,
   "id": "ce87a8cb",
   "metadata": {},
   "outputs": [
    {
     "data": {
      "text/html": [
       "<div>\n",
       "<style scoped>\n",
       "    .dataframe tbody tr th:only-of-type {\n",
       "        vertical-align: middle;\n",
       "    }\n",
       "\n",
       "    .dataframe tbody tr th {\n",
       "        vertical-align: top;\n",
       "    }\n",
       "\n",
       "    .dataframe thead th {\n",
       "        text-align: right;\n",
       "    }\n",
       "</style>\n",
       "<table border=\"1\" class=\"dataframe\">\n",
       "  <thead>\n",
       "    <tr style=\"text-align: right;\">\n",
       "      <th></th>\n",
       "      <th>review_id</th>\n",
       "      <th>book_id</th>\n",
       "      <th>username</th>\n",
       "      <th>text</th>\n",
       "    </tr>\n",
       "  </thead>\n",
       "  <tbody>\n",
       "    <tr>\n",
       "      <th>0</th>\n",
       "      <td>1</td>\n",
       "      <td>1</td>\n",
       "      <td>brandtandrea</td>\n",
       "      <td>Mention society tell send professor analysis. ...</td>\n",
       "    </tr>\n",
       "    <tr>\n",
       "      <th>1</th>\n",
       "      <td>2</td>\n",
       "      <td>1</td>\n",
       "      <td>ryanfranco</td>\n",
       "      <td>Foot glass pretty audience hit themselves. Amo...</td>\n",
       "    </tr>\n",
       "    <tr>\n",
       "      <th>2</th>\n",
       "      <td>3</td>\n",
       "      <td>2</td>\n",
       "      <td>lorichen</td>\n",
       "      <td>Listen treat keep worry. Miss husband tax but ...</td>\n",
       "    </tr>\n",
       "    <tr>\n",
       "      <th>3</th>\n",
       "      <td>4</td>\n",
       "      <td>3</td>\n",
       "      <td>johnsonamanda</td>\n",
       "      <td>Finally month interesting blue could nature cu...</td>\n",
       "    </tr>\n",
       "    <tr>\n",
       "      <th>4</th>\n",
       "      <td>5</td>\n",
       "      <td>3</td>\n",
       "      <td>scotttamara</td>\n",
       "      <td>Nation purpose heavy give wait song will. List...</td>\n",
       "    </tr>\n",
       "  </tbody>\n",
       "</table>\n",
       "</div>"
      ],
      "text/plain": [
       "   review_id  book_id       username  \\\n",
       "0          1        1   brandtandrea   \n",
       "1          2        1     ryanfranco   \n",
       "2          3        2       lorichen   \n",
       "3          4        3  johnsonamanda   \n",
       "4          5        3    scotttamara   \n",
       "\n",
       "                                                text  \n",
       "0  Mention society tell send professor analysis. ...  \n",
       "1  Foot glass pretty audience hit themselves. Amo...  \n",
       "2  Listen treat keep worry. Miss husband tax but ...  \n",
       "3  Finally month interesting blue could nature cu...  \n",
       "4  Nation purpose heavy give wait song will. List...  "
      ]
     },
     "execution_count": 12,
     "metadata": {},
     "output_type": "execute_result"
    }
   ],
   "source": [
    "reviews.head()"
   ]
  },
  {
   "cell_type": "markdown",
   "id": "dae8fa7c",
   "metadata": {},
   "source": [
    "[Back to Table of Contents](#toc)"
   ]
  },
  {
   "cell_type": "markdown",
   "id": "3620d2be",
   "metadata": {},
   "source": [
    "<a class=\"anchor\" id=\"chapter4\"></a>"
   ]
  },
  {
   "cell_type": "markdown",
   "id": "7f1e2a4a",
   "metadata": {},
   "source": [
    "## Tasks\n",
    "\n",
    "- Find the number of books released after January 1, 2000.\n",
    "- Find the number of user reviews and the average rating for each book.\n",
    "- Identify the publisher that has released the greatest number of books with more than 50 pages (this will help you exclude brochures and similar publications from your analysis).\n",
    "- Identify the author with the highest average book rating (look only at books with at least 50 ratings).\n",
    "- Find the average number of text reviews among users who rated more than 50 books."
   ]
  },
  {
   "cell_type": "markdown",
   "id": "21cfe7e3",
   "metadata": {},
   "source": [
    "<a class=\"anchor\" id=\"section6\"></a>"
   ]
  },
  {
   "cell_type": "markdown",
   "id": "efc7af20",
   "metadata": {},
   "source": [
    "***1. Find the number of books released after January 1, 2000***"
   ]
  },
  {
   "cell_type": "code",
   "execution_count": 13,
   "id": "e512acd4",
   "metadata": {},
   "outputs": [
    {
     "data": {
      "text/html": [
       "<div>\n",
       "<style scoped>\n",
       "    .dataframe tbody tr th:only-of-type {\n",
       "        vertical-align: middle;\n",
       "    }\n",
       "\n",
       "    .dataframe tbody tr th {\n",
       "        vertical-align: top;\n",
       "    }\n",
       "\n",
       "    .dataframe thead th {\n",
       "        text-align: right;\n",
       "    }\n",
       "</style>\n",
       "<table border=\"1\" class=\"dataframe\">\n",
       "  <thead>\n",
       "    <tr style=\"text-align: right;\">\n",
       "      <th></th>\n",
       "      <th>total_books</th>\n",
       "    </tr>\n",
       "  </thead>\n",
       "  <tbody>\n",
       "    <tr>\n",
       "      <th>0</th>\n",
       "      <td>819</td>\n",
       "    </tr>\n",
       "  </tbody>\n",
       "</table>\n",
       "</div>"
      ],
      "text/plain": [
       "   total_books\n",
       "0          819"
      ]
     },
     "execution_count": 13,
     "metadata": {},
     "output_type": "execute_result"
    }
   ],
   "source": [
    "query='''\n",
    "SELECT\n",
    "    COUNT(\"book_id\") AS total_books\n",
    "FROM\n",
    "    books\n",
    "WHERE\n",
    "    \"publication_date\"::date > '2000-01-01'\n",
    "'''\n",
    "queryResult(query)"
   ]
  },
  {
   "cell_type": "markdown",
   "id": "26905eb8",
   "metadata": {},
   "source": [
    "There are a total of 819 books that were released after January 1, 2000."
   ]
  },
  {
   "cell_type": "markdown",
   "id": "b889e515",
   "metadata": {},
   "source": [
    "<a class=\"anchor\" id=\"section7\"></a>"
   ]
  },
  {
   "cell_type": "markdown",
   "id": "d406fe32",
   "metadata": {},
   "source": [
    "***2. Find the number of user reviews and the average rating for each book.***"
   ]
  },
  {
   "cell_type": "code",
   "execution_count": 14,
   "id": "2beff6c6",
   "metadata": {},
   "outputs": [
    {
     "data": {
      "text/html": [
       "<div>\n",
       "<style scoped>\n",
       "    .dataframe tbody tr th:only-of-type {\n",
       "        vertical-align: middle;\n",
       "    }\n",
       "\n",
       "    .dataframe tbody tr th {\n",
       "        vertical-align: top;\n",
       "    }\n",
       "\n",
       "    .dataframe thead th {\n",
       "        text-align: right;\n",
       "    }\n",
       "</style>\n",
       "<table border=\"1\" class=\"dataframe\">\n",
       "  <thead>\n",
       "    <tr style=\"text-align: right;\">\n",
       "      <th></th>\n",
       "      <th>book_id</th>\n",
       "      <th>title</th>\n",
       "      <th>num_of_reviews</th>\n",
       "      <th>avg_rating</th>\n",
       "    </tr>\n",
       "  </thead>\n",
       "  <tbody>\n",
       "    <tr>\n",
       "      <th>0</th>\n",
       "      <td>948</td>\n",
       "      <td>Twilight (Twilight  #1)</td>\n",
       "      <td>1120</td>\n",
       "      <td>3.662500</td>\n",
       "    </tr>\n",
       "    <tr>\n",
       "      <th>1</th>\n",
       "      <td>750</td>\n",
       "      <td>The Hobbit  or There and Back Again</td>\n",
       "      <td>528</td>\n",
       "      <td>4.125000</td>\n",
       "    </tr>\n",
       "    <tr>\n",
       "      <th>2</th>\n",
       "      <td>673</td>\n",
       "      <td>The Catcher in the Rye</td>\n",
       "      <td>516</td>\n",
       "      <td>3.825581</td>\n",
       "    </tr>\n",
       "    <tr>\n",
       "      <th>3</th>\n",
       "      <td>302</td>\n",
       "      <td>Harry Potter and the Prisoner of Azkaban (Harr...</td>\n",
       "      <td>492</td>\n",
       "      <td>4.414634</td>\n",
       "    </tr>\n",
       "    <tr>\n",
       "      <th>4</th>\n",
       "      <td>299</td>\n",
       "      <td>Harry Potter and the Chamber of Secrets (Harry...</td>\n",
       "      <td>480</td>\n",
       "      <td>4.287500</td>\n",
       "    </tr>\n",
       "    <tr>\n",
       "      <th>...</th>\n",
       "      <td>...</td>\n",
       "      <td>...</td>\n",
       "      <td>...</td>\n",
       "      <td>...</td>\n",
       "    </tr>\n",
       "    <tr>\n",
       "      <th>995</th>\n",
       "      <td>221</td>\n",
       "      <td>Essential Tales and Poems</td>\n",
       "      <td>0</td>\n",
       "      <td>4.000000</td>\n",
       "    </tr>\n",
       "    <tr>\n",
       "      <th>996</th>\n",
       "      <td>808</td>\n",
       "      <td>The Natural Way to Draw</td>\n",
       "      <td>0</td>\n",
       "      <td>3.000000</td>\n",
       "    </tr>\n",
       "    <tr>\n",
       "      <th>997</th>\n",
       "      <td>191</td>\n",
       "      <td>Disney's Beauty and the Beast (A Little Golden...</td>\n",
       "      <td>0</td>\n",
       "      <td>4.000000</td>\n",
       "    </tr>\n",
       "    <tr>\n",
       "      <th>998</th>\n",
       "      <td>83</td>\n",
       "      <td>Anne Rice's The Vampire Lestat: A Graphic Novel</td>\n",
       "      <td>0</td>\n",
       "      <td>3.666667</td>\n",
       "    </tr>\n",
       "    <tr>\n",
       "      <th>999</th>\n",
       "      <td>672</td>\n",
       "      <td>The Cat in the Hat and Other Dr. Seuss Favorites</td>\n",
       "      <td>0</td>\n",
       "      <td>5.000000</td>\n",
       "    </tr>\n",
       "  </tbody>\n",
       "</table>\n",
       "<p>1000 rows × 4 columns</p>\n",
       "</div>"
      ],
      "text/plain": [
       "     book_id                                              title  \\\n",
       "0        948                            Twilight (Twilight  #1)   \n",
       "1        750                The Hobbit  or There and Back Again   \n",
       "2        673                             The Catcher in the Rye   \n",
       "3        302  Harry Potter and the Prisoner of Azkaban (Harr...   \n",
       "4        299  Harry Potter and the Chamber of Secrets (Harry...   \n",
       "..       ...                                                ...   \n",
       "995      221                          Essential Tales and Poems   \n",
       "996      808                            The Natural Way to Draw   \n",
       "997      191  Disney's Beauty and the Beast (A Little Golden...   \n",
       "998       83    Anne Rice's The Vampire Lestat: A Graphic Novel   \n",
       "999      672   The Cat in the Hat and Other Dr. Seuss Favorites   \n",
       "\n",
       "     num_of_reviews  avg_rating  \n",
       "0              1120    3.662500  \n",
       "1               528    4.125000  \n",
       "2               516    3.825581  \n",
       "3               492    4.414634  \n",
       "4               480    4.287500  \n",
       "..              ...         ...  \n",
       "995               0    4.000000  \n",
       "996               0    3.000000  \n",
       "997               0    4.000000  \n",
       "998               0    3.666667  \n",
       "999               0    5.000000  \n",
       "\n",
       "[1000 rows x 4 columns]"
      ]
     },
     "execution_count": 14,
     "metadata": {},
     "output_type": "execute_result"
    }
   ],
   "source": [
    "query='''\n",
    "SELECT\n",
    "    books.\"book_id\",\n",
    "    books.\"title\",\n",
    "    COUNT(reviews.\"review_id\") AS num_of_reviews,\n",
    "    AVG(ratings.\"rating\") AS avg_rating\n",
    "FROM\n",
    "    reviews\n",
    "    RIGHT JOIN books ON reviews.\"book_id\" = books.\"book_id\"\n",
    "    RIGHT JOIN ratings ON books.\"book_id\" = ratings.\"book_id\"\n",
    "    \n",
    "GROUP BY\n",
    "    books.\"title\",books.\"book_id\"\n",
    "ORDER BY\n",
    "    num_of_reviews DESC;\n",
    "    \n",
    "'''\n",
    "\n",
    "\n",
    "queryResult(query)"
   ]
  },
  {
   "cell_type": "markdown",
   "id": "95234f77",
   "metadata": {},
   "source": [
    "The book with an average rating of 5 with the largest number of reviews is \"A Dirty Job (Grim Reaper #1)\"\n",
    "The book with the lowest average rating in the list is \"Harvesting the Heart\""
   ]
  },
  {
   "cell_type": "markdown",
   "id": "08380173",
   "metadata": {},
   "source": [
    "<a class=\"anchor\" id=\"section8\"></a>"
   ]
  },
  {
   "cell_type": "markdown",
   "id": "bcd04ac3",
   "metadata": {},
   "source": [
    "***3. Identify the publisher that has released the greatest number of books with more than 50 pages (this will help you exclude brochures and similar publications from your analysis).***"
   ]
  },
  {
   "cell_type": "code",
   "execution_count": 15,
   "id": "c13c0dad",
   "metadata": {},
   "outputs": [
    {
     "data": {
      "text/html": [
       "<div>\n",
       "<style scoped>\n",
       "    .dataframe tbody tr th:only-of-type {\n",
       "        vertical-align: middle;\n",
       "    }\n",
       "\n",
       "    .dataframe tbody tr th {\n",
       "        vertical-align: top;\n",
       "    }\n",
       "\n",
       "    .dataframe thead th {\n",
       "        text-align: right;\n",
       "    }\n",
       "</style>\n",
       "<table border=\"1\" class=\"dataframe\">\n",
       "  <thead>\n",
       "    <tr style=\"text-align: right;\">\n",
       "      <th></th>\n",
       "      <th>publisher</th>\n",
       "      <th>num_of_books</th>\n",
       "    </tr>\n",
       "  </thead>\n",
       "  <tbody>\n",
       "    <tr>\n",
       "      <th>0</th>\n",
       "      <td>Penguin Books</td>\n",
       "      <td>42</td>\n",
       "    </tr>\n",
       "  </tbody>\n",
       "</table>\n",
       "</div>"
      ],
      "text/plain": [
       "       publisher  num_of_books\n",
       "0  Penguin Books            42"
      ]
     },
     "execution_count": 15,
     "metadata": {},
     "output_type": "execute_result"
    }
   ],
   "source": [
    "query='''\n",
    "SELECT\n",
    "    publishers.\"publisher\",\n",
    "    COUNT(books.\"book_id\") AS num_of_books\n",
    "FROM\n",
    "    books\n",
    "    INNER JOIN publishers ON books.\"publisher_id\" = publishers.\"publisher_id\"\n",
    "WHERE\n",
    "    books.\"num_pages\" > 50\n",
    "GROUP BY\n",
    "    publishers.\"publisher\"\n",
    "ORDER BY\n",
    "    num_of_books DESC\n",
    "LIMIT(1)\n",
    "'''\n",
    "queryResult(query)"
   ]
  },
  {
   "cell_type": "markdown",
   "id": "56bdca3d",
   "metadata": {},
   "source": [
    "The publisher that has released the greatest number of books with more than 50 pages is \"Penguin Books\" with 42 total books."
   ]
  },
  {
   "cell_type": "markdown",
   "id": "63c6d8c0",
   "metadata": {},
   "source": [
    "<a class=\"anchor\" id=\"section9\"></a>"
   ]
  },
  {
   "cell_type": "markdown",
   "id": "431ca6f0",
   "metadata": {},
   "source": [
    "***4. Identify the author with the highest average book rating (look only at books with at least 50 ratings).***"
   ]
  },
  {
   "cell_type": "code",
   "execution_count": 16,
   "id": "28f01ea4",
   "metadata": {},
   "outputs": [
    {
     "data": {
      "text/html": [
       "<div>\n",
       "<style scoped>\n",
       "    .dataframe tbody tr th:only-of-type {\n",
       "        vertical-align: middle;\n",
       "    }\n",
       "\n",
       "    .dataframe tbody tr th {\n",
       "        vertical-align: top;\n",
       "    }\n",
       "\n",
       "    .dataframe thead th {\n",
       "        text-align: right;\n",
       "    }\n",
       "</style>\n",
       "<table border=\"1\" class=\"dataframe\">\n",
       "  <thead>\n",
       "    <tr style=\"text-align: right;\">\n",
       "      <th></th>\n",
       "      <th>author_id</th>\n",
       "      <th>author</th>\n",
       "      <th>avg_rating</th>\n",
       "    </tr>\n",
       "  </thead>\n",
       "  <tbody>\n",
       "    <tr>\n",
       "      <th>0</th>\n",
       "      <td>236</td>\n",
       "      <td>J.K. Rowling/Mary GrandPré</td>\n",
       "      <td>4.288462</td>\n",
       "    </tr>\n",
       "  </tbody>\n",
       "</table>\n",
       "</div>"
      ],
      "text/plain": [
       "   author_id                      author  avg_rating\n",
       "0        236  J.K. Rowling/Mary GrandPré    4.288462"
      ]
     },
     "execution_count": 16,
     "metadata": {},
     "output_type": "execute_result"
    }
   ],
   "source": [
    "query='''\n",
    "SELECT\n",
    "    books.\"author_id\",\n",
    "    authors.\"author\",\n",
    "    AVG(ratings.\"rating\") AS avg_rating\n",
    "FROM\n",
    "    authors RIGHT JOIN books \n",
    "        ON authors.\"author_id\" = books.\"author_id\"\n",
    "    RIGHT JOIN ratings \n",
    "        ON books.\"book_id\" = ratings.\"book_id\"\n",
    "GROUP BY\n",
    "    books.\"author_id\", authors.\"author\"\n",
    "HAVING\n",
    "    COUNT(ratings.\"rating_id\") > 50\n",
    "ORDER BY\n",
    "    avg_rating DESC\n",
    "LIMIT (1)\n",
    "'''\n",
    "queryResult(query)\n",
    "\n"
   ]
  },
  {
   "cell_type": "markdown",
   "id": "8dd85142",
   "metadata": {},
   "source": [
    "J.K. Rowling/Mary GrandPré is the author with the highest average book rating of 4.3 (that has at least 50 ratings)."
   ]
  },
  {
   "cell_type": "markdown",
   "id": "c0ddaa9c",
   "metadata": {},
   "source": [
    "<a class=\"anchor\" id=\"section10\"></a>"
   ]
  },
  {
   "cell_type": "markdown",
   "id": "523cf82d",
   "metadata": {},
   "source": [
    "***5. Find the average number of text reviews among users who rated more than 50 books.***"
   ]
  },
  {
   "cell_type": "code",
   "execution_count": 17,
   "id": "f2f22fe9",
   "metadata": {},
   "outputs": [
    {
     "data": {
      "text/html": [
       "<div>\n",
       "<style scoped>\n",
       "    .dataframe tbody tr th:only-of-type {\n",
       "        vertical-align: middle;\n",
       "    }\n",
       "\n",
       "    .dataframe tbody tr th {\n",
       "        vertical-align: top;\n",
       "    }\n",
       "\n",
       "    .dataframe thead th {\n",
       "        text-align: right;\n",
       "    }\n",
       "</style>\n",
       "<table border=\"1\" class=\"dataframe\">\n",
       "  <thead>\n",
       "    <tr style=\"text-align: right;\">\n",
       "      <th></th>\n",
       "      <th>text_avg</th>\n",
       "    </tr>\n",
       "  </thead>\n",
       "  <tbody>\n",
       "    <tr>\n",
       "      <th>0</th>\n",
       "      <td>24.333333</td>\n",
       "    </tr>\n",
       "  </tbody>\n",
       "</table>\n",
       "</div>"
      ],
      "text/plain": [
       "    text_avg\n",
       "0  24.333333"
      ]
     },
     "execution_count": 17,
     "metadata": {},
     "output_type": "execute_result"
    }
   ],
   "source": [
    "query='''\n",
    "SELECT\n",
    "    AVG(text_cnt) AS text_avg\n",
    "    FROM(\n",
    "        SELECT \n",
    "            t_M_rate.username,\n",
    "            rate_cnt,\n",
    "            count(text) AS text_cnt\n",
    "        FROM (\n",
    "                (SELECT\n",
    "                    *      \n",
    "                FROM (\n",
    "                    SELECT\n",
    "                        ratings.\"username\",\n",
    "                        COUNT(ratings.\"username\") AS rate_cnt\n",
    "                    FROM ratings \n",
    "                    GROUP BY ratings.\"username\"\n",
    "                    ) AS t_rate\n",
    "                WHERE\n",
    "                    rate_cnt>50\n",
    "                ) AS t_M_rate\n",
    "            left join \n",
    "                (SELECT \n",
    "                    reviews.\"username\",\n",
    "                    reviews.text\n",
    "                FROM reviews\n",
    "                ) as t_M_reviews\n",
    "            ON t_M_rate.\"username\" = t_M_reviews.\"username\"\n",
    "        )\n",
    "        GROUP BY t_M_rate.username , rate_cnt\n",
    "    ) AS T\n",
    "'''\n",
    "queryResult(query)"
   ]
  },
  {
   "cell_type": "markdown",
   "id": "61f7fd7d",
   "metadata": {},
   "source": [
    "The average number of text reviews among users who rated more than 50 books is 24.333"
   ]
  },
  {
   "cell_type": "markdown",
   "id": "08d87efd",
   "metadata": {},
   "source": [
    "[Back to Table of Contents](#toc)"
   ]
  }
 ],
 "metadata": {
  "ExecuteTimeLog": [
   {
    "duration": 558,
    "start_time": "2022-01-21T16:51:35.269Z"
   },
   {
    "duration": 3,
    "start_time": "2022-01-21T16:51:35.828Z"
   },
   {
    "duration": 300,
    "start_time": "2022-01-21T16:51:35.832Z"
   },
   {
    "duration": 13,
    "start_time": "2022-01-21T16:51:36.134Z"
   },
   {
    "duration": 79,
    "start_time": "2022-01-21T16:51:36.149Z"
   },
   {
    "duration": 7,
    "start_time": "2022-01-21T16:51:36.229Z"
   },
   {
    "duration": 76,
    "start_time": "2022-01-21T16:51:36.237Z"
   },
   {
    "duration": 6,
    "start_time": "2022-01-21T16:51:36.315Z"
   },
   {
    "duration": 112,
    "start_time": "2022-01-21T16:51:36.323Z"
   },
   {
    "duration": 7,
    "start_time": "2022-01-21T16:51:36.437Z"
   },
   {
    "duration": 95,
    "start_time": "2022-01-21T16:51:36.445Z"
   },
   {
    "duration": 7,
    "start_time": "2022-01-21T16:51:36.542Z"
   },
   {
    "duration": 80,
    "start_time": "2022-01-21T16:51:36.551Z"
   },
   {
    "duration": 95,
    "start_time": "2022-01-21T16:51:36.633Z"
   },
   {
    "duration": 77,
    "start_time": "2022-01-21T16:51:36.730Z"
   },
   {
    "duration": 84,
    "start_time": "2022-01-21T16:51:36.809Z"
   },
   {
    "duration": 79,
    "start_time": "2022-01-21T16:51:36.895Z"
   },
   {
    "duration": 1253,
    "start_time": "2022-01-21T19:40:28.442Z"
   },
   {
    "duration": 3,
    "start_time": "2022-01-21T19:40:29.697Z"
   },
   {
    "duration": 147,
    "start_time": "2022-01-21T19:40:29.702Z"
   },
   {
    "duration": 14,
    "start_time": "2022-01-21T19:40:29.851Z"
   },
   {
    "duration": 9,
    "start_time": "2022-01-21T19:40:29.866Z"
   },
   {
    "duration": 7,
    "start_time": "2022-01-21T19:40:29.877Z"
   },
   {
    "duration": 14,
    "start_time": "2022-01-21T19:40:29.885Z"
   },
   {
    "duration": 6,
    "start_time": "2022-01-21T19:40:29.901Z"
   },
   {
    "duration": 23,
    "start_time": "2022-01-21T19:40:29.909Z"
   },
   {
    "duration": 7,
    "start_time": "2022-01-21T19:40:29.934Z"
   },
   {
    "duration": 17,
    "start_time": "2022-01-21T19:40:29.942Z"
   },
   {
    "duration": 11,
    "start_time": "2022-01-21T19:40:29.961Z"
   },
   {
    "duration": 10,
    "start_time": "2022-01-21T19:40:29.974Z"
   },
   {
    "duration": 30,
    "start_time": "2022-01-21T19:40:29.986Z"
   },
   {
    "duration": 11,
    "start_time": "2022-01-21T19:40:30.018Z"
   },
   {
    "duration": 22,
    "start_time": "2022-01-21T19:40:30.030Z"
   },
   {
    "duration": 12,
    "start_time": "2022-01-21T19:40:30.054Z"
   },
   {
    "duration": 19,
    "start_time": "2022-01-21T19:41:01.652Z"
   },
   {
    "duration": 26,
    "start_time": "2022-01-21T19:41:59.481Z"
   },
   {
    "duration": 34,
    "start_time": "2022-01-21T19:43:37.364Z"
   },
   {
    "duration": 28,
    "start_time": "2022-01-21T19:43:42.276Z"
   },
   {
    "duration": 27,
    "start_time": "2022-01-21T19:44:57.830Z"
   },
   {
    "duration": 27,
    "start_time": "2022-01-21T19:45:03.559Z"
   },
   {
    "duration": 26,
    "start_time": "2022-01-21T19:45:49.910Z"
   },
   {
    "duration": 27,
    "start_time": "2022-01-21T19:45:54.906Z"
   },
   {
    "duration": 27,
    "start_time": "2022-01-21T19:46:00.567Z"
   },
   {
    "duration": 679,
    "start_time": "2022-01-21T19:46:44.806Z"
   },
   {
    "duration": 28,
    "start_time": "2022-01-21T19:47:09.664Z"
   },
   {
    "duration": 30,
    "start_time": "2022-01-21T19:47:16.794Z"
   },
   {
    "duration": 29,
    "start_time": "2022-01-21T19:47:58.832Z"
   },
   {
    "duration": 34,
    "start_time": "2022-01-21T19:48:26.144Z"
   },
   {
    "duration": 35,
    "start_time": "2022-01-21T19:48:32.616Z"
   },
   {
    "duration": 29,
    "start_time": "2022-01-21T19:48:36.560Z"
   },
   {
    "duration": 718,
    "start_time": "2022-01-21T19:50:03.093Z"
   },
   {
    "duration": 591,
    "start_time": "2022-01-21T19:50:51.476Z"
   },
   {
    "duration": 787,
    "start_time": "2022-01-21T19:51:12.037Z"
   },
   {
    "duration": 16,
    "start_time": "2022-01-21T19:51:58.375Z"
   },
   {
    "duration": 16,
    "start_time": "2022-01-21T19:54:16.278Z"
   },
   {
    "duration": 597,
    "start_time": "2022-01-21T19:56:08.096Z"
   },
   {
    "duration": 19,
    "start_time": "2022-01-21T19:57:15.994Z"
   },
   {
    "duration": 17,
    "start_time": "2022-01-21T19:58:03.809Z"
   },
   {
    "duration": 614,
    "start_time": "2022-01-21T19:58:37.100Z"
   },
   {
    "duration": 17,
    "start_time": "2022-01-21T19:59:24.355Z"
   },
   {
    "duration": 17,
    "start_time": "2022-01-21T19:59:32.169Z"
   },
   {
    "duration": 16,
    "start_time": "2022-01-21T19:59:38.540Z"
   },
   {
    "duration": 17,
    "start_time": "2022-01-21T20:00:01.715Z"
   },
   {
    "duration": 611,
    "start_time": "2022-01-21T20:00:20.141Z"
   },
   {
    "duration": 16,
    "start_time": "2022-01-21T20:00:27.595Z"
   },
   {
    "duration": 18,
    "start_time": "2022-01-21T20:01:04.237Z"
   },
   {
    "duration": 17,
    "start_time": "2022-01-21T20:01:28.387Z"
   },
   {
    "duration": 18,
    "start_time": "2022-01-21T20:01:36.006Z"
   },
   {
    "duration": 29,
    "start_time": "2022-01-21T20:08:35.596Z"
   },
   {
    "duration": 27,
    "start_time": "2022-01-21T20:15:18.657Z"
   },
   {
    "duration": 2,
    "start_time": "2022-01-21T20:30:01.846Z"
   },
   {
    "duration": 27,
    "start_time": "2022-01-21T20:30:26.003Z"
   },
   {
    "duration": 26,
    "start_time": "2022-01-21T20:31:08.110Z"
   },
   {
    "duration": 609,
    "start_time": "2022-01-21T20:32:49.182Z"
   },
   {
    "duration": 16,
    "start_time": "2022-01-21T20:33:28.271Z"
   },
   {
    "duration": 633,
    "start_time": "2022-01-22T09:27:42.347Z"
   },
   {
    "duration": 3,
    "start_time": "2022-01-22T09:27:42.982Z"
   },
   {
    "duration": 346,
    "start_time": "2022-01-22T09:27:42.987Z"
   },
   {
    "duration": 17,
    "start_time": "2022-01-22T09:27:43.335Z"
   },
   {
    "duration": 19,
    "start_time": "2022-01-22T09:27:43.354Z"
   },
   {
    "duration": 8,
    "start_time": "2022-01-22T09:27:43.375Z"
   },
   {
    "duration": 18,
    "start_time": "2022-01-22T09:27:43.385Z"
   },
   {
    "duration": 8,
    "start_time": "2022-01-22T09:27:43.406Z"
   },
   {
    "duration": 31,
    "start_time": "2022-01-22T09:27:43.416Z"
   },
   {
    "duration": 10,
    "start_time": "2022-01-22T09:27:43.448Z"
   },
   {
    "duration": 26,
    "start_time": "2022-01-22T09:27:43.459Z"
   },
   {
    "duration": 12,
    "start_time": "2022-01-22T09:27:43.487Z"
   },
   {
    "duration": 31,
    "start_time": "2022-01-22T09:27:43.501Z"
   },
   {
    "duration": 42,
    "start_time": "2022-01-22T09:27:43.534Z"
   },
   {
    "duration": 11,
    "start_time": "2022-01-22T09:27:43.578Z"
   },
   {
    "duration": 22,
    "start_time": "2022-01-22T09:27:43.591Z"
   },
   {
    "duration": 15,
    "start_time": "2022-01-22T09:27:43.614Z"
   }
  ],
  "kernelspec": {
   "display_name": "Python 3",
   "language": "python",
   "name": "python3"
  },
  "language_info": {
   "codemirror_mode": {
    "name": "ipython",
    "version": 3
   },
   "file_extension": ".py",
   "mimetype": "text/x-python",
   "name": "python",
   "nbconvert_exporter": "python",
   "pygments_lexer": "ipython3",
   "version": "3.8.8"
  },
  "toc": {
   "base_numbering": 1,
   "nav_menu": {},
   "number_sections": true,
   "sideBar": true,
   "skip_h1_title": true,
   "title_cell": "Table of Contents",
   "title_sidebar": "Contents",
   "toc_cell": false,
   "toc_position": {},
   "toc_section_display": true,
   "toc_window_display": false
  }
 },
 "nbformat": 4,
 "nbformat_minor": 5
}
